{
 "cells": [
  {
   "cell_type": "code",
   "execution_count": 7,
   "id": "04542879",
   "metadata": {},
   "outputs": [
    {
     "name": "stdout",
     "output_type": "stream",
     "text": [
      "time: 344 µs (started: 2022-06-12 15:45:47 +00:00)\n"
     ]
    }
   ],
   "source": [
    "import pandas as pd \n",
    "import numpy as np\n",
    "import sys\n",
    "sys.path.append(\"../utils/\")\n",
    "from recsys_metric import mrr"
   ]
  },
  {
   "cell_type": "code",
   "execution_count": 65,
   "id": "66cbeea1",
   "metadata": {},
   "outputs": [
    {
     "data": {
      "text/html": [
       "<div>\n",
       "<style scoped>\n",
       "    .dataframe tbody tr th:only-of-type {\n",
       "        vertical-align: middle;\n",
       "    }\n",
       "\n",
       "    .dataframe tbody tr th {\n",
       "        vertical-align: top;\n",
       "    }\n",
       "\n",
       "    .dataframe thead th {\n",
       "        text-align: right;\n",
       "    }\n",
       "</style>\n",
       "<table border=\"1\" class=\"dataframe\">\n",
       "  <thead>\n",
       "    <tr style=\"text-align: right;\">\n",
       "      <th></th>\n",
       "      <th>session_id</th>\n",
       "      <th>item_id</th>\n",
       "      <th>rank</th>\n",
       "    </tr>\n",
       "  </thead>\n",
       "  <tbody>\n",
       "    <tr>\n",
       "      <th>0</th>\n",
       "      <td>26</td>\n",
       "      <td>3260</td>\n",
       "      <td>1</td>\n",
       "    </tr>\n",
       "    <tr>\n",
       "      <th>1</th>\n",
       "      <td>26</td>\n",
       "      <td>5383</td>\n",
       "      <td>2</td>\n",
       "    </tr>\n",
       "    <tr>\n",
       "      <th>2</th>\n",
       "      <td>26</td>\n",
       "      <td>16312</td>\n",
       "      <td>3</td>\n",
       "    </tr>\n",
       "    <tr>\n",
       "      <th>3</th>\n",
       "      <td>26</td>\n",
       "      <td>27921</td>\n",
       "      <td>4</td>\n",
       "    </tr>\n",
       "    <tr>\n",
       "      <th>4</th>\n",
       "      <td>26</td>\n",
       "      <td>2213</td>\n",
       "      <td>5</td>\n",
       "    </tr>\n",
       "  </tbody>\n",
       "</table>\n",
       "</div>"
      ],
      "text/plain": [
       "   session_id  item_id  rank\n",
       "0          26     3260     1\n",
       "1          26     5383     2\n",
       "2          26    16312     3\n",
       "3          26    27921     4\n",
       "4          26     2213     5"
      ]
     },
     "execution_count": 65,
     "metadata": {},
     "output_type": "execute_result"
    },
    {
     "name": "stdout",
     "output_type": "stream",
     "text": [
      "time: 511 ms (started: 2022-06-14 02:31:02 +00:00)\n"
     ]
    }
   ],
   "source": [
    "itemcf = pd.read_csv(\"../datasets/results/leader_itemcf_k8000_train_purchases_5m_leader_candidate_filter_0613.csv\")\n",
    "itemcf.head()"
   ]
  },
  {
   "cell_type": "code",
   "execution_count": 66,
   "id": "86820741",
   "metadata": {},
   "outputs": [
    {
     "data": {
      "text/html": [
       "<div>\n",
       "<style scoped>\n",
       "    .dataframe tbody tr th:only-of-type {\n",
       "        vertical-align: middle;\n",
       "    }\n",
       "\n",
       "    .dataframe tbody tr th {\n",
       "        vertical-align: top;\n",
       "    }\n",
       "\n",
       "    .dataframe thead th {\n",
       "        text-align: right;\n",
       "    }\n",
       "</style>\n",
       "<table border=\"1\" class=\"dataframe\">\n",
       "  <thead>\n",
       "    <tr style=\"text-align: right;\">\n",
       "      <th></th>\n",
       "      <th>session_id</th>\n",
       "      <th>item_id</th>\n",
       "      <th>rank</th>\n",
       "    </tr>\n",
       "  </thead>\n",
       "  <tbody>\n",
       "    <tr>\n",
       "      <th>0</th>\n",
       "      <td>26</td>\n",
       "      <td>19185</td>\n",
       "      <td>1</td>\n",
       "    </tr>\n",
       "    <tr>\n",
       "      <th>1</th>\n",
       "      <td>26</td>\n",
       "      <td>3260</td>\n",
       "      <td>2</td>\n",
       "    </tr>\n",
       "    <tr>\n",
       "      <th>2</th>\n",
       "      <td>26</td>\n",
       "      <td>17740</td>\n",
       "      <td>3</td>\n",
       "    </tr>\n",
       "    <tr>\n",
       "      <th>3</th>\n",
       "      <td>26</td>\n",
       "      <td>22166</td>\n",
       "      <td>4</td>\n",
       "    </tr>\n",
       "    <tr>\n",
       "      <th>4</th>\n",
       "      <td>26</td>\n",
       "      <td>18418</td>\n",
       "      <td>5</td>\n",
       "    </tr>\n",
       "  </tbody>\n",
       "</table>\n",
       "</div>"
      ],
      "text/plain": [
       "   session_id  item_id  rank\n",
       "0          26    19185     1\n",
       "1          26     3260     2\n",
       "2          26    17740     3\n",
       "3          26    22166     4\n",
       "4          26    18418     5"
      ]
     },
     "execution_count": 66,
     "metadata": {},
     "output_type": "execute_result"
    },
    {
     "name": "stdout",
     "output_type": "stream",
     "text": [
      "time: 508 ms (started: 2022-06-14 02:31:06 +00:00)\n"
     ]
    }
   ],
   "source": [
    "tfidf = pd.read_csv(\"../datasets/results/leader_tfidf_train_purchases_con_test_last_05_0601.csv\")\n",
    "tfidf.head()"
   ]
  },
  {
   "cell_type": "code",
   "execution_count": 51,
   "id": "9d848511",
   "metadata": {},
   "outputs": [
    {
     "name": "stdout",
     "output_type": "stream",
     "text": [
      "time: 817 µs (started: 2022-06-12 16:50:19 +00:00)\n"
     ]
    }
   ],
   "source": [
    "# def ensable_df(df1,df2,ratio=0.5):\n",
    "#     '''\n",
    "#     given two df of rank return weighted rank\n",
    "#     ratio = df1_ration:df2_ration = 1:0.5 (default)\n",
    "#     '''\n",
    "#     df1_r,df2_r = 1,1*ratio\n",
    "#     df1[\"rank\"] ,df2[\"rank\"]  = 1/df1[\"rank\"]*df1_r,1/df2[\"rank\"]*df2_r\n",
    "#     re_lst =[]\n",
    "#     for idx in range(100,len(df1)+1,100):\n",
    "#         buf_lst=[]\n",
    "#         df1_s = df1.iloc[idx-100:idx]\n",
    "#         df2_s = df2.iloc[idx-100:idx]\n",
    "#         s_id = df1_s.session_id.unique()\n",
    "#         total_df = (pd.concat([df1_s,df2_s],ignore_index=True))\n",
    "#         for item_id in total_df.item_id.unique():\n",
    "#             if item_id != -1:\n",
    "#                 buf_lst.append((s_id[0],item_id,sum(total_df[\"rank\"][total_df[\"item_id\"]==item_id])))\n",
    "#         buf_lst.sort(key=lambda x: x[2],reverse=True)\n",
    "#         re_lst+=(buf_lst[:100])#take top 100\n",
    "#     df = pd.DataFrame(re_lst,columns=['session_id', 'item_id', 'rank'])\n",
    "#     return df\n",
    "\n",
    "\n",
    "def ensable_df(itemcf_df, tfidf_df,ratio=0.5): \n",
    "    tmp = pd.merge(itemcf_df, tfidf_df, on=[\"session_id\", \"item_id\"], how=\"outer\", suffixes=[\"_itemcf\", \"_tfidf\"]).fillna(10000)\n",
    "    tmp['rank_itemcf_rec'] = 1/tmp['rank_itemcf']\n",
    "    tmp['rank_tfidf_rec'] = 1/tmp['rank_tfidf']\n",
    "    tmp.loc[tmp['rank_itemcf_rec']<0.01,'rank_itemcf_rec']=0\n",
    "    tmp.loc[tmp['rank_tfidf_rec']<0.01,'rank_tfidf_rec']=0\n",
    "    tmp['score'] = tmp['rank_itemcf_rec'] + ratio*tmp['rank_tfidf_rec']\n",
    "    tmp = tmp.sort_values(['score'], ascending=False).groupby('session_id').head(100).sort_values(['session_id', 'score'], ascending=[True, False])\n",
    "    tmp['rank'] = list(range(1,101))*tmp['session_id'].nunique()\n",
    "    res_df = tmp.loc[:, ['session_id', 'item_id', 'rank']]\n",
    "    return res_df\n"
   ]
  },
  {
   "cell_type": "code",
   "execution_count": 75,
   "id": "24faf62f-bc1b-4036-ab8d-04f461ec2997",
   "metadata": {},
   "outputs": [
    {
     "name": "stdout",
     "output_type": "stream",
     "text": [
      "0.17099863193401307\n",
      "time: 12.8 s (started: 2022-06-14 02:38:07 +00:00)\n"
     ]
    }
   ],
   "source": [
    "itemcf = pd.read_csv(\"../datasets/results/itemcf_1m_en.csv\")\n",
    "tfidf = pd.read_csv(\"../datasets/results/tfidf_1m_en.csv\")\n",
    "ens_df = ensable_df(itemcf,tfidf,ratio=0.0001)\n",
    "eva_res = ens_df \n",
    "eva_label = pd.read_csv('../datasets/purchases_last_1m.csv')\n",
    "mrr_score = mrr(eva_res, eva_label, overview=False)\n",
    "\n",
    "print(mrr_score)"
   ]
  },
  {
   "cell_type": "code",
   "execution_count": 67,
   "id": "d5afe382-96c4-4a28-b54a-e09069cc390a",
   "metadata": {},
   "outputs": [
    {
     "name": "stdout",
     "output_type": "stream",
     "text": [
      "time: 9.06 s (started: 2022-06-14 02:31:47 +00:00)\n"
     ]
    }
   ],
   "source": [
    "itemcf = pd.read_csv(\"../datasets/results/leader_itemcf_k8000_train_purchases_5m_leader_candidate_filter_0613.csv\")\n",
    "tfidf = pd.read_csv(\"../datasets/results/leader_tfidf_train_purchases_con_test_last_05_0601.csv\")\n",
    "res_df = ensable_df(itemcf,tfidf,ratio=0.02)\n",
    "res_df.to_csv(\"../datasets/results/leader_en002_tfidf_train_purchases_con_test_last_05_itemcf_k8000_train_purchases_5m_leader_candidate_filter.csv\", index=False)"
   ]
  },
  {
   "cell_type": "code",
   "execution_count": null,
   "id": "4d5687d9",
   "metadata": {},
   "outputs": [],
   "source": [
    "# def multi_proc(df1_path,df2_path,n_jobs):\n",
    "#     files = list(os.listdir(session_path))\n",
    "# \t#split = int(len(files)/n_jobs)\n",
    "#     count=0\n",
    "#     jobs =[]\n",
    "#     manager = mp.Manager()#define shared class\n",
    "#     return_dict = manager.list()\n",
    "#     while(count != len(files)):\n",
    "#         for i in range(n_jobs):\n",
    "#             if count == len(files):\n",
    "#                 break\n",
    "#             p = mp.Process(target=sessions2vec,args=(item_path,session_path+files[count],return_dict))\n",
    "#             count+=1\n",
    "#             jobs.append(p)\n",
    "#             p.start()\n",
    "#         for proc in jobs:\n",
    "#             proc.join()\n",
    "#     print(len(return_dict))\n",
    "#     return return_dict.copy()"
   ]
  }
 ],
 "metadata": {
  "kernelspec": {
   "display_name": "Python 3 (ipykernel)",
   "language": "python",
   "name": "python3"
  },
  "language_info": {
   "codemirror_mode": {
    "name": "ipython",
    "version": 3
   },
   "file_extension": ".py",
   "mimetype": "text/x-python",
   "name": "python",
   "nbconvert_exporter": "python",
   "pygments_lexer": "ipython3",
   "version": "3.8.10"
  }
 },
 "nbformat": 4,
 "nbformat_minor": 5
}
