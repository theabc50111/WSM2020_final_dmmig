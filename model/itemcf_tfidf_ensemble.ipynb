{
 "cells": [
  {
   "cell_type": "code",
   "execution_count": 1,
   "id": "04542879",
   "metadata": {},
   "outputs": [
    {
     "name": "stdout",
     "output_type": "stream",
     "text": [
      "time: 173 ms (started: 2022-06-14 03:32:31 +00:00)\n"
     ]
    }
   ],
   "source": [
    "import pandas as pd \n",
    "import numpy as np\n",
    "import sys\n",
    "sys.path.append(\"../utils/\")\n",
    "from recsys_metric import mrr"
   ]
  },
  {
   "cell_type": "code",
   "execution_count": null,
   "id": "66cbeea1",
   "metadata": {},
   "outputs": [],
   "source": [
    "itemcf = pd.read_csv(\"../datasets/results/leader_itemcf_k8000_train_purchases_5m_leader_candidate_filter_0613.csv\")\n",
    "itemcf.head()"
   ]
  },
  {
   "cell_type": "code",
   "execution_count": null,
   "id": "86820741",
   "metadata": {},
   "outputs": [],
   "source": [
    "tfidf = pd.read_csv(\"../datasets/results/leader_tfidf_train_purchases_con_test_last_05_0601.csv\")\n",
    "tfidf.head()"
   ]
  },
  {
   "cell_type": "code",
   "execution_count": 3,
   "id": "9d848511",
   "metadata": {},
   "outputs": [
    {
     "name": "stdout",
     "output_type": "stream",
     "text": [
      "time: 1.31 ms (started: 2022-06-14 03:32:39 +00:00)\n"
     ]
    }
   ],
   "source": [
    "# def ensable_df(df1,df2,ratio=0.5):\n",
    "#     '''\n",
    "#     given two df of rank return weighted rank\n",
    "#     ratio = df1_ration:df2_ration = 1:0.5 (default)\n",
    "#     '''\n",
    "#     df1_r,df2_r = 1,1*ratio\n",
    "#     df1[\"rank\"] ,df2[\"rank\"]  = 1/df1[\"rank\"]*df1_r,1/df2[\"rank\"]*df2_r\n",
    "#     re_lst =[]\n",
    "#     for idx in range(100,len(df1)+1,100):\n",
    "#         buf_lst=[]\n",
    "#         df1_s = df1.iloc[idx-100:idx]\n",
    "#         df2_s = df2.iloc[idx-100:idx]\n",
    "#         s_id = df1_s.session_id.unique()\n",
    "#         total_df = (pd.concat([df1_s,df2_s],ignore_index=True))\n",
    "#         for item_id in total_df.item_id.unique():\n",
    "#             if item_id != -1:\n",
    "#                 buf_lst.append((s_id[0],item_id,sum(total_df[\"rank\"][total_df[\"item_id\"]==item_id])))\n",
    "#         buf_lst.sort(key=lambda x: x[2],reverse=True)\n",
    "#         re_lst+=(buf_lst[:100])#take top 100\n",
    "#     df = pd.DataFrame(re_lst,columns=['session_id', 'item_id', 'rank'])\n",
    "#     return df\n",
    "\n",
    "\n",
    "def ensable_df(itemcf_df, tfidf_df,ratio=0.5): \n",
    "    tmp = pd.merge(itemcf_df, tfidf_df, on=[\"session_id\", \"item_id\"], how=\"outer\", suffixes=[\"_itemcf\", \"_tfidf\"]).fillna(10000)\n",
    "    tmp['rank_itemcf_rec'] = 1/tmp['rank_itemcf']\n",
    "    tmp['rank_tfidf_rec'] = 1/tmp['rank_tfidf']\n",
    "    tmp.loc[tmp['rank_itemcf_rec']<0.01,'rank_itemcf_rec']=0\n",
    "    tmp.loc[tmp['rank_tfidf_rec']<0.01,'rank_tfidf_rec']=0\n",
    "    tmp['score'] = tmp['rank_itemcf_rec'] + ratio*tmp['rank_tfidf_rec']\n",
    "    tmp = tmp.sort_values(['score'], ascending=False).groupby('session_id').head(100).sort_values(['session_id', 'score'], ascending=[True, False])\n",
    "    tmp['rank'] = list(range(1,101))*tmp['session_id'].nunique()\n",
    "    res_df = tmp.loc[:, ['session_id', 'item_id', 'rank']]\n",
    "    return res_df\n"
   ]
  },
  {
   "cell_type": "code",
   "execution_count": null,
   "id": "24faf62f-bc1b-4036-ab8d-04f461ec2997",
   "metadata": {},
   "outputs": [],
   "source": [
    "itemcf = pd.read_csv(\"../datasets/results/itemcf_1m_en.csv\")\n",
    "tfidf = pd.read_csv(\"../datasets/results/tfidf_1m_en.csv\")\n",
    "ens_df = ensable_df(itemcf,tfidf,ratio=0.02)\n",
    "eva_res = ens_df \n",
    "eva_label = pd.read_csv('../datasets/purchases_last_1m.csv')\n",
    "mrr_score = mrr(eva_res, eva_label, overview=False)\n",
    "\n",
    "print(mrr_score)"
   ]
  },
  {
   "cell_type": "code",
   "execution_count": 4,
   "id": "d5afe382-96c4-4a28-b54a-e09069cc390a",
   "metadata": {},
   "outputs": [
    {
     "name": "stdout",
     "output_type": "stream",
     "text": [
      "time: 10.3 s (started: 2022-06-14 03:32:41 +00:00)\n"
     ]
    }
   ],
   "source": [
    "itemcf = pd.read_csv(\"../datasets/results/leader_itemcf_k8000_train_purchases_5m_leader_candidate_filter_0613.csv\")\n",
    "tfidf = pd.read_csv(\"../datasets/results/leader_tfidf_train_purchases_con_test_last_05_0601.csv\")\n",
    "res_df = ensable_df(itemcf,tfidf,ratio=0.01)\n",
    "res_df.to_csv(\"../datasets/results/leader_en001_tfidf_train_purchases_con_test_last_05_itemcf_k8000_train_purchases_5m_leader_candidate_filter.csv\", index=False)"
   ]
  },
  {
   "cell_type": "code",
   "execution_count": null,
   "id": "4d5687d9",
   "metadata": {},
   "outputs": [],
   "source": [
    "# def multi_proc(df1_path,df2_path,n_jobs):\n",
    "#     files = list(os.listdir(session_path))\n",
    "# \t#split = int(len(files)/n_jobs)\n",
    "#     count=0\n",
    "#     jobs =[]\n",
    "#     manager = mp.Manager()#define shared class\n",
    "#     return_dict = manager.list()\n",
    "#     while(count != len(files)):\n",
    "#         for i in range(n_jobs):\n",
    "#             if count == len(files):\n",
    "#                 break\n",
    "#             p = mp.Process(target=sessions2vec,args=(item_path,session_path+files[count],return_dict))\n",
    "#             count+=1\n",
    "#             jobs.append(p)\n",
    "#             p.start()\n",
    "#         for proc in jobs:\n",
    "#             proc.join()\n",
    "#     print(len(return_dict))\n",
    "#     return return_dict.copy()"
   ]
  }
 ],
 "metadata": {
  "kernelspec": {
   "display_name": "Python 3 (ipykernel)",
   "language": "python",
   "name": "python3"
  },
  "language_info": {
   "codemirror_mode": {
    "name": "ipython",
    "version": 3
   },
   "file_extension": ".py",
   "mimetype": "text/x-python",
   "name": "python",
   "nbconvert_exporter": "python",
   "pygments_lexer": "ipython3",
   "version": "3.8.10"
  }
 },
 "nbformat": 4,
 "nbformat_minor": 5
}
