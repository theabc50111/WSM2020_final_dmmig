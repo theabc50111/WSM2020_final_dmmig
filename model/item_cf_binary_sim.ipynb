{
 "cells": [
  {
   "cell_type": "code",
   "execution_count": 1,
   "id": "a87b03f2-e248-4ffc-92b5-8f0005003a9b",
   "metadata": {},
   "outputs": [],
   "source": [
    "import pandas as pd\n",
    "import numpy as np\n",
    "import warnings\n",
    "import random, math, os\n",
    "from tqdm import tqdm\n",
    "from sklearn.model_selection import train_test_split\n",
    "import sys\n",
    "sys.path.append(\"../utils/\")\n",
    "from recsys_metric import mrr\n",
    "warnings.filterwarnings('ignore')"
   ]
  },
  {
   "cell_type": "code",
   "execution_count": 2,
   "id": "a04f5fcb-e0aa-42b1-ba14-96b3e9e86c40",
   "metadata": {
    "tags": []
   },
   "outputs": [],
   "source": [
    "def get_data(train_file_path, val_file_path, overview=False, concat_val=False):\n",
    "    # 读取数据\n",
    "    \n",
    "    trn_raw_data = pd.read_csv(train_file_path, sep=',', engine='python')\n",
    "    val_raw_data = pd.read_csv(val_file_path, sep=',', engine='python')\n",
    "    if concat_val:\n",
    "        trn_raw_data = pd.concat([trn_raw_data, val_raw_data])\n",
    "    \n",
    "    # 分割训练和验证集\n",
    "    \n",
    "    trn_data = trn_raw_data.groupby('session_id')['item_id'].apply(list).reset_index()\n",
    "    val_data = val_raw_data.groupby('session_id')['item_id'].apply(list).reset_index()\n",
    "\n",
    "    trn_user_items = {}\n",
    "    val_user_items = {}\n",
    "    \n",
    "    # 将数组构造成字典的形式{session_id: [item_id1, item_id2,...,item_idn]}\n",
    "    for session, item in zip(*(list(trn_data['session_id']), list(trn_data['item_id']))):\n",
    "        trn_user_items[session] = set(item)\n",
    "\n",
    "    for session, item in zip(*(list(val_data['session_id']), list(val_data['item_id']))):\n",
    "        val_user_items[session] = set(item)\n",
    "    \n",
    "    if overview:\n",
    "        print(f'trn_raw_data:\\n {trn_raw_data} \\n val_raw_data:\\n {val_raw_data}')\n",
    "        print('trn_data:\\n',trn_data)\n",
    "        print('val_data:\\n', val_data)\n",
    "    \n",
    "    return trn_user_items, val_user_items\n"
   ]
  },
  {
   "cell_type": "code",
   "execution_count": 3,
   "id": "a081dfb6-30b1-4ad7-a055-2b13301cb939",
   "metadata": {
    "tags": []
   },
   "outputs": [],
   "source": [
    "def Item_CF(trn_user_items, val_user_items, K, N, candidate_items=None, overview=False, prediction=False):\n",
    "    '''\n",
    "    trn_user_items: 表示训练数据，格式为：{user_id1: [item_id1, item_id2,...,item_idn], user_id2...}\n",
    "    val_user_items: 表示验证数据，格式为：{user_id1: [item_id1, item_id2,...,item_idn], user_id2...}\n",
    "    K: Ｋ表示的是相似商品的数量，为每个用户交互的每个商品都选择其最相似的K个商品\n",
    "    N: N表示的是给用户推荐的商品数量，给每个用户推荐相似度最大的N个商品\n",
    "    '''\n",
    "\n",
    "    # 建立user->item的倒排表\n",
    "    # 倒排表的格式为: {user_id1: [item_id1, item_id2,...,item_idn], user_id2: ...} 也就是每个用户交互过的所有商品集合\n",
    "    # 由于输入的训练数据trn_user_items,本身就是这中格式的，所以这里不需要进行额外的计算\n",
    "    \n",
    "\n",
    "    # 计算商品协同过滤矩阵\n",
    "    # 即利用user-items倒排表统计商品与商品之间被共同的用户交互的次数\n",
    "    # 商品协同过滤矩阵的表示形式为：sim = {item_id1: {item_id２: num1, item_id3: num3,...}, item_id３: {item_id４: num２,...}, ...}\n",
    "    # 商品协同过滤矩阵是一个双层的字典，用来表示商品之间共同交互的用户数量\n",
    "    # 在计算商品协同过滤矩阵的同时还需要记录每个商品被多少不同用户交互的次数，其表示形式为: num = {item_id1：num1, item_id２:num2, ...}\n",
    "    sim = {}#两个物品同时被某些用户喜欢的总次数(不止一个用户)\n",
    "    num = {}#每个物品的总共的 被喜欢(交互)数\n",
    "    print('构建相似性矩阵．．．')\n",
    "    #遍历每一个user交互过的items列表，统计两个不同的item共同被user(不止一个，而是trn_user_items中的所有user)交互的总次数\n",
    "    for uid, items in tqdm(trn_user_items.items()):\n",
    "        #对于当前items列表中的每一个item\n",
    "        for i in items:\n",
    "            #统计item i 被用户交互的总次数\n",
    "            if i not in num:\n",
    "                num[i] = 0\n",
    "            num[i] += 1\n",
    "            #统计 item i 和 item j 被共同交互的总次数\n",
    "            if i not in sim:\n",
    "                sim[i] = {}\n",
    "            for j in items:\n",
    "                if j not in sim[i]:\n",
    "                    sim[i][j] = 0\n",
    "                if i != j:\n",
    "                    sim[i][j] += 1/math.log1p(len(items) * 1.)\n",
    "    \n",
    "    # 计算物品的相似度矩阵\n",
    "    # 商品协同过滤矩阵其实相当于是余弦相似度的分子部分,还需要除以分母,即两个商品被交互的用户数量的乘积\n",
    "    # 两个商品被交互的用户数量就是上面统计的num字典\n",
    "    print('计算协同过滤矩阵．．．')\n",
    "    for i, items in tqdm(sim.items()):\n",
    "        for j, score in items.items():\n",
    "            if i != j:\n",
    "                sim[i][j] = score / math.sqrt(num[i] * num[j])\n",
    "                \n",
    "        \n",
    "    # 对验证数据中的每个用户进行TopN推荐\n",
    "    # 在对用户进行推荐之前需要先通过商品相似度矩阵得到 与 当前测试用户交互过的商品最相似的前K个商品，\n",
    "    # 然后对这K个用户交互的商品中除当前测试用户训练集中交互过的商品以外的商品计算最终的相似度分数\n",
    "    # 最终推荐的候选商品的相似度分数是由多个相似商品对该商品分数的一个累加和\n",
    "    items_rank = {}\n",
    "    print('给用户进行推荐．．．')\n",
    "    for uid, _ in tqdm(val_user_items.items()):\n",
    "        items_rank[uid] = {} # 存储用户候选的推荐商品\n",
    "        for hist_item in trn_user_items[uid]: # 遍历该用户历史喜欢的商品，用来下面寻找其相似的商品\n",
    "            # 回顾：sim = {item_id1: {item_id２: num1, item_id3: num3,...}, item_id３: {item_id４: num２,...}, ...}\n",
    "            # 回顾：trn_user_items = {user_id1: [item_id1, item_id2,...,item_idn], user_id2: ...} \n",
    "            #print(sim[hist_item])# {item_id２: num1, item_id3: num3,...}\n",
    "            for item, score in sorted(sim[hist_item].items(), key=lambda x: x[1], reverse=True)[:K]:\n",
    "                if item not in trn_user_items[uid]: # 进行推荐的商品一定不能在历史喜欢商品中出现\n",
    "                    #计算当前uid对当前item的打分\n",
    "                    if item not in items_rank[uid]:\n",
    "                        items_rank[uid][item] = 0\n",
    "                    items_rank[uid][item] += score\n",
    "    \n",
    "    print('为每个用户筛选出相似度分数最高的Ｎ个商品...')\n",
    "    if not prediction:\n",
    "        #print(items_rank)#{user1:{item1:score1,item2:score2,...},user2:{item6:score6,item9:score9,...}}\n",
    "        items_rank = {k: sorted(v.items(), key=lambda x: x[1], reverse=True)[:N] for k, v in items_rank.items()}\n",
    "        items_rank = {k: set([x[0] for x in v]) for k, v in items_rank.items()}\n",
    "    else:\n",
    "        items_rank = {k: sorted(v.items(), key=lambda x: x[1], reverse=True) for k, v in items_rank.items()}\n",
    "        items_rank = {k: set([x[0] for x in v if x[0] in candidate_items][:N]) for k, v in items_rank.items()}\n",
    "        \n",
    "        \n",
    "        \n",
    "    \n",
    "    if overview:\n",
    "        #查看一下sim   \n",
    "        for k ,v in sim.items():\n",
    "            print(f\"similarity[{k}]:\") \n",
    "            print(v)\n",
    "            break\n",
    "            \n",
    "    return items_rank, sim\n",
    "\n"
   ]
  },
  {
   "cell_type": "code",
   "execution_count": 4,
   "id": "e18ad0eb-dad8-4e73-ae3c-393df18736a7",
   "metadata": {},
   "outputs": [],
   "source": [
    "def rank_itemcf(target_dict, overview=False):\n",
    "    item_id_rank_arr = pd.DataFrame.from_dict(target_dict, orient='index').reset_index().rename(columns={'index': 'session_id'}).fillna(-1).astype(int)\n",
    "    lack_col_num = 102 - len(item_id_rank_arr.columns)\n",
    "    for i in range(100-lack_col_num,100):\n",
    "        item_id_rank_arr[i]=-1\n",
    "     \n",
    "    if overview:\n",
    "        print(f\"lack_col_num:{lack_col_num}\")\n",
    "        display(item_id_rank_arr)\n",
    "    \n",
    "    res_df = pd.melt(item_id_rank_arr, id_vars=['session_id'], value_vars=range(100)).sort_values(['session_id','variable']).rename(columns={'value': 'item_id'}).drop(['variable'], axis=1)\n",
    "    res_df[\"rank\"] = (list(range(1,101))*len(target_dict))\n",
    "    \n",
    "    \n",
    "    return res_df"
   ]
  },
  {
   "cell_type": "markdown",
   "id": "fe7856b7-98e6-4a0f-b799-744fc5f5fd41",
   "metadata": {},
   "source": [
    "# evaluation"
   ]
  },
  {
   "cell_type": "code",
   "execution_count": 5,
   "id": "8c4d0343-5f74-4c66-ad79-cae5e17be82d",
   "metadata": {},
   "outputs": [
    {
     "name": "stdout",
     "output_type": "stream",
     "text": [
      "trn_user_items len:1000000,val_user_items len:47320\n",
      "构建相似性矩阵．．．\n"
     ]
    },
    {
     "name": "stderr",
     "output_type": "stream",
     "text": [
      "100%|██████████████████████████████| 1000000/1000000 [00:21<00:00, 45997.88it/s]\n"
     ]
    },
    {
     "name": "stdout",
     "output_type": "stream",
     "text": [
      "计算协同过滤矩阵．．．\n"
     ]
    },
    {
     "name": "stderr",
     "output_type": "stream",
     "text": [
      "100%|███████████████████████████████████| 23496/23496 [00:06<00:00, 3895.38it/s]\n"
     ]
    },
    {
     "name": "stdout",
     "output_type": "stream",
     "text": [
      "给用户进行推荐．．．\n"
     ]
    },
    {
     "name": "stderr",
     "output_type": "stream",
     "text": [
      "100%|████████████████████████████████████| 47320/47320 [01:45<00:00, 450.27it/s]\n"
     ]
    },
    {
     "name": "stdout",
     "output_type": "stream",
     "text": [
      "为每个用户筛选出相似度分数最高的Ｎ个商品...\n"
     ]
    }
   ],
   "source": [
    "# 读取数据\n",
    "train_file_path = '../../recsys2022/train_sessions.csv'\n",
    "val_file_path = '../datasets/train_last_1m.csv'\n",
    "trn_user_items, val_user_items = get_data(train_file_path, val_file_path, concat_val=False)\n",
    "print(f'trn_user_items len:{len(trn_user_items)},val_user_items len:{len(val_user_items)}')\n",
    "\n",
    "\n",
    "# 計算ItemCF\n",
    "k=3\n",
    "n=100\n",
    "rec_items, sim = Item_CF(trn_user_items, val_user_items, k, n, prediction=False)\n",
    "\n",
    "\n",
    "# rank item & output rank result\n",
    "eva_res = rank_itemcf(rec_items)"
   ]
  },
  {
   "cell_type": "code",
   "execution_count": 6,
   "id": "76d6a284",
   "metadata": {},
   "outputs": [
    {
     "data": {
      "text/plain": [
       "23496"
      ]
     },
     "execution_count": 6,
     "metadata": {},
     "output_type": "execute_result"
    }
   ],
   "source": [
    "len(sim)"
   ]
  },
  {
   "cell_type": "code",
   "execution_count": 7,
   "id": "6cbf9dc3",
   "metadata": {},
   "outputs": [
    {
     "data": {
      "text/plain": [
       "array([[0, 0, 0, ..., 0, 0, 0]])"
      ]
     },
     "execution_count": 7,
     "metadata": {},
     "output_type": "execute_result"
    }
   ],
   "source": [
    "np.zeros((1,len(sim)),dtype=int)"
   ]
  },
  {
   "cell_type": "code",
   "execution_count": 11,
   "id": "10e71f0a",
   "metadata": {},
   "outputs": [],
   "source": [
    "ddic = {(key):np.zeros((len(sim)),dtype=int) for key in sim.keys()}"
   ]
  },
  {
   "cell_type": "code",
   "execution_count": 12,
   "id": "a1536507",
   "metadata": {},
   "outputs": [
    {
     "data": {
      "text/html": [
       "<div>\n",
       "<style scoped>\n",
       "    .dataframe tbody tr th:only-of-type {\n",
       "        vertical-align: middle;\n",
       "    }\n",
       "\n",
       "    .dataframe tbody tr th {\n",
       "        vertical-align: top;\n",
       "    }\n",
       "\n",
       "    .dataframe thead th {\n",
       "        text-align: right;\n",
       "    }\n",
       "</style>\n",
       "<table border=\"1\" class=\"dataframe\">\n",
       "  <thead>\n",
       "    <tr style=\"text-align: right;\">\n",
       "      <th></th>\n",
       "      <th>9655</th>\n",
       "      <th>15654</th>\n",
       "      <th>4026</th>\n",
       "      <th>2507</th>\n",
       "      <th>18316</th>\n",
       "      <th>20033</th>\n",
       "      <th>4385</th>\n",
       "      <th>27937</th>\n",
       "      <th>12804</th>\n",
       "      <th>6341</th>\n",
       "      <th>...</th>\n",
       "      <th>20114</th>\n",
       "      <th>28134</th>\n",
       "      <th>1015</th>\n",
       "      <th>14095</th>\n",
       "      <th>3416</th>\n",
       "      <th>15964</th>\n",
       "      <th>27863</th>\n",
       "      <th>7735</th>\n",
       "      <th>21419</th>\n",
       "      <th>idx</th>\n",
       "    </tr>\n",
       "  </thead>\n",
       "  <tbody>\n",
       "    <tr>\n",
       "      <th>0</th>\n",
       "      <td>0</td>\n",
       "      <td>0</td>\n",
       "      <td>0</td>\n",
       "      <td>0</td>\n",
       "      <td>0</td>\n",
       "      <td>0</td>\n",
       "      <td>0</td>\n",
       "      <td>0</td>\n",
       "      <td>0</td>\n",
       "      <td>0</td>\n",
       "      <td>...</td>\n",
       "      <td>0</td>\n",
       "      <td>0</td>\n",
       "      <td>0</td>\n",
       "      <td>0</td>\n",
       "      <td>0</td>\n",
       "      <td>0</td>\n",
       "      <td>0</td>\n",
       "      <td>0</td>\n",
       "      <td>0</td>\n",
       "      <td>9655</td>\n",
       "    </tr>\n",
       "    <tr>\n",
       "      <th>1</th>\n",
       "      <td>0</td>\n",
       "      <td>0</td>\n",
       "      <td>0</td>\n",
       "      <td>0</td>\n",
       "      <td>0</td>\n",
       "      <td>0</td>\n",
       "      <td>0</td>\n",
       "      <td>0</td>\n",
       "      <td>0</td>\n",
       "      <td>0</td>\n",
       "      <td>...</td>\n",
       "      <td>0</td>\n",
       "      <td>0</td>\n",
       "      <td>0</td>\n",
       "      <td>0</td>\n",
       "      <td>0</td>\n",
       "      <td>0</td>\n",
       "      <td>0</td>\n",
       "      <td>0</td>\n",
       "      <td>0</td>\n",
       "      <td>15654</td>\n",
       "    </tr>\n",
       "    <tr>\n",
       "      <th>2</th>\n",
       "      <td>0</td>\n",
       "      <td>0</td>\n",
       "      <td>0</td>\n",
       "      <td>0</td>\n",
       "      <td>0</td>\n",
       "      <td>0</td>\n",
       "      <td>0</td>\n",
       "      <td>0</td>\n",
       "      <td>0</td>\n",
       "      <td>0</td>\n",
       "      <td>...</td>\n",
       "      <td>0</td>\n",
       "      <td>0</td>\n",
       "      <td>0</td>\n",
       "      <td>0</td>\n",
       "      <td>0</td>\n",
       "      <td>0</td>\n",
       "      <td>0</td>\n",
       "      <td>0</td>\n",
       "      <td>0</td>\n",
       "      <td>4026</td>\n",
       "    </tr>\n",
       "    <tr>\n",
       "      <th>3</th>\n",
       "      <td>0</td>\n",
       "      <td>0</td>\n",
       "      <td>0</td>\n",
       "      <td>0</td>\n",
       "      <td>0</td>\n",
       "      <td>0</td>\n",
       "      <td>0</td>\n",
       "      <td>0</td>\n",
       "      <td>0</td>\n",
       "      <td>0</td>\n",
       "      <td>...</td>\n",
       "      <td>0</td>\n",
       "      <td>0</td>\n",
       "      <td>0</td>\n",
       "      <td>0</td>\n",
       "      <td>0</td>\n",
       "      <td>0</td>\n",
       "      <td>0</td>\n",
       "      <td>0</td>\n",
       "      <td>0</td>\n",
       "      <td>2507</td>\n",
       "    </tr>\n",
       "    <tr>\n",
       "      <th>4</th>\n",
       "      <td>0</td>\n",
       "      <td>0</td>\n",
       "      <td>0</td>\n",
       "      <td>0</td>\n",
       "      <td>0</td>\n",
       "      <td>0</td>\n",
       "      <td>0</td>\n",
       "      <td>0</td>\n",
       "      <td>0</td>\n",
       "      <td>0</td>\n",
       "      <td>...</td>\n",
       "      <td>0</td>\n",
       "      <td>0</td>\n",
       "      <td>0</td>\n",
       "      <td>0</td>\n",
       "      <td>0</td>\n",
       "      <td>0</td>\n",
       "      <td>0</td>\n",
       "      <td>0</td>\n",
       "      <td>0</td>\n",
       "      <td>18316</td>\n",
       "    </tr>\n",
       "  </tbody>\n",
       "</table>\n",
       "<p>5 rows × 23497 columns</p>\n",
       "</div>"
      ],
      "text/plain": [
       "   9655  15654  4026  2507  18316  20033  4385  27937  12804  6341  ...  \\\n",
       "0     0      0     0     0      0      0     0      0      0     0  ...   \n",
       "1     0      0     0     0      0      0     0      0      0     0  ...   \n",
       "2     0      0     0     0      0      0     0      0      0     0  ...   \n",
       "3     0      0     0     0      0      0     0      0      0     0  ...   \n",
       "4     0      0     0     0      0      0     0      0      0     0  ...   \n",
       "\n",
       "   20114  28134  1015  14095  3416  15964  27863  7735  21419    idx  \n",
       "0      0      0     0      0     0      0      0     0      0   9655  \n",
       "1      0      0     0      0     0      0      0     0      0  15654  \n",
       "2      0      0     0      0     0      0      0     0      0   4026  \n",
       "3      0      0     0      0     0      0      0     0      0   2507  \n",
       "4      0      0     0      0     0      0      0     0      0  18316  \n",
       "\n",
       "[5 rows x 23497 columns]"
      ]
     },
     "execution_count": 12,
     "metadata": {},
     "output_type": "execute_result"
    }
   ],
   "source": [
    "df = pd.DataFrame(ddic)\n",
    "df[\"idx\"] = list(df.columns)\n",
    "df = df.set_index(\"idx\")\n",
    "df.head()"
   ]
  },
  {
   "cell_type": "code",
   "execution_count": 23,
   "id": "e13d341e",
   "metadata": {},
   "outputs": [
    {
     "ename": "AttributeError",
     "evalue": "'int' object has no attribute 'index'",
     "output_type": "error",
     "traceback": [
      "\u001b[0;31m---------------------------------------------------------------------------\u001b[0m",
      "\u001b[0;31mAttributeError\u001b[0m                            Traceback (most recent call last)",
      "Input \u001b[0;32mIn [23]\u001b[0m, in \u001b[0;36m<cell line: 2>\u001b[0;34m()\u001b[0m\n\u001b[1;32m      2\u001b[0m \u001b[38;5;28;01mfor\u001b[39;00m elem \u001b[38;5;129;01min\u001b[39;00m test_key:\n\u001b[1;32m      3\u001b[0m     \u001b[38;5;28;01mfor\u001b[39;00m sims \u001b[38;5;129;01min\u001b[39;00m sim[elem]:\n\u001b[0;32m----> 4\u001b[0m         \u001b[43mdf\u001b[49m\u001b[43m[\u001b[49m\u001b[43melem\u001b[49m\u001b[43m]\u001b[49m\u001b[38;5;241;43m.\u001b[39;49m\u001b[43mapply\u001b[49m\u001b[43m(\u001b[49m\u001b[38;5;28;43;01mlambda\u001b[39;49;00m\u001b[43m \u001b[49m\u001b[43mx\u001b[49m\u001b[43m:\u001b[49m\u001b[38;5;28;43mprint\u001b[39;49m\u001b[43m(\u001b[49m\u001b[43mx\u001b[49m\u001b[38;5;241;43m.\u001b[39;49m\u001b[43mindex\u001b[49m\u001b[43m)\u001b[49m\u001b[43m \u001b[49m\u001b[43m)\u001b[49m\n",
      "File \u001b[0;32m~/Desktop/py38/venv/lib/python3.8/site-packages/pandas/core/series.py:4433\u001b[0m, in \u001b[0;36mSeries.apply\u001b[0;34m(self, func, convert_dtype, args, **kwargs)\u001b[0m\n\u001b[1;32m   4323\u001b[0m \u001b[38;5;28;01mdef\u001b[39;00m \u001b[38;5;21mapply\u001b[39m(\n\u001b[1;32m   4324\u001b[0m     \u001b[38;5;28mself\u001b[39m,\n\u001b[1;32m   4325\u001b[0m     func: AggFuncType,\n\u001b[0;32m   (...)\u001b[0m\n\u001b[1;32m   4328\u001b[0m     \u001b[38;5;241m*\u001b[39m\u001b[38;5;241m*\u001b[39mkwargs,\n\u001b[1;32m   4329\u001b[0m ) \u001b[38;5;241m-\u001b[39m\u001b[38;5;241m>\u001b[39m DataFrame \u001b[38;5;241m|\u001b[39m Series:\n\u001b[1;32m   4330\u001b[0m     \u001b[38;5;124;03m\"\"\"\u001b[39;00m\n\u001b[1;32m   4331\u001b[0m \u001b[38;5;124;03m    Invoke function on values of Series.\u001b[39;00m\n\u001b[1;32m   4332\u001b[0m \n\u001b[0;32m   (...)\u001b[0m\n\u001b[1;32m   4431\u001b[0m \u001b[38;5;124;03m    dtype: float64\u001b[39;00m\n\u001b[1;32m   4432\u001b[0m \u001b[38;5;124;03m    \"\"\"\u001b[39;00m\n\u001b[0;32m-> 4433\u001b[0m     \u001b[38;5;28;01mreturn\u001b[39;00m \u001b[43mSeriesApply\u001b[49m\u001b[43m(\u001b[49m\u001b[38;5;28;43mself\u001b[39;49m\u001b[43m,\u001b[49m\u001b[43m \u001b[49m\u001b[43mfunc\u001b[49m\u001b[43m,\u001b[49m\u001b[43m \u001b[49m\u001b[43mconvert_dtype\u001b[49m\u001b[43m,\u001b[49m\u001b[43m \u001b[49m\u001b[43margs\u001b[49m\u001b[43m,\u001b[49m\u001b[43m \u001b[49m\u001b[43mkwargs\u001b[49m\u001b[43m)\u001b[49m\u001b[38;5;241;43m.\u001b[39;49m\u001b[43mapply\u001b[49m\u001b[43m(\u001b[49m\u001b[43m)\u001b[49m\n",
      "File \u001b[0;32m~/Desktop/py38/venv/lib/python3.8/site-packages/pandas/core/apply.py:1082\u001b[0m, in \u001b[0;36mSeriesApply.apply\u001b[0;34m(self)\u001b[0m\n\u001b[1;32m   1078\u001b[0m \u001b[38;5;28;01mif\u001b[39;00m \u001b[38;5;28misinstance\u001b[39m(\u001b[38;5;28mself\u001b[39m\u001b[38;5;241m.\u001b[39mf, \u001b[38;5;28mstr\u001b[39m):\n\u001b[1;32m   1079\u001b[0m     \u001b[38;5;66;03m# if we are a string, try to dispatch\u001b[39;00m\n\u001b[1;32m   1080\u001b[0m     \u001b[38;5;28;01mreturn\u001b[39;00m \u001b[38;5;28mself\u001b[39m\u001b[38;5;241m.\u001b[39mapply_str()\n\u001b[0;32m-> 1082\u001b[0m \u001b[38;5;28;01mreturn\u001b[39;00m \u001b[38;5;28;43mself\u001b[39;49m\u001b[38;5;241;43m.\u001b[39;49m\u001b[43mapply_standard\u001b[49m\u001b[43m(\u001b[49m\u001b[43m)\u001b[49m\n",
      "File \u001b[0;32m~/Desktop/py38/venv/lib/python3.8/site-packages/pandas/core/apply.py:1137\u001b[0m, in \u001b[0;36mSeriesApply.apply_standard\u001b[0;34m(self)\u001b[0m\n\u001b[1;32m   1131\u001b[0m         values \u001b[38;5;241m=\u001b[39m obj\u001b[38;5;241m.\u001b[39mastype(\u001b[38;5;28mobject\u001b[39m)\u001b[38;5;241m.\u001b[39m_values\n\u001b[1;32m   1132\u001b[0m         \u001b[38;5;66;03m# error: Argument 2 to \"map_infer\" has incompatible type\u001b[39;00m\n\u001b[1;32m   1133\u001b[0m         \u001b[38;5;66;03m# \"Union[Callable[..., Any], str, List[Union[Callable[..., Any], str]],\u001b[39;00m\n\u001b[1;32m   1134\u001b[0m         \u001b[38;5;66;03m# Dict[Hashable, Union[Union[Callable[..., Any], str],\u001b[39;00m\n\u001b[1;32m   1135\u001b[0m         \u001b[38;5;66;03m# List[Union[Callable[..., Any], str]]]]]\"; expected\u001b[39;00m\n\u001b[1;32m   1136\u001b[0m         \u001b[38;5;66;03m# \"Callable[[Any], Any]\"\u001b[39;00m\n\u001b[0;32m-> 1137\u001b[0m         mapped \u001b[38;5;241m=\u001b[39m \u001b[43mlib\u001b[49m\u001b[38;5;241;43m.\u001b[39;49m\u001b[43mmap_infer\u001b[49m\u001b[43m(\u001b[49m\n\u001b[1;32m   1138\u001b[0m \u001b[43m            \u001b[49m\u001b[43mvalues\u001b[49m\u001b[43m,\u001b[49m\n\u001b[1;32m   1139\u001b[0m \u001b[43m            \u001b[49m\u001b[43mf\u001b[49m\u001b[43m,\u001b[49m\u001b[43m  \u001b[49m\u001b[38;5;66;43;03m# type: ignore[arg-type]\u001b[39;49;00m\n\u001b[1;32m   1140\u001b[0m \u001b[43m            \u001b[49m\u001b[43mconvert\u001b[49m\u001b[38;5;241;43m=\u001b[39;49m\u001b[38;5;28;43mself\u001b[39;49m\u001b[38;5;241;43m.\u001b[39;49m\u001b[43mconvert_dtype\u001b[49m\u001b[43m,\u001b[49m\n\u001b[1;32m   1141\u001b[0m \u001b[43m        \u001b[49m\u001b[43m)\u001b[49m\n\u001b[1;32m   1143\u001b[0m \u001b[38;5;28;01mif\u001b[39;00m \u001b[38;5;28mlen\u001b[39m(mapped) \u001b[38;5;129;01mand\u001b[39;00m \u001b[38;5;28misinstance\u001b[39m(mapped[\u001b[38;5;241m0\u001b[39m], ABCSeries):\n\u001b[1;32m   1144\u001b[0m     \u001b[38;5;66;03m# GH#43986 Need to do list(mapped) in order to get treated as nested\u001b[39;00m\n\u001b[1;32m   1145\u001b[0m     \u001b[38;5;66;03m#  See also GH#25959 regarding EA support\u001b[39;00m\n\u001b[1;32m   1146\u001b[0m     \u001b[38;5;28;01mreturn\u001b[39;00m obj\u001b[38;5;241m.\u001b[39m_constructor_expanddim(\u001b[38;5;28mlist\u001b[39m(mapped), index\u001b[38;5;241m=\u001b[39mobj\u001b[38;5;241m.\u001b[39mindex)\n",
      "File \u001b[0;32mpandas/_libs/lib.pyx:2870\u001b[0m, in \u001b[0;36mpandas._libs.lib.map_infer\u001b[0;34m()\u001b[0m\n",
      "Input \u001b[0;32mIn [23]\u001b[0m, in \u001b[0;36m<lambda>\u001b[0;34m(x)\u001b[0m\n\u001b[1;32m      2\u001b[0m \u001b[38;5;28;01mfor\u001b[39;00m elem \u001b[38;5;129;01min\u001b[39;00m test_key:\n\u001b[1;32m      3\u001b[0m     \u001b[38;5;28;01mfor\u001b[39;00m sims \u001b[38;5;129;01min\u001b[39;00m sim[elem]:\n\u001b[0;32m----> 4\u001b[0m         df[elem]\u001b[38;5;241m.\u001b[39mapply(\u001b[38;5;28;01mlambda\u001b[39;00m x:\u001b[38;5;28mprint\u001b[39m(\u001b[43mx\u001b[49m\u001b[38;5;241;43m.\u001b[39;49m\u001b[43mindex\u001b[49m) )\n",
      "\u001b[0;31mAttributeError\u001b[0m: 'int' object has no attribute 'index'"
     ]
    }
   ],
   "source": [
    "test_key = list(sim.keys())[:5]\n",
    "for elem in test_key:\n",
    "    for sims in sim[elem]:\n",
    "        df[elem].apply(lambda x:print(x.index) )"
   ]
  },
  {
   "cell_type": "code",
   "execution_count": 48,
   "id": "19e23a08-705a-43c7-94a1-26314a257131",
   "metadata": {},
   "outputs": [
    {
     "name": "stdout",
     "output_type": "stream",
     "text": [
      "0.12267361692640234\n"
     ]
    },
    {
     "data": {
      "text/plain": [
       "'eva_res shape:(4732000, 3)'"
      ]
     },
     "metadata": {},
     "output_type": "display_data"
    },
    {
     "data": {
      "text/html": [
       "<div>\n",
       "<style scoped>\n",
       "    .dataframe tbody tr th:only-of-type {\n",
       "        vertical-align: middle;\n",
       "    }\n",
       "\n",
       "    .dataframe tbody tr th {\n",
       "        vertical-align: top;\n",
       "    }\n",
       "\n",
       "    .dataframe thead th {\n",
       "        text-align: right;\n",
       "    }\n",
       "</style>\n",
       "<table border=\"1\" class=\"dataframe\">\n",
       "  <thead>\n",
       "    <tr style=\"text-align: right;\">\n",
       "      <th></th>\n",
       "      <th>session_id</th>\n",
       "      <th>item_id</th>\n",
       "      <th>rank</th>\n",
       "    </tr>\n",
       "  </thead>\n",
       "  <tbody>\n",
       "    <tr>\n",
       "      <th>4495400</th>\n",
       "      <td>115</td>\n",
       "      <td>-1</td>\n",
       "      <td>96</td>\n",
       "    </tr>\n",
       "    <tr>\n",
       "      <th>4542720</th>\n",
       "      <td>115</td>\n",
       "      <td>-1</td>\n",
       "      <td>97</td>\n",
       "    </tr>\n",
       "    <tr>\n",
       "      <th>4590040</th>\n",
       "      <td>115</td>\n",
       "      <td>-1</td>\n",
       "      <td>98</td>\n",
       "    </tr>\n",
       "    <tr>\n",
       "      <th>4637360</th>\n",
       "      <td>115</td>\n",
       "      <td>-1</td>\n",
       "      <td>99</td>\n",
       "    </tr>\n",
       "    <tr>\n",
       "      <th>4684680</th>\n",
       "      <td>115</td>\n",
       "      <td>-1</td>\n",
       "      <td>100</td>\n",
       "    </tr>\n",
       "    <tr>\n",
       "      <th>1</th>\n",
       "      <td>261</td>\n",
       "      <td>28128</td>\n",
       "      <td>1</td>\n",
       "    </tr>\n",
       "    <tr>\n",
       "      <th>47321</th>\n",
       "      <td>261</td>\n",
       "      <td>16130</td>\n",
       "      <td>2</td>\n",
       "    </tr>\n",
       "    <tr>\n",
       "      <th>94641</th>\n",
       "      <td>261</td>\n",
       "      <td>10534</td>\n",
       "      <td>3</td>\n",
       "    </tr>\n",
       "    <tr>\n",
       "      <th>141961</th>\n",
       "      <td>261</td>\n",
       "      <td>11528</td>\n",
       "      <td>4</td>\n",
       "    </tr>\n",
       "    <tr>\n",
       "      <th>189281</th>\n",
       "      <td>261</td>\n",
       "      <td>16404</td>\n",
       "      <td>5</td>\n",
       "    </tr>\n",
       "  </tbody>\n",
       "</table>\n",
       "</div>"
      ],
      "text/plain": [
       "         session_id  item_id  rank\n",
       "4495400         115       -1    96\n",
       "4542720         115       -1    97\n",
       "4590040         115       -1    98\n",
       "4637360         115       -1    99\n",
       "4684680         115       -1   100\n",
       "1               261    28128     1\n",
       "47321           261    16130     2\n",
       "94641           261    10534     3\n",
       "141961          261    11528     4\n",
       "189281          261    16404     5"
      ]
     },
     "metadata": {},
     "output_type": "display_data"
    }
   ],
   "source": [
    "eva_label = pd.read_csv('../datasets/purchases_last_1m.csv')\n",
    "\n",
    "mrr_score = mrr(eva_res, eva_label, overview=False)\n",
    "\n",
    "print(mrr_score)\n",
    "display(f\"eva_res shape:{eva_res.shape}\", eva_res.iloc[95:105,:])"
   ]
  },
  {
   "cell_type": "markdown",
   "id": "693d6bc8-5f27-4e0e-a4a5-8c8100b08f3d",
   "metadata": {},
   "source": [
    "# Output"
   ]
  },
  {
   "cell_type": "code",
   "execution_count": null,
   "id": "68e5bd10-04ee-45da-8752-f08becef7dcb",
   "metadata": {},
   "outputs": [],
   "source": [
    "# 读取数据\n",
    "train_file_path = '../../recsys2022/train_sessions_purchases.csv'\n",
    "val_file_path = '../../recsys2022/test_leaderboard_sessions.csv'\n",
    "trn_user_items, val_user_items = get_data(train_file_path, val_file_path, concat_val=True)\n",
    "print(f'trn_user_items len:{len(trn_user_items)},val_user_items len:{len(val_user_items)}')\n",
    "\n",
    "\n",
    "# 計算ItemCF\n",
    "candidate_items = pd.read_csv('../../recsys2022/candidate_items.csv')['item_id'].tolist()\n",
    "k=5 # 4 is also acceptable  \n",
    "n=100\n",
    "rec_items, sim = Item_CF(trn_user_items, val_user_items, k, n, candidate_items=candidate_items, prediction=True)\n",
    "\n",
    "\n",
    "# rank item & output rank result\n",
    "res = rank_itemcf(rec_items)\n",
    "res.to_csv(\"../datasets/results/leader_itemcf_k5_train_purchases_test_candidate_filter_0608.csv\", index=False)"
   ]
  },
  {
   "cell_type": "code",
   "execution_count": 26,
   "id": "6aa39e87-e070-4485-aa3a-287a783d286c",
   "metadata": {
    "tags": []
   },
   "outputs": [
    {
     "name": "stdout",
     "output_type": "stream",
     "text": [
      "set()\n",
      "{19705, 10442, 15969, 16631}\n",
      "{19705, 10442, 15969, 16631}\n",
      "{19705: 0, 10442: 0.13829006285626602, 15969: 0.22672126273502682, 16631: 0.10119471737236646, 5798: 0.0012472320256899196, 264: 0.004184726485756, 24872: 0.002895678209357151, 16142: 0.0026340891992597437, 10831: 0.0012536117707700877, 3955: 0.0012552220627258385, 8406: 0.001969434556370532, 21756: 0.003334235708243486, 11998: 0.001863086597070546, 12141: 0.0015662441819701458, 2353: 0.001632991776429401, 22747: 0.0012813141555206718, 5375: 0.0027550213805843985, 16544: 0.0034789659045666946, 25103: 0.00481668739092348, 26896: 0.0055618315235038945, 21330: 0.006869944754049413, 21939: 0.0032020639754251922, 23412: 0.005968989772677565, 4377: 0.006026092494087058, 3440: 0.008835377726720502, 6491: 0.002026832350081482, 8781: 0.05365644456646822, 8707: 0.0017089001771144194, 11693: 0.0027320066317323565, 18290: 0.0021133863987739185, 13243: 0.0020567546201212586, 20156: 0.0024965904917487935, 23648: 0.01236934009156488, 8036: 0.0024005716907141397, 12068: 0.0023514498755397495, 19462: 0.013860659977664874, 24039: 0.008742586143400797, 8265: 0.012690136882240676, 21356: 0.015864249336807697, 2509: 0.003382008777105806, 12596: 0.015197642489098738, 10997: 0.0014599880757220855, 9046: 0.001695089335074999, 8795: 0.010894370352784932, 20028: 0.002857651581261607, 4348: 0.002787640854918828, 25316: 0.006477891963784816, 27183: 0.014564004795260339, 22069: 0.0020330570207592403, 27864: 0.0018344431244148903, 1637: 0.001894137301127423, 175: 0.04137362729207262, 5478: 0.0012878757330961723, 17223: 0.006158330669357755, 8649: 0.0022797538053625646, 6315: 0.0031775533243432004, 1515: 0.0023533951561738957, 26861: 0.0015878391632657438, 5102: 0.00429301359450238, 15216: 0.0018371830748702329, 12274: 0.004889851004296972, 19765: 0.001700052052803511, 16598: 0.0019729206204179414, 8438: 0.0015088724329875625, 26207: 0.0011595066139696352, 19329: 0.0017913658795742297, 5603: 0.0012082021639515717, 21204: 0.0015612813569115568, 18650: 0.0024247767650136367, 7455: 0.0008454494713390917, 28132: 0.026321198975351456, 15246: 0.012747310647165477, 19987: 0.0031698553516882493, 1564: 0.0023267539443102897, 2113: 0.002754441553388029, 26084: 0.0035171454516211994, 10696: 0.004294188472388858, 14251: 0.0021910867939846355, 27916: 0.005394614642457704, 9015: 0.033280049541570746, 8334: 0.003284337195843592, 3567: 0.045274392162816916, 18767: 0.0047274046360096175, 4983: 0.0024705398033408013, 12508: 0.014579347502870354, 25154: 0.0034467252517802805, 2790: 0.0015861003811991643, 23182: 0.04175051219981867, 13103: 0.0065265819386512505, 27441: 0.002130545433313157, 6275: 0.0012455552954402935, 14725: 0.0018658281104131655, 10250: 0.00097611166216889, 5643: 0.0034697076832908096, 27531: 0.001747808426991543, 27405: 0.0012022720905747629, 8477: 0.0030271918566741173, 15007: 0.003702791746266225, 5791: 0.002028583238301393, 13986: 0.003999486690522154, 22441: 0.003142816819637426, 2346: 0.005317828530735451, 18732: 0.0008937020235423918, 21677: 0.002260297992460733, 12336: 0.01934336069868609, 4783: 0.002364513300488361, 51: 0.0013608796026235135, 4529: 0.0041158889702558234, 5816: 0.0016879634031927498, 20411: 0.003949143323850038, 11206: 0.006064382077780682, 19016: 0.010653884134412843, 18120: 0.005137900307384794, 8272: 0.002792466024171944, 7763: 0.0013608796026235135, 26837: 0.00418803906664707, 2520: 0.001434493055185053, 26846: 0.001816608410273752, 25190: 0.0020874940184975144, 7400: 0.0005715787213315649, 28016: 0.004970692855570363, 12922: 0.0014926358752368875, 18942: 0.002280038961093233, 23167: 0.0017661105850036302, 1028: 0.0023662702365283912, 7174: 0.001223468730810873, 14994: 0.0007709808842387873, 2709: 0.0019050376493200108, 19483: 0.0015397318876746292, 15516: 0.002864066868858056, 2336: 0.0019397908509800868, 16036: 0.0021148130094063014, 14377: 0.0010321380551277565, 26163: 0.0010871849160490105, 19636: 0.0010321380551277565, 18103: 0.0012632857403333767, 26564: 0.00121463490601429, 25028: 0.002323064988398436, 15304: 0.004677001611941961, 8268: 0.002400212998525828, 16735: 0.0016319535569700718, 2148: 0.0009846864730820321, 17267: 0.00090031170652292, 19066: 0.0026553699258477746, 2050: 0.0016074937913000784, 8934: 0.0012720656984381263, 17930: 0.031696822692544625, 20236: 0.00471009668701824, 9854: 0.0018940460788376176, 24400: 0.032024008601738534, 19707: 0.07996628919150539, 19897: 0.00663014323568275, 8503: 0.0028231536350670655, 6682: 0.0011004852008468916, 19099: 0.009409895983841218, 26013: 0.0017664034950838545, 558: 0.001808162084869153, 5294: 0.0013379327996511923, 447: 0.0028108913624059276, 27088: 0.0023438698794805988, 15701: 0.0016501719070632056, 16988: 0.003409140891760093, 4445: 0.0018311282474874012, 8925: 0.0012258450205012178, 20323: 0.002454861070504807, 16877: 0.0023623451991283805, 7537: 0.0012690217329427457, 26853: 0.0005966720676770479, 26624: 0.0011026183127734056, 10081: 0.0026840033477366376, 2915: 0.00041167117790770263, 14553: 0.0009615795155974897, 23267: 0.0009359327733027301, 7047: 0.0009785999434265477, 15403: 0.0005961706198548731, 17454: 0.0022306662035575854, 639: 0.0006223883192438906, 18545: 0.0026840033477366376, 3825: 0.0014643426634129984, 20752: 0.001131487549362161, 8279: 0.0022012275871308184, 21594: 0.008520158386453478, 22079: 0.0024626984150629546, 12578: 0.021017538176275573, 7111: 0.008428076687645909, 11742: 0.0018450310598208378, 3298: 0.01091488259139048, 423: 0.003120884525695832, 26856: 0.0033101979171295272, 17489: 0.002513520656453407, 22033: 0.00330480265651479, 26301: 0.0007518348000255117, 3722: 0.004117618429762324, 15922: 0.0041300391922346885, 1059: 0.009839092280793103, 330: 0.032936267700529175, 16767: 0.011959786729874008, 22584: 0.0013980680770796492, 21965: 0.003094035581673126, 18511: 0.001996793914948473, 4722: 0.003940279940888969, 2069: 0.0021689234558302157, 11766: 0.0012957880169554062, 13302: 0.001823922611264813, 5208: 0.002156666553911944, 12662: 0.0021058799027479013, 16572: 0.0029423168999313624, 16157: 0.0015620217920952085, 5443: 0.0013071373243108786, 25703: 0.002117804514017366, 11560: 0.0026232123658001586, 21511: 0.0013466508093913747, 17740: 0.0016615401530268976, 13616: 0.0017944550409710156, 20914: 0.002727565981974181, 11859: 0.006752897019449604, 2103: 0.006415286126650361, 7225: 0.001777445604567722, 3717: 0.0013023076303139347, 21668: 0.0013070132355579127, 16052: 0.0014912515637566539, 13763: 0.0034873452681676723, 24517: 0.0027404902000286576, 23038: 0.0018400251641851378, 7760: 0.0033345398681127398, 4846: 0.0012629176222456282, 23405: 0.005041294687525244, 6514: 0.001297967883295136, 18814: 0.005063404441673687, 18624: 0.0018733168211900158, 21958: 0.0014690758817098289, 23375: 0.0011867858638596976, 27152: 0.007936290148328336, 23077: 0.029370427255995042, 8192: 0.0008193613947892047, 15238: 0.028964296684498132, 2831: 0.00408188230876793, 4594: 0.0026550343689573145, 20757: 0.010376640465330322, 15543: 0.007016152256741671, 9560: 0.00295424952204817, 13916: 0.005235193645414935, 23428: 0.0010240161859128897, 5005: 0.0009434967853962182, 3857: 0.003400405633337106, 23578: 0.001114642702129812, 20260: 0.0008376847636388662, 23721: 0.0008582092360014163, 2857: 0.0005991674097150981, 16299: 0.0011105169828820427, 19372: 0.001063828278410302, 15533: 0.000566424164623782, 25390: 0.0012385135698100844, 19509: 0.0007303042575180527, 7741: 0.011020466724921397, 13886: 0.0012259139179448657, 23612: 0.0013046224641559633, 5199: 0.0005400006100707181, 12368: 0.000654333120412223, 6736: 0.0008725349086994803, 2781: 0.0015576243826163337, 3425: 0.0019076924741638448, 107: 0.00048076814234484285, 23098: 0.0050895125948734275, 10874: 0.004064590917734609, 11493: 0.003909871878160625, 887: 0.003393008396582285, 19768: 0.010815798328522558, 15610: 0.006779528701975035, 4255: 0.0030335508511199678, 13115: 0.003576305929229695, 2794: 0.002662602353616937, 23022: 0.004680350373879707, 23471: 0.0028191406214747826, 6641: 0.003871280901646485, 26162: 0.005011435081991195, 24058: 0.003298824735200474, 4063: 0.001721480366883142, 19270: 0.0015456190639794496, 13344: 0.0014937432241056861, 5928: 0.001617499915433958, 17386: 0.0018612764390551083, 25650: 0.0017040087849415687, 23034: 0.0027000178881690547, 16374: 0.003458360289536968, 12727: 0.005513511421690828, 20057: 0.0039623835446046885, 10781: 0.0016302866750119078, 9409: 0.0018097868530127118, 4642: 0.0013585365614459937, 17542: 0.0016673972538063919, 6474: 0.001564569287248002, 13392: 0.0050597495528776305, 27409: 0.0008458920101780106, 13527: 0.0008871107882041193, 27544: 0.0009812914973873006, 9849: 0.0015483556964574724, 10714: 0.002695762416431189, 5275: 0.002541589180168436, 4156: 0.002094037097158288, 23966: 0.0020469635617637923, 3071: 0.003494438026166946, 26060: 0.0008660403814400999, 13363: 0.0008141437893119563, 20536: 0.0008191921893530407, 26085: 0.0012740958965764533, 2342: 0.0018799756935697952, 27081: 0.0024425063052817063, 11372: 0.004924849355137457, 26172: 0.006974690536335345, 25398: 0.004739390834163652, 10849: 0.001777635949546469, 24526: 0.0018147452095588087, 12752: 0.003405480562117688, 24020: 0.003327054519354002, 27746: 0.013532425201480725, 14722: 0.04481862293764406, 27759: 0.002821304764027095, 18993: 0.005053470606124702, 1048: 0.003924091542134457, 13406: 0.004463655472518417, 3237: 0.0023206568167555342, 8414: 0.0024223391570966143, 18786: 0.0024882106978308576, 5287: 0.007390355349919829, 27771: 0.006280142443564969, 16505: 0.0037024097820765206, 7367: 0.0007111063433883496, 11111: 0.0011315278520782758, 2991: 0.0007937885604211428, 8467: 0.003824342669353461, 14493: 0.0033424528609406205, 3997: 0.001013093122012632, 1023: 0.0018635301065881697, 18834: 0.00804526547096005, 398: 0.008362922564756485, 16958: 0.006176427644643485, 13108: 0.0007366825817425277, 5442: 0.0016923433457882034, 10915: 0.0019258596351721569, 14019: 0.0009397571303200148, 11270: 0.001276736993700331, 27273: 0.0032023913609437373, 19821: 0.0013732628904095448, 1841: 0.012548408905963246, 7829: 0.0020483785442379763, 23352: 0.001643169769043822, 22020: 0.0014095182671936349, 21767: 0.0016501719070632056, 17174: 0.0011034635153617095, 17431: 0.000513645913685605, 2969: 0.0025529149328741346, 15027: 0.0008438329540340258, 21687: 0.002500535663612202, 9440: 0.0007348682740019585, 11618: 0.0014732823590631154, 17774: 0.0008697169595239043, 2424: 0.0017155072860111577, 24194: 0.0017892925656754668, 1799: 0.0007841197140273094, 25868: 0.0016258363670938432, 527: 0.002221898612990248, 3351: 0.0011634637426523897, 7833: 0.0006915285871397818, 21405: 0.004831559905083875, 2847: 0.0010759192931463918, 17444: 0.0007142754893630166, 23462: 0.0006955029220884954, 21164: 0.0014622743701084523, 13615: 0.000725384639460846, 10172: 0.0017469575484141855, 22723: 0.002095181374854864, 5846: 0.0015060792896550944, 26457: 0.0021154885433365875, 4578: 0.0021518239017320707, 15206: 0.001693892181040239, 11624: 0.0016387914433648794, 6509: 0.002272594838016813, 3184: 0.0012214830227696223, 8434: 0.0012352855289286969, 10495: 0.0019206931966239732, 21383: 0.001329609664435717, 22299: 0.0024034715252608486, 19874: 0.0019670492014654925, 20523: 0.0013685040852495975, 14124: 0.0025526862172623004, 10745: 0.001513706375563602, 18223: 0.0016319535569700718, 1329: 0.0008976546076447081, 12593: 0.0030189915588727436, 11453: 0.0013501340698275025, 24538: 0.0013531444059389033, 13028: 0.001513706375563602, 15219: 0.0012834190522634957, 24182: 0.01033060666432514, 20601: 0.0015442013655452638, 27898: 0.001513706375563602, 6625: 0.002449751635464977, 26768: 0.0021622122252242713, 2833: 0.0019326969622502637, 7282: 0.001773337984013304, 23740: 0.001109191467846986, 14214: 0.004187105969629842, 1968: 0.005921462049343871, 17969: 0.0012280540214698048, 18947: 0.0004925697696198688, 15777: 0.0008779458853447903, 26402: 0.0016096861535314403, 23345: 0.001477652547307931, 23480: 0.004994126630318942, 17618: 0.0050263818200523055, 15332: 0.003986616837635288, 1894: 0.0023129756466879862, 25320: 0.0016134183313991888, 15738: 0.0010051188533027819, 22695: 0.002149763953195052, 9005: 0.0010443459490009752, 24338: 0.0014411336977504133, 7588: 0.0014623405445244137, 5432: 0.0010372174589399544, 17980: 0.0019688787511527666, 26942: 0.003535557063560565, 4813: 0.00162731140751597, 24914: 0.0018133823773053069, 10466: 0.002847898089601726, 14455: 0.002577059258746653, 14075: 0.0016099065070214742, 13820: 0.0045847020493796605, 3710: 0.002428459628592899, 1221: 0.0021091070749681426, 1350: 0.004365321851391911, 8459: 0.0035040038690150404, 8720: 0.005616460654376928, 13910: 0.0021912636129922418, 23545: 0.008303209456612727, 3966: 0.002132232416439722, 21215: 0.00109005443241805, 19912: 0.0004145765139568562, 17362: 0.0006426557746949623, 2356: 0.004764078918039891, 1780: 0.0008153233951135677, 13081: 0.0005675132042499094, 26816: 0.0012904269672154949, 6182: 0.005124601594464516, 7164: 0.0015134600654742648, 19276: 0.0029957405053845287, 5395: 0.004321435647490917, 16404: 0.0011437115867725688, 21557: 0.0035241623951581744, 25611: 0.0030621666836154575, 13619: 0.0043603258257662435, 20391: 0.0013198568140031848, 9133: 0.0017588606567667587, 27710: 0.001990512091767109, 21784: 0.001009341790373127, 20634: 0.00129238519985795, 15140: 0.001071713370781314, 5288: 0.003260359749599984, 26542: 0.0014543235104133886, 2358: 0.001600103747913435, 27065: 0.0015896795082967145, 18235: 0.0013093537845566766, 13636: 0.0011896072149643138, 27846: 0.001495530630123933, 14932: 0.0014630360815988748, 8033: 0.001051078425562522, 28131: 0.0024468833068311035, 18801: 0.0012178025698475993, 19064: 0.0017505240264263154, 21735: 0.014539780362291407, 18177: 0.0013145723321410564, 10498: 0.0013946498082879385, 25095: 0.0014489862848238021, 14472: 0.0007393247628436189, 3338: 0.0005865426175210584, 11801: 0.004210046499685806, 14927: 0.0005007283246057695, 11226: 0.00561068588141394, 9696: 0.0025896064020411603, 6637: 0.0030918771695070918, 23543: 0.0014523836781976187, 11216: 0.0028254174717490784, 10388: 0.002045636490640627, 10310: 0.0027556433080840876, 17413: 0.001797687013705683, 7818: 0.0009298941615632864, 27991: 0.00224613858268717, 15073: 0.003818248323223642, 20035: 0.005057826853866131, 24484: 0.003229363437832427, 11878: 0.0011828989783429261, 24390: 0.0014908730403534827, 11749: 0.0009211577867178791, 15881: 0.0029642447952819974, 18154: 0.0015968413419758887, 4977: 0.0012137177169365587, 10419: 0.0038780678657295785, 17108: 0.0010846283291303465, 20281: 0.0055731186828897016, 21471: 0.00217691738837184, 25815: 0.0017972827051098226, 2267: 0.0012889093128935138, 742: 0.0008266294786673979, 7531: 0.001846741204864688, 10484: 0.005748476280344381, 8858: 0.0037183234008989247, 11169: 0.0015336853731065365, 23943: 0.001888991657160534, 2378: 0.003339732839074262, 3347: 0.0019152289090320115, 27400: 0.0007036149239702046, 6636: 0.000841758113352998, 15862: 0.0008582893065059655, 19328: 0.0013240166580923956, 17920: 0.0011408652244114814, 9219: 0.000609963846075552, 9988: 0.0013811945395150206, 19087: 0.001262343275767983, 12993: 0.0009683801710659168, 1219: 0.0013645730611937658, 5320: 0.0008481473390436005, 18765: 0.0007593081301262368, 12623: 0.001097662115393519, 22902: 0.004227196638086947, 15446: 0.0038650511623694117, 9231: 0.0035028428009890636, 16771: 0.0046882192421893905, 18331: 0.00197097212136517, 1582: 0.004638878749962308, 7548: 0.0009947833048871188, 4035: 0.0010585264187407883, 14857: 0.0044464613114003826, 14477: 0.0021228822734932124, 20686: 0.0036905331262184053, 17299: 0.0014848171217082457, 185: 0.006786696133094238, 20251: 0.0022986157078719793, 26565: 0.0017016675116089256, 3773: 0.0009610035612455933, 17279: 0.011390871943336666, 19882: 0.00044456736933957714, 19310: 0.0019822879043743203, 22673: 0.005462748940931767, 912: 0.0007820985919895322, 12179: 0.00045846016352439807, 23795: 0.001100576173219143, 23322: 0.00135687412556256, 25118: 0.0012542325562098445, 24921: 0.0007115040426865057, 20163: 0.001294061218481615, 1092: 0.0009137919647152692, 167: 0.0007759280924945257, 4296: 0.0022790526652336084, 8520: 0.006004417804991063, 6732: 0.0011980678864064382, 1813: 0.0023822288894117796, 27516: 0.0010007363008318437, 17641: 0.0026783951757348157, 7435: 0.002965036973805754, 23551: 0.006613206951194522, 4193: 0.0006378611279412577, 105: 0.004500892149606832, 27852: 0.0007009935573599966, 5600: 0.0007709848717559041, 24429: 0.001210672804884242, 6071: 0.0007450461599346995, 1531: 0.0007028481871822136, 24438: 0.003274375295216998, 7963: 0.0003385607831377575, 11327: 0.0016943468676002581, 16936: 0.0046627812237459995, 14072: 0.0010967078854977564, 16162: 0.0013811756897228844, 20515: 0.002792860407272912, 16806: 0.003088261227074883, 1064: 0.0014970717345854346, 12842: 0.0005222088618442273, 8502: 0.0006081383375264623, 25019: 0.0024210089191387804, 15938: 0.001655049489081993, 2373: 0.002035403693769692, 16588: 0.0007901062020059577, 11351: 0.0017239656665108247, 7544: 0.0014392477543166964, 17473: 0.0022301506131137635, 21251: 0.005538303501985102, 25252: 0.0063573523013489, 7625: 0.0024296715472398307, 17291: 0.0023366892862281188, 20732: 0.002472869091409886, 21606: 0.0032277288260449547, 10061: 0.0009919019040413313, 22932: 0.0039000795795397633, 15703: 0.0032728740790233584, 4738: 0.0024471514305548564, 1543: 0.0017312894512156434, 1068: 0.001716637937130535, 495: 0.0013495608257885032, 10534: 0.0011014886561279407, 16555: 0.0011646587034928526, 17032: 0.0016634605025921123, 14350: 0.0015875469640395227, 22515: 0.001265802507031297, 27444: 0.003292897544154178, 3927: 0.003061537948903945, 259: 0.0008673788202583465, 7057: 0.0015218905857187727, 26387: 0.0015384633856378646, 14749: 0.0011124917594444266, 12587: 0.0008386813501728824, 944: 0.0016719313983356763, 14000: 0.0008332762583128856, 10546: 0.0018475050991623098, 15154: 0.0014147833531438089, 22836: 0.0014752115846103538, 13620: 0.0011551657705953836, 26295: 0.0009237525495811549, 21053: 0.0013239195159785043, 23745: 0.001309834865164146, 24518: 0.0017490189532774576, 3273: 0.0010742226084035883, 1227: 0.0014061301627766342, 23243: 0.001446377306964787, 24656: 0.0017408267819961696, 13273: 0.0007889120447606111, 222: 0.0006758001347239028, 15842: 0.0012396703691320069, 23012: 0.0011599490861732642, 13417: 0.0009490655253193942, 20842: 0.0009853130048987047, 12401: 0.0008134847359880522, 10865: 0.0015614267951896562, 15227: 0.0009765803687988481, 3583: 0.0016236592559894841, 21892: 0.003576971846812551, 27032: 0.0015903428366642641, 11802: 0.0026926465857907847, 13749: 0.004349016571285404, 12224: 0.001435865474032214, 8905: 0.001836369729703812, 19925: 0.0034874981990443425, 8411: 0.0023174611964422156, 866: 0.0007693275959402242, 25699: 0.0011101141229114162, 1128: 0.0008869362694334986, 2282: 0.0018259032382308383, 17778: 0.0006473755660098074, 26238: 0.0009290513361674991, 18723: 0.0006690273799694854, 12742: 0.0024514549649429706, 1254: 0.0017719803152258318, 17588: 0.0021699256242442137, 13602: 0.0018299818216006728, 26917: 0.0010279449179178824, 18995: 0.0014131563194867429, 21098: 0.0017764375703167839, 12657: 0.005052736515712801, 10648: 0.0032058456664332035, 985: 0.0015637894410294147, 27831: 0.0009725914480384114, 18981: 0.001362903825261501, 13095: 0.002477702381888537, 25293: 0.001046745135852533, 22512: 0.0009324898489688125, 21809: 0.0006973102915460824, 10931: 0.0007331214767720245, 14550: 0.0005378959839613383, 15064: 0.0009583613286249145, 27651: 0.0015312732784891836, 17164: 0.0009454003226187333, 8998: 0.002038495886727833, 3653: 0.0009157166486918656, 25049: 0.0007795970777300101, 492: 0.0010538945488229314, 25072: 0.0013885997991864578, 17288: 0.0009792419304806112, 2570: 0.0005911303063471862, 13080: 0.0013473321934505842, 2203: 0.0010639057570709654, 11420: 0.0018110561405190345, 8861: 0.00117143316548526, 26409: 0.0007379642348057992, 690: 0.0005995362905932122, 27828: 0.0009173312513636317, 27956: 0.0013473321934505842, 14776: 0.0010536262333225661, 2759: 0.0020305992862130616, 458: 0.0009240913372878157, 18251: 0.0010921079440674186, 13642: 0.0009825115286614236, 7643: 0.0008359844963659532, 1498: 0.006421318759545421, 28000: 0.0014358505251538189, 1013: 0.001259324217612366, 19580: 0.0011569970858543775, 4640: 0.0019500397897698816, 11641: 0.0024810364658641526, 17722: 0.0032277288260449547, 17789: 0.0038582560290929915, 21777: 0.0028745684674174295, 1323: 0.0008740646265046823, 5674: 0.0024813005255668015, 3630: 0.0008826975730546851, 12464: 0.0006419289614983455, 16178: 0.001631260995045957, 22706: 0.0009175083802892621, 1213: 0.002978610909616306, 20293: 0.0036170860003085954, 18390: 0.002250446074803416, 6751: 0.004485146308466963, 12001: 0.004503912194364425, 5358: 0.0007535323293936224, 18544: 0.003260603917211294, 15608: 0.002641546126406875, 27658: 0.001359690723878036, 26892: 0.0006989130177829112, 10896: 0.000544178695073358, 21398: 0.002072170735361898, 18969: 0.0006705953341621119, 16412: 0.0016740158978758289, 15262: 0.0005490868322768611, 14881: 0.0004265787503871757, 4130: 0.0015130069647660718, 4655: 0.0008927875951910042, 22704: 0.0003372977561192418, 187: 0.0009388969089506446, 26691: 0.0002734232202505813, 15429: 0.0006932126804967132, 23252: 0.0024227297891514926, 18523: 0.0006385057169201056, 16103: 0.002106423811828936, 1644: 0.00021923288458241101, 9201: 0.001064357315827199, 18675: 0.0013549940234055665, 16117: 0.000895472676727914, 14971: 0.0024091048656985996, 19269: 0.002742298710006218, 2848: 0.00453375042034485, 8329: 0.0014298385467329969, 6187: 0.0006714302900985752, 21616: 0.0004537430911077088, 16536: 0.002236849047234267, 27104: 0.004202050811157882, 24342: 0.003849695452264084, 16462: 0.0013503456597113745, 17756: 0.001985955415196076, 7906: 0.0024717634663021077, 18601: 0.002175306054721728, 4785: 0.003473685204628936, 25914: 0.0017422958107163496, 22909: 0.0013152804136119607, 12040: 0.00330271047709705, 15000: 0.0012021861843276164, 4760: 0.0012740532600898971, 16289: 0.00172615007950476, 10919: 0.001244233300430925, 11319: 0.002378458857827248, 7495: 0.0015903428366642641, 10832: 0.0013035719229987463, 15198: 0.0028286410051182346, 14327: 0.0014126244983019955, 27265: 0.006212803854720393, 20869: 0.0012272743837570676, 17341: 0.0015434679465524607, 20258: 0.0020033515440269836, 3209: 0.0011637358995530566, 8522: 0.000989120700336566, 18156: 0.0003349804091216094, 4045: 0.0014830214901030612, 11999: 0.0018654727317300376, 8884: 0.0015361707381004346, 6585: 0.0026550343689573145, 314: 0.00616965824086177, 12669: 0.0018834391758710052, 375: 0.0008757050835429261, 27467: 0.0023083859349541914, 8275: 0.00461296203993192, 15552: 0.0015004127524833961, 22881: 0.0009526311711448259, 450: 0.0020735226889634704, 13922: 0.0004454079678472351, 11824: 0.0014814594094770997, 7444: 0.0006650378488264488, 26012: 0.0007074700609213414, 8702: 0.0011733463302498921, 4609: 0.0011940522579928735, 13835: 0.003501252740018004, 20629: 0.000833223478925686, 26278: 0.0012168772160034856, 4277: 0.0017179130192535724, 11477: 0.0014418536155246272, 20821: 0.0013818886598320297, 19709: 0.0010297401673365774, 5986: 0.001088790168786588, 5488: 0.0010157984264574245, 4733: 0.0008681108340056712, 6161: 0.012372933839489359, 15449: 0.0016838478355866938, 20741: 0.0015227252490041445, 22261: 0.0014804499630823873, 24320: 0.001837481525639211, 7428: 0.0028745684674174295, 4758: 0.0011260158420000525, 20001: 0.0021488692895645293, 11428: 0.0009391597176736198, 5933: 0.001661461216605985, 10163: 0.0010318799564868221, 1972: 0.0009431420382261386, 15541: 0.0006268896013048336, 19125: 0.0012084960232340346, 27476: 0.0009175083802892621, 597: 0.0009212204994830447, 27613: 0.0006699872708236233, 18657: 0.0006764050241176636, 13818: 0.002019384846564304, 8060: 0.0003440035219789784, 18432: 0.001299602267249859, 6786: 0.0006722618745064374, 19847: 0.0007651850963792166, 15122: 0.0006599257462292141, 19101: 0.0015558210915226002, 17828: 0.0017606105367319797, 20647: 0.0006676963760189855, 10030: 0.0008105887523106575, 8242: 0.0018379232888617214, 20291: 0.0026331825064898175, 27078: 0.0013297794747648898, 20471: 0.0005187778364481054, 19285: 0.0009735322918574297, 17239: 0.0002806562373258306, 11753: 0.0007755962565264747, 7153: 0.0010125260322817473, 7154: 0.0008949006232281207, 23927: 0.0011392649611034257, 18040: 0.0009915288667311528, 24064: 0.0011549959732130813, 18243: 0.000945230729060697, 4675: 0.003547696169138991, 15081: 0.0048123292197940065, 26377: 0.0013732706779885243, 4492: 0.0012752646927185769, 23950: 0.002468672801307745, 26298: 0.0012030823049485016, 2302: 0.001364410774668835, 7855: 0.0024865999190084084, 6717: 0.0014036693552630338, 1155: 0.0011846065607349463, 772: 0.0011865218514936818, 12938: 0.0012693257734343127, 23948: 0.0007378729520144039, 22798: 0.0023924792749425348, 10898: 0.0008950660110827945, 10162: 0.0026704845086221564, 4966: 0.0009244769541842416, 6376: 0.0007425342299068297, 2805: 0.001056142883396631, 25976: 0.0009309001963766236, 3618: 0.002314271455247093, 6500: 0.0013330197574248238, 24870: 0.0024865999190084084, 23457: 0.0031225627138231136, 17945: 0.0032961688504278344, 18096: 0.002730601880676932, 24511: 0.0020386042535001274, 1353: 0.0031094744602841516, 160: 0.0014377777026079624, 10115: 0.0033045776796357122, 15306: 0.0036846311468715165, 21487: 0.0015285359273749524, 28112: 0.0014875855544557064, 82: 0.0035002813387774545, 6568: 0.0015770693737075575, 18715: 0.0007601051254311909, 11289: 0.0033277213724578905, 19472: 0.0007947384203222974, 5138: 0.0008790988734149181, 21778: 0.0008406155802786889, 2325: 0.0007047711306230399, 20627: 0.001332816849128593, 26786: 0.0007642134292692195, 25127: 0.0013312872400738608, 10794: 0.0014917428476218682, 17075: 0.0007547941923332688, 26548: 0.0009715542925962083, 24377: 0.0007408985793540939, 9925: 0.0006675684052934595, 5191: 0.0006202130466827832, 3016: 0.0014362858364046925, 7673: 0.0006341955094039747, 23993: 0.0011334322461465662, 13960: 0.0010746201656211113, 21919: 0.0006851610577489714, 24630: 0.0023322989369112665, 16823: 0.0021272606706069755, 17089: 0.00027489467166346527, 23764: 0.0006134930781084724, 1368: 0.00042485971963011204, 20346: 0.0010746201656211113, 16840: 0.002605403182056962, 15158: 0.001443163330267602, 12379: 0.0011360897697153256, 9989: 0.0039033144249203872, 4359: 0.0024061646098970033, 20006: 0.0031063451541215865, 1107: 0.0016643788631084283, 27416: 0.0006874756028277152, 4355: 0.003758854161966377, 16339: 0.003730697554560623, 9833: 0.0014825450975547037, 19150: 0.0005882082053040074, 11186: 0.001488432129706281, 12222: 0.0026382083364594943, 24355: 0.001252599262836151, 7175: 0.0007342149007455493, 21353: 0.0010250605869323907, 8469: 0.0019982109463598367, 9365: 0.001003440007515087, 18936: 0.0009831322070544288, 17565: 0.0021965177231853448, 17925: 0.0014506950126686837, 24215: 0.0029423804118235324, 20290: 0.0021686323662236597, 24457: 0.00493185097492036, 23828: 0.0010238508737966607, 1826: 0.0032990466454741103, 24803: 0.0011603612360935422, 23952: 0.00661576783334446, 4465: 0.001948497522154464, 11292: 0.001619438305792607, 7999: 0.0005901514048178208, 11429: 0.0018563962993366882, 25298: 0.004140730696265947, 19688: 0.003627429634027377, 23211: 0.0020786096332413117, 27096: 0.0008106574544800432, 8379: 0.0008566172846493645, 24574: 0.005579752429068275, 9734: 0.0020379246453987756, 26002: 0.0017533967073900857, 5654: 0.0008614502626266211, 9246: 0.0005663662535095413, 33: 0.0005935275912249707, 6647: 0.0010906841729012796, 7717: 0.0013341348497365611, 11946: 0.0017310595315449327, 13871: 0.004639051637393655, 7222: 0.0013291474122799696, 22071: 0.0007934720380090699, 1718: 0.002678357711633801, 21683: 0.0008574279047947177, 11460: 0.0014163955238516127, 26066: 0.0009597519155746609, 21459: 0.001473710915593046, 7771: 0.0012125861717178367, 20448: 0.000919488990531566, 2919: 0.0013873083286301585, 8302: 0.0017533967073900857, 16238: 0.0014874201495522195, 6256: 0.000963736664963168, 19441: 0.00149441981244711, 1646: 0.0012647208885503112, 11124: 0.000948741012949219, 8820: 0.0007377019318927403, 10619: 0.0025294417771006225, 22066: 0.0018938290316806777, 10258: 0.004205896643248546, 14635: 0.0023330116933130006, 6089: 0.0017138073351595094, 17036: 0.001224147389538298, 21567: 0.002371276054892461, 6472: 0.001080477464128656, 16651: 0.001036408466864965, 7150: 0.0010847827823777677, 16640: 0.0009162364357601155, 5766: 0.0012222098714547785, 7432: 0.0018715491826747242, 18566: 0.0006999478412536227, 2703: 0.0015194062383344358, 22682: 0.0026621139609027244, 1566: 0.0019161161202324835, 20901: 0.0018005158299180253, 1964: 0.0020717230423409837, 21439: 0.0028698553587048984, 25408: 0.002216996594697529, 9026: 0.002726270488592685, 14917: 0.0023121895973974016, 22987: 0.001555161865346241, 25933: 0.0009265027106454229, 6611: 0.000625851175521858, 16728: 0.0009014574596815644, 4839: 0.0015369722119406486, 19181: 0.0026316888021323493, 20856: 0.0014159211755487254, 22011: 0.001028642886039368, 17916: 0.0006404223264369848, 17149: 0.0013887763985478236, 17022: 0.0007662618289290257, 22863: 0.0013126433522149081}\n"
     ]
    }
   ],
   "source": [
    "# view_session_id = 113\n",
    "view_session_id = 115\n",
    "print(rec_items[view_session_id])\n",
    "print(val_user_items[view_session_id])\n",
    "print(trn_user_items[view_session_id])\n",
    "print(sim[list(trn_user_items[view_session_id])[0]])"
   ]
  },
  {
   "cell_type": "code",
   "execution_count": null,
   "id": "76effb1e-5e46-459d-84d3-94835427be7d",
   "metadata": {},
   "outputs": [],
   "source": [
    "rec_items"
   ]
  },
  {
   "cell_type": "code",
   "execution_count": null,
   "id": "cd4ce7ac-dd5d-41f3-a5e1-e2dee2e1b982",
   "metadata": {},
   "outputs": [],
   "source": []
  }
 ],
 "metadata": {
  "kernelspec": {
   "display_name": "Python 3 (ipykernel)",
   "language": "python",
   "name": "python3"
  },
  "language_info": {
   "codemirror_mode": {
    "name": "ipython",
    "version": 3
   },
   "file_extension": ".py",
   "mimetype": "text/x-python",
   "name": "python",
   "nbconvert_exporter": "python",
   "pygments_lexer": "ipython3",
   "version": "3.8.9"
  }
 },
 "nbformat": 4,
 "nbformat_minor": 5
}
