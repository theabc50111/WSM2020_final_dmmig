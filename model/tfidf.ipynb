{
 "cells": [
  {
   "cell_type": "code",
   "execution_count": 1,
   "id": "25c6a6c1-c781-4623-9650-971de79b87d3",
   "metadata": {},
   "outputs": [
    {
     "name": "stdout",
     "output_type": "stream",
     "text": [
      "time: 328 ms (started: 2022-06-07 16:39:04 +00:00)\n"
     ]
    }
   ],
   "source": [
    "import numpy as np\n",
    "import pandas as pd\n",
    "import pickle\n",
    "from sklearn.feature_extraction.text import TfidfTransformer\n",
    "import sys\n",
    "sys.path.append(\"../utils/\")\n",
    "from recsys_metric import mrr\n",
    "# print(sys.path, sys.modules)"
   ]
  },
  {
   "cell_type": "markdown",
   "id": "ff76855e-2726-42b7-9ef6-9e4abebaa0fa",
   "metadata": {},
   "source": [
    "# Load data"
   ]
  },
  {
   "cell_type": "markdown",
   "id": "02c80129-661f-45a0-8f1c-eea4bbd23db8",
   "metadata": {},
   "source": [
    "## test data"
   ]
  },
  {
   "cell_type": "code",
   "execution_count": 11,
   "id": "8fa37d81-0b2e-4c6b-bb3c-9a0eec1d3c37",
   "metadata": {},
   "outputs": [
    {
     "name": "stdout",
     "output_type": "stream",
     "text": [
      "time: 6.33 s (started: 2022-06-07 16:56:53 +00:00)\n"
     ]
    }
   ],
   "source": [
    "test_data = \"leaderboard\"\n",
    "\n",
    "if test_data == \"leaderboard\":\n",
    "    test_session = \"test_leader_session.pkl\"\n",
    "elif test_data == \"final\":\n",
    "    test_session = \"test_final_session.pkl\"\n",
    "\n",
    "with open(f\"../datasets/{test_session}\" , \"rb\") as f:\n",
    "    test_dic = pickle.load(f)\n",
    "    \n",
    "test_df = pd.DataFrame.from_dict(test_dic, orient='index')\n",
    "\n",
    "del test_dic"
   ]
  },
  {
   "cell_type": "code",
   "execution_count": 12,
   "id": "0ebf3fc4-7193-47de-a685-1b8c6f7d5508",
   "metadata": {
    "collapsed": true,
    "jupyter": {
     "outputs_hidden": true
    },
    "tags": []
   },
   "outputs": [
    {
     "data": {
      "text/plain": [
       "'test_df: (50000, 904)'"
      ]
     },
     "metadata": {},
     "output_type": "display_data"
    },
    {
     "data": {
      "text/html": [
       "<div>\n",
       "<style scoped>\n",
       "    .dataframe tbody tr th:only-of-type {\n",
       "        vertical-align: middle;\n",
       "    }\n",
       "\n",
       "    .dataframe tbody tr th {\n",
       "        vertical-align: top;\n",
       "    }\n",
       "\n",
       "    .dataframe thead th {\n",
       "        text-align: right;\n",
       "    }\n",
       "</style>\n",
       "<table border=\"1\" class=\"dataframe\">\n",
       "  <thead>\n",
       "    <tr style=\"text-align: right;\">\n",
       "      <th></th>\n",
       "      <th>0</th>\n",
       "      <th>1</th>\n",
       "      <th>2</th>\n",
       "      <th>3</th>\n",
       "      <th>4</th>\n",
       "      <th>5</th>\n",
       "      <th>6</th>\n",
       "      <th>7</th>\n",
       "      <th>8</th>\n",
       "      <th>9</th>\n",
       "      <th>...</th>\n",
       "      <th>894</th>\n",
       "      <th>895</th>\n",
       "      <th>896</th>\n",
       "      <th>897</th>\n",
       "      <th>898</th>\n",
       "      <th>899</th>\n",
       "      <th>900</th>\n",
       "      <th>901</th>\n",
       "      <th>902</th>\n",
       "      <th>903</th>\n",
       "    </tr>\n",
       "  </thead>\n",
       "  <tbody>\n",
       "    <tr>\n",
       "      <th>26</th>\n",
       "      <td>0.0</td>\n",
       "      <td>0.0</td>\n",
       "      <td>0.0</td>\n",
       "      <td>0.0</td>\n",
       "      <td>0.0</td>\n",
       "      <td>0.0</td>\n",
       "      <td>0.0</td>\n",
       "      <td>0.0</td>\n",
       "      <td>0.0</td>\n",
       "      <td>0.0</td>\n",
       "      <td>...</td>\n",
       "      <td>0.0</td>\n",
       "      <td>0.0</td>\n",
       "      <td>0.0</td>\n",
       "      <td>0.0</td>\n",
       "      <td>0.0</td>\n",
       "      <td>0.0</td>\n",
       "      <td>0.0</td>\n",
       "      <td>0.0</td>\n",
       "      <td>0.0</td>\n",
       "      <td>0.0</td>\n",
       "    </tr>\n",
       "    <tr>\n",
       "      <th>200</th>\n",
       "      <td>0.0</td>\n",
       "      <td>0.0</td>\n",
       "      <td>0.0</td>\n",
       "      <td>0.0</td>\n",
       "      <td>0.0</td>\n",
       "      <td>0.0</td>\n",
       "      <td>0.0</td>\n",
       "      <td>0.0</td>\n",
       "      <td>0.0</td>\n",
       "      <td>0.0</td>\n",
       "      <td>...</td>\n",
       "      <td>0.0</td>\n",
       "      <td>0.0</td>\n",
       "      <td>0.0</td>\n",
       "      <td>0.0</td>\n",
       "      <td>0.0</td>\n",
       "      <td>0.0</td>\n",
       "      <td>0.0</td>\n",
       "      <td>0.0</td>\n",
       "      <td>0.0</td>\n",
       "      <td>0.0</td>\n",
       "    </tr>\n",
       "    <tr>\n",
       "      <th>205</th>\n",
       "      <td>0.0</td>\n",
       "      <td>0.0</td>\n",
       "      <td>0.0</td>\n",
       "      <td>0.0</td>\n",
       "      <td>0.0</td>\n",
       "      <td>0.0</td>\n",
       "      <td>0.0</td>\n",
       "      <td>0.0</td>\n",
       "      <td>0.0</td>\n",
       "      <td>0.0</td>\n",
       "      <td>...</td>\n",
       "      <td>0.0</td>\n",
       "      <td>0.0</td>\n",
       "      <td>0.0</td>\n",
       "      <td>0.0</td>\n",
       "      <td>0.0</td>\n",
       "      <td>0.0</td>\n",
       "      <td>0.0</td>\n",
       "      <td>0.0</td>\n",
       "      <td>0.0</td>\n",
       "      <td>0.0</td>\n",
       "    </tr>\n",
       "    <tr>\n",
       "      <th>495</th>\n",
       "      <td>0.0</td>\n",
       "      <td>0.0</td>\n",
       "      <td>0.0</td>\n",
       "      <td>0.0</td>\n",
       "      <td>0.0</td>\n",
       "      <td>0.0</td>\n",
       "      <td>0.0</td>\n",
       "      <td>0.0</td>\n",
       "      <td>0.0</td>\n",
       "      <td>0.0</td>\n",
       "      <td>...</td>\n",
       "      <td>0.0</td>\n",
       "      <td>0.0</td>\n",
       "      <td>0.0</td>\n",
       "      <td>0.0</td>\n",
       "      <td>0.0</td>\n",
       "      <td>0.0</td>\n",
       "      <td>0.0</td>\n",
       "      <td>0.0</td>\n",
       "      <td>0.0</td>\n",
       "      <td>0.0</td>\n",
       "    </tr>\n",
       "    <tr>\n",
       "      <th>521</th>\n",
       "      <td>0.0</td>\n",
       "      <td>0.0</td>\n",
       "      <td>0.0</td>\n",
       "      <td>0.0</td>\n",
       "      <td>0.0</td>\n",
       "      <td>0.0</td>\n",
       "      <td>0.0</td>\n",
       "      <td>0.0</td>\n",
       "      <td>0.0</td>\n",
       "      <td>0.0</td>\n",
       "      <td>...</td>\n",
       "      <td>0.0</td>\n",
       "      <td>0.0</td>\n",
       "      <td>0.0</td>\n",
       "      <td>0.0</td>\n",
       "      <td>0.0</td>\n",
       "      <td>0.0</td>\n",
       "      <td>0.0</td>\n",
       "      <td>0.0</td>\n",
       "      <td>0.0</td>\n",
       "      <td>0.0</td>\n",
       "    </tr>\n",
       "  </tbody>\n",
       "</table>\n",
       "<p>5 rows × 904 columns</p>\n",
       "</div>"
      ],
      "text/plain": [
       "     0    1    2    3    4    5    6    7    8    9    ...  894  895  896  \\\n",
       "26   0.0  0.0  0.0  0.0  0.0  0.0  0.0  0.0  0.0  0.0  ...  0.0  0.0  0.0   \n",
       "200  0.0  0.0  0.0  0.0  0.0  0.0  0.0  0.0  0.0  0.0  ...  0.0  0.0  0.0   \n",
       "205  0.0  0.0  0.0  0.0  0.0  0.0  0.0  0.0  0.0  0.0  ...  0.0  0.0  0.0   \n",
       "495  0.0  0.0  0.0  0.0  0.0  0.0  0.0  0.0  0.0  0.0  ...  0.0  0.0  0.0   \n",
       "521  0.0  0.0  0.0  0.0  0.0  0.0  0.0  0.0  0.0  0.0  ...  0.0  0.0  0.0   \n",
       "\n",
       "     897  898  899  900  901  902  903  \n",
       "26   0.0  0.0  0.0  0.0  0.0  0.0  0.0  \n",
       "200  0.0  0.0  0.0  0.0  0.0  0.0  0.0  \n",
       "205  0.0  0.0  0.0  0.0  0.0  0.0  0.0  \n",
       "495  0.0  0.0  0.0  0.0  0.0  0.0  0.0  \n",
       "521  0.0  0.0  0.0  0.0  0.0  0.0  0.0  \n",
       "\n",
       "[5 rows x 904 columns]"
      ]
     },
     "metadata": {},
     "output_type": "display_data"
    },
    {
     "data": {
      "text/plain": [
       "146    4.0\n",
       "176    1.0\n",
       "178    3.0\n",
       "183    4.0\n",
       "219    2.0\n",
       "242    2.0\n",
       "271    1.0\n",
       "290    4.0\n",
       "401    4.0\n",
       "440    4.0\n",
       "449    1.0\n",
       "452    2.0\n",
       "470    1.0\n",
       "489    1.0\n",
       "490    3.0\n",
       "507    4.0\n",
       "571    4.0\n",
       "663    4.0\n",
       "669    4.0\n",
       "692    4.0\n",
       "733    1.0\n",
       "743    3.0\n",
       "807    4.0\n",
       "855    4.0\n",
       "859    4.0\n",
       "873    4.0\n",
       "Name: 200, dtype: float64"
      ]
     },
     "metadata": {},
     "output_type": "display_data"
    },
    {
     "data": {
      "text/plain": [
       "'----------------------------------------------------------------------------------------------------'"
      ]
     },
     "metadata": {},
     "output_type": "display_data"
    },
    {
     "name": "stdout",
     "output_type": "stream",
     "text": [
      "time: 16.2 ms (started: 2022-06-07 16:57:00 +00:00)\n"
     ]
    }
   ],
   "source": [
    "display(f\"test_df: {test_df.shape}\", test_df.head())\n",
    "display(test_df.iloc[1,(test_df.iloc[1,:]>0).tolist()], \"-\"*100)"
   ]
  },
  {
   "cell_type": "markdown",
   "id": "85a69843-0209-4d92-b57c-8d91bd90d034",
   "metadata": {},
   "source": [
    "## train data & candidate data"
   ]
  },
  {
   "cell_type": "code",
   "execution_count": 13,
   "id": "1bbc751e-a7b6-4ade-a47c-2cba54949a7d",
   "metadata": {},
   "outputs": [
    {
     "name": "stdout",
     "output_type": "stream",
     "text": [
      "time: 14.9 s (started: 2022-06-07 16:57:09 +00:00)\n"
     ]
    }
   ],
   "source": [
    "train_session = \"test_leader_final_session.pkl\"\n",
    "\n",
    "with open(f\"../datasets/{train_session}\" , \"rb\") as f:\n",
    "    train_dic = pickle.load(f)\n",
    "    \n",
    "train_df= pd.DataFrame.from_dict(train_dic, orient='index')\n",
    "del train_dic\n"
   ]
  },
  {
   "cell_type": "code",
   "execution_count": 14,
   "id": "369de750-6721-41ea-8fcb-1ded0821866e",
   "metadata": {},
   "outputs": [
    {
     "name": "stdout",
     "output_type": "stream",
     "text": [
      "time: 18.7 s (started: 2022-06-07 16:57:24 +00:00)\n"
     ]
    }
   ],
   "source": [
    "data_period = \"2-week\"\n",
    "\n",
    "if data_period == \"1-month\":\n",
    "    train_session = \"train_session_last_1m.pkl\"\n",
    "    purchases_session = \"purchases_session_last_1m.pkl\"\n",
    "    train_purchases_session = \"train_purchases_session_last_1m.pkl\"\n",
    "    candidate_vector = \"candidate_last_1m_vector\"\n",
    "    train_Y_date = \"2021-5-1\"\n",
    "elif data_period == \"3-month\":\n",
    "    train_session = \"train_session_last_3m.pkl\"\n",
    "    purchases_session = \"purchases_session_last_3m.pkl\"\n",
    "    train_purchases_session = \"train_purchases_session_last_3m.pkl\"\n",
    "    candidate_vector = \"candidate_last_3m_vector\"\n",
    "    train_Y_date = \"2021-3-1\"\n",
    "elif data_period == \"2-week\":\n",
    "    train_session = \"train_session_last_05m.pkl\"\n",
    "    purchases_session = \"purchases_session_last_05m.pkl\"\n",
    "    train_purchases_session = \"train_purchases_session_last_05m.pkl\"\n",
    "    candidate_vector = \"candidate_last_05m_vector\"\n",
    "    train_Y_date = \"2021-5-15\"\n",
    "elif data_period == \"all-time\":\n",
    "    train_session = \"train_session.pkl\"\n",
    "    purchases_session = \"purchases_session.pkl\"\n",
    "    train_purchases_session = \"train_purchases_session.pkl\"\n",
    "    candidate_vector = \"candidate_vector\"\n",
    "    train_Y_date = \"2020-1-1\"\n",
    "    \n",
    "with open(f\"../datasets/{train_session}\" , \"rb\") as f:\n",
    "    train_dic = pickle.load(f)\n",
    "    \n",
    "with open(f\"../datasets/{purchases_session}\" , \"rb\") as f:\n",
    "    purchases_dic = pickle.load(f)\n",
    "    \n",
    "with open(f\"../datasets/{train_purchases_session}\" , \"rb\") as f:\n",
    "    train_purchases_dic = pickle.load(f)\n",
    "    \n",
    "\n",
    "train_df= pd.DataFrame.from_dict(train_dic, orient='index')\n",
    "purchases_df= pd.DataFrame.from_dict(purchases_dic, orient='index')\n",
    "train_purchases_df= pd.DataFrame.from_dict(train_purchases_dic, orient='index')\n",
    "del train_dic, purchases_dic, train_purchases_dic\n",
    "\n",
    "\n",
    "train_Y_raw = pd.read_csv(\"../../recsys2022/train_purchases.csv\")\n",
    "train_Y_raw['date'] = pd.to_datetime(train_Y_raw['date'])\n",
    "train_Y = train_Y_raw.iloc[(train_Y_raw['date'] >= f'{train_Y_date}').tolist(), :]\n",
    "\n",
    "\n",
    "candidate_df = pd.read_csv(f\"../datasets/{candidate_vector}.csv\").set_index(\"item_id\")\n",
    "candidate_ri_df = candidate_df.reset_index()"
   ]
  },
  {
   "cell_type": "code",
   "execution_count": null,
   "id": "d4925031-e1e1-4253-ad73-dea9278015c8",
   "metadata": {
    "tags": []
   },
   "outputs": [],
   "source": [
    "display(f\"train_df: {train_df.shape}\", train_df.head(), \"-\"*100)\n",
    "display(f\"purchases_df: {purchases_df.shape}\", purchases_df.head(), \"-\"*100)\n",
    "display(f\"train_purchases_df: {train_purchases_df.shape}\", train_purchases_df.head(), \"-\"*100)\n",
    "display(f\"train_Y: {train_Y.shape}\", train_Y, \"-\"*100)\n",
    "display(f\"candidate: {candidate_df.shape}\", candidate_df.head(), \"-\"*100)\n",
    "display(f\"candidate reset index: {candidate_ri_df.shape}\", candidate_ri_df.head(), \"-\"*100)"
   ]
  },
  {
   "cell_type": "markdown",
   "id": "cffb9eea-08a3-403b-b5de-a83c2dbfc663",
   "metadata": {},
   "source": [
    "## Concat raw data "
   ]
  },
  {
   "cell_type": "code",
   "execution_count": null,
   "id": "6bff2c90-26ea-4617-8260-af2d7378a697",
   "metadata": {},
   "outputs": [],
   "source": [
    "train_con_purchasees_df = pd.concat([train_df, purchases_df])\n",
    "train_con_test_df = pd.concat([train_df, test_df])\n",
    "purchases_con_test_df = pd.concat([purchases_df, test_df])\n",
    "train_purchases_con_test_df = pd.concat([train_purchases_df, test_df])"
   ]
  },
  {
   "cell_type": "markdown",
   "id": "84eafe5c-d2b1-4b77-b85f-46479899aa2e",
   "metadata": {
    "tags": []
   },
   "source": [
    "# Build tfidf vector"
   ]
  },
  {
   "cell_type": "markdown",
   "id": "2e2708a4-0181-477e-9f09-51a846e92e38",
   "metadata": {},
   "source": [
    "- fit tfidf model\n",
    "- turn `candidte_df` to tfidf vector"
   ]
  },
  {
   "cell_type": "code",
   "execution_count": 15,
   "id": "77907970-9e3b-49ab-a829-4d42b19f5ad2",
   "metadata": {
    "tags": []
   },
   "outputs": [
    {
     "name": "stdout",
     "output_type": "stream",
     "text": [
      "time: 301 ms (started: 2022-06-07 16:57:43 +00:00)\n"
     ]
    },
    {
     "name": "stderr",
     "output_type": "stream",
     "text": [
      "/usr/local/lib/python3.8/dist-packages/sklearn/base.py:438: UserWarning: X has feature names, but TfidfTransformer was fitted without feature names\n",
      "  warnings.warn(\n"
     ]
    }
   ],
   "source": [
    "# tfidf_train_data = test_df\n",
    "# tfidf_train_data = train_con_test_df\n",
    "# tfidf_train_data = train_purchases_df\n",
    "tfidf_train_data = train_df\n",
    "# tfidf_train_data = purchases_df\n",
    "# tfidf_train_data = train_con_purchasees_df\n",
    "\n",
    "tfidf_model = TfidfTransformer()\n",
    "tfidf_model.fit(tfidf_train_data)\n",
    "candidate_tfidf_sparse_mat = tfidf_model.transform(candidate_df)\n",
    "candidate_tfidf_arr = candidate_tfidf_sparse_mat.toarray()\n",
    "del candidate_tfidf_sparse_mat"
   ]
  },
  {
   "cell_type": "code",
   "execution_count": null,
   "id": "4159687e-702a-4906-a5c6-652d4cbfb1b5",
   "metadata": {
    "tags": []
   },
   "outputs": [],
   "source": [
    "print(f\"candidate_tfidf_arr shape:{candidate_tfidf_arr.shape}\")\n",
    "display(candidate_tfidf_arr[0])"
   ]
  },
  {
   "cell_type": "markdown",
   "id": "44bfccc1-022b-4431-9ee0-03b7b7d32a45",
   "metadata": {
    "tags": []
   },
   "source": [
    "# Compute similarity \n",
    "- similarity bewteen session_tfidf and candidate_tfidf\n",
    "- rank by similarity"
   ]
  },
  {
   "cell_type": "code",
   "execution_count": 16,
   "id": "a9fc9dac-8a27-4c96-abd5-7c9f2461630c",
   "metadata": {
    "tags": []
   },
   "outputs": [
    {
     "name": "stdout",
     "output_type": "stream",
     "text": [
      "time: 857 µs (started: 2022-06-07 16:57:43 +00:00)\n"
     ]
    }
   ],
   "source": [
    "def rank_tfidf_sim(target_df, model, overview=True):\n",
    "    session_tfidf_sparse_mat = model.transform(target_df)\n",
    "    session_tfidf_arr = session_tfidf_sparse_mat.toarray()\n",
    "    del session_tfidf_sparse_mat\n",
    "    sim_arr = np.dot(session_tfidf_arr,candidate_tfidf_arr.T) # similarity bewteen session_tfidf and candidate_tfidf\n",
    "    argsort_sim_arr = np.argsort(sim_arr)[::,::-1] # rank by similarity\n",
    "    item_id_rank_arr = np.apply_along_axis(lambda x:candidate_ri_df.loc[x[:100],\"item_id\"], 1, argsort_sim_arr).reshape(-1)\n",
    "    res_df = pd.DataFrame(np.repeat(target_df.index, 100), columns=[\"session_id\"])\n",
    "    res_df[\"item_id\"] = item_id_rank_arr\n",
    "    res_df[\"rank\"] = (list(range(1,101))*len(target_df))\n",
    "    \n",
    "    if (overview):\n",
    "        display(f\"session_tfidf_arr shape:{session_tfidf_arr.shape}\",session_tfidf_arr[0], \"-\"*100)\n",
    "        display(f\"rank by similarity:\", sim_arr[0][argsort_sim_arr[0]], \"-\"*100)\n",
    "        display(f\"argsort of sim_arr:\", argsort_sim_arr, \"-\"*100)\n",
    "        display(f\"item_id_rank_arr[:10]:\", item_id_rank_arr[:10], \"-\"*100)\n",
    "        observe_ind = np.array([[i*100+j for j in range(10)] for i in range(len(target_df))]).reshape(-1)\n",
    "        display(f\"overview rank df:\", res_df.iloc[observe_ind,:][:50], \"-\"*100)\n",
    "        \n",
    "    return res_df"
   ]
  },
  {
   "cell_type": "markdown",
   "id": "4ca11a91-f02d-4146-9ba3-aa036307ebca",
   "metadata": {
    "tags": []
   },
   "source": [
    "# evaluation"
   ]
  },
  {
   "cell_type": "code",
   "execution_count": null,
   "id": "1eae458e-db7d-46f5-a1ce-02e1c38f9c62",
   "metadata": {
    "tags": []
   },
   "outputs": [],
   "source": [
    "eva_data = train_df\n",
    "eva_label = train_Y\n",
    "\n",
    "eva_res = rank_tfidf_sim(eva_data, tfidf_model, overview=False)\n",
    "mrr_score = mrr(eva_res, eva_label, overview=False)\n",
    "\n",
    "print(mrr_score)\n",
    "display(f\"eva_res shape:{eva_res.shape}\", eva_res.iloc[95:105,:])"
   ]
  },
  {
   "cell_type": "markdown",
   "id": "54f9194f-fc0f-4e90-b03e-907ea0809a87",
   "metadata": {
    "tags": []
   },
   "source": [
    "# Output results"
   ]
  },
  {
   "cell_type": "code",
   "execution_count": 17,
   "id": "67cb6851-051a-45cf-b253-5d000fb03462",
   "metadata": {
    "tags": []
   },
   "outputs": [
    {
     "data": {
      "text/plain": [
       "'session_tfidf_arr shape:(50000, 904)'"
      ]
     },
     "metadata": {},
     "output_type": "display_data"
    },
    {
     "data": {
      "text/plain": [
       "array([0.        , 0.        , 0.        , 0.        , 0.        ,\n",
       "       0.        , 0.        , 0.        , 0.        , 0.        ,\n",
       "       0.        , 0.        , 0.        , 0.        , 0.        ,\n",
       "       0.        , 0.        , 0.32028912, 0.        , 0.        ,\n",
       "       0.        , 0.        , 0.        , 0.        , 0.        ,\n",
       "       0.        , 0.        , 0.        , 0.        , 0.        ,\n",
       "       0.        , 0.        , 0.        , 0.        , 0.        ,\n",
       "       0.        , 0.        , 0.        , 0.        , 0.        ,\n",
       "       0.        , 0.        , 0.        , 0.        , 0.        ,\n",
       "       0.        , 0.        , 0.        , 0.        , 0.        ,\n",
       "       0.        , 0.        , 0.        , 0.        , 0.        ,\n",
       "       0.        , 0.        , 0.        , 0.        , 0.        ,\n",
       "       0.        , 0.        , 0.        , 0.        , 0.        ,\n",
       "       0.        , 0.        , 0.        , 0.        , 0.        ,\n",
       "       0.        , 0.        , 0.        , 0.        , 0.        ,\n",
       "       0.        , 0.14544219, 0.        , 0.        , 0.        ,\n",
       "       0.        , 0.        , 0.        , 0.39057403, 0.        ,\n",
       "       0.        , 0.        , 0.        , 0.        , 0.        ,\n",
       "       0.        , 0.        , 0.        , 0.        , 0.        ,\n",
       "       0.        , 0.        , 0.        , 0.        , 0.        ,\n",
       "       0.        , 0.        , 0.        , 0.        , 0.        ,\n",
       "       0.        , 0.        , 0.        , 0.        , 0.        ,\n",
       "       0.        , 0.25994286, 0.        , 0.        , 0.        ,\n",
       "       0.        , 0.        , 0.        , 0.        , 0.        ,\n",
       "       0.        , 0.        , 0.        , 0.        , 0.        ,\n",
       "       0.        , 0.        , 0.        , 0.        , 0.        ,\n",
       "       0.        , 0.        , 0.        , 0.        , 0.        ,\n",
       "       0.        , 0.        , 0.        , 0.        , 0.        ,\n",
       "       0.        , 0.        , 0.        , 0.        , 0.        ,\n",
       "       0.        , 0.        , 0.        , 0.        , 0.        ,\n",
       "       0.        , 0.        , 0.        , 0.        , 0.        ,\n",
       "       0.        , 0.23566033, 0.        , 0.        , 0.        ,\n",
       "       0.        , 0.        , 0.        , 0.        , 0.        ,\n",
       "       0.        , 0.        , 0.        , 0.        , 0.        ,\n",
       "       0.        , 0.        , 0.        , 0.        , 0.        ,\n",
       "       0.        , 0.        , 0.        , 0.        , 0.        ,\n",
       "       0.        , 0.        , 0.        , 0.        , 0.        ,\n",
       "       0.        , 0.        , 0.        , 0.        , 0.        ,\n",
       "       0.        , 0.        , 0.        , 0.        , 0.        ,\n",
       "       0.        , 0.        , 0.        , 0.        , 0.        ,\n",
       "       0.        , 0.        , 0.        , 0.        , 0.        ,\n",
       "       0.        , 0.        , 0.        , 0.        , 0.        ,\n",
       "       0.        , 0.        , 0.        , 0.        , 0.        ,\n",
       "       0.        , 0.        , 0.        , 0.        , 0.        ,\n",
       "       0.        , 0.        , 0.        , 0.        , 0.        ,\n",
       "       0.        , 0.        , 0.        , 0.        , 0.        ,\n",
       "       0.        , 0.        , 0.        , 0.        , 0.        ,\n",
       "       0.        , 0.        , 0.        , 0.        , 0.        ,\n",
       "       0.        , 0.        , 0.        , 0.        , 0.        ,\n",
       "       0.        , 0.        , 0.        , 0.        , 0.        ,\n",
       "       0.        , 0.        , 0.        , 0.        , 0.        ,\n",
       "       0.        , 0.        , 0.        , 0.        , 0.        ,\n",
       "       0.        , 0.        , 0.        , 0.        , 0.        ,\n",
       "       0.        , 0.        , 0.        , 0.        , 0.        ,\n",
       "       0.        , 0.        , 0.        , 0.        , 0.        ,\n",
       "       0.        , 0.        , 0.        , 0.        , 0.        ,\n",
       "       0.        , 0.        , 0.        , 0.24935998, 0.        ,\n",
       "       0.        , 0.        , 0.        , 0.        , 0.        ,\n",
       "       0.        , 0.        , 0.        , 0.        , 0.        ,\n",
       "       0.        , 0.        , 0.        , 0.        , 0.        ,\n",
       "       0.        , 0.        , 0.        , 0.        , 0.        ,\n",
       "       0.        , 0.        , 0.        , 0.        , 0.        ,\n",
       "       0.        , 0.        , 0.        , 0.        , 0.        ,\n",
       "       0.        , 0.        , 0.        , 0.        , 0.        ,\n",
       "       0.        , 0.        , 0.        , 0.        , 0.        ,\n",
       "       0.        , 0.        , 0.        , 0.        , 0.        ,\n",
       "       0.        , 0.        , 0.17103822, 0.        , 0.        ,\n",
       "       0.        , 0.        , 0.        , 0.        , 0.        ,\n",
       "       0.        , 0.        , 0.        , 0.        , 0.        ,\n",
       "       0.        , 0.        , 0.        , 0.        , 0.        ,\n",
       "       0.        , 0.        , 0.        , 0.        , 0.        ,\n",
       "       0.        , 0.        , 0.        , 0.        , 0.        ,\n",
       "       0.        , 0.        , 0.        , 0.        , 0.        ,\n",
       "       0.        , 0.        , 0.        , 0.        , 0.        ,\n",
       "       0.        , 0.        , 0.        , 0.        , 0.        ,\n",
       "       0.        , 0.        , 0.        , 0.        , 0.        ,\n",
       "       0.        , 0.        , 0.        , 0.        , 0.        ,\n",
       "       0.        , 0.        , 0.        , 0.        , 0.        ,\n",
       "       0.        , 0.        , 0.16926275, 0.        , 0.        ,\n",
       "       0.        , 0.        , 0.        , 0.        , 0.16911279,\n",
       "       0.        , 0.        , 0.        , 0.        , 0.        ,\n",
       "       0.        , 0.        , 0.        , 0.        , 0.        ,\n",
       "       0.        , 0.2194609 , 0.        , 0.        , 0.        ,\n",
       "       0.        , 0.        , 0.        , 0.        , 0.        ,\n",
       "       0.        , 0.        , 0.        , 0.        , 0.        ,\n",
       "       0.        , 0.        , 0.        , 0.        , 0.        ,\n",
       "       0.        , 0.        , 0.        , 0.        , 0.        ,\n",
       "       0.        , 0.        , 0.        , 0.        , 0.        ,\n",
       "       0.12943488, 0.        , 0.        , 0.        , 0.        ,\n",
       "       0.        , 0.        , 0.        , 0.        , 0.        ,\n",
       "       0.        , 0.        , 0.        , 0.        , 0.        ,\n",
       "       0.        , 0.12983109, 0.        , 0.        , 0.        ,\n",
       "       0.        , 0.        , 0.        , 0.        , 0.        ,\n",
       "       0.        , 0.        , 0.        , 0.        , 0.        ,\n",
       "       0.        , 0.        , 0.        , 0.        , 0.        ,\n",
       "       0.        , 0.        , 0.        , 0.        , 0.        ,\n",
       "       0.        , 0.        , 0.        , 0.        , 0.        ,\n",
       "       0.        , 0.        , 0.        , 0.        , 0.        ,\n",
       "       0.        , 0.        , 0.        , 0.        , 0.        ,\n",
       "       0.        , 0.        , 0.        , 0.        , 0.        ,\n",
       "       0.        , 0.        , 0.        , 0.        , 0.        ,\n",
       "       0.        , 0.        , 0.13617774, 0.        , 0.        ,\n",
       "       0.        , 0.        , 0.        , 0.        , 0.        ,\n",
       "       0.        , 0.        , 0.        , 0.        , 0.        ,\n",
       "       0.        , 0.        , 0.        , 0.        , 0.        ,\n",
       "       0.        , 0.        , 0.        , 0.        , 0.        ,\n",
       "       0.        , 0.        , 0.        , 0.        , 0.        ,\n",
       "       0.        , 0.        , 0.        , 0.        , 0.        ,\n",
       "       0.        , 0.        , 0.        , 0.        , 0.        ,\n",
       "       0.        , 0.        , 0.        , 0.        , 0.        ,\n",
       "       0.        , 0.        , 0.        , 0.        , 0.        ,\n",
       "       0.        , 0.        , 0.        , 0.        , 0.        ,\n",
       "       0.        , 0.        , 0.        , 0.        , 0.        ,\n",
       "       0.        , 0.        , 0.        , 0.        , 0.        ,\n",
       "       0.        , 0.11873749, 0.        , 0.        , 0.        ,\n",
       "       0.        , 0.        , 0.        , 0.        , 0.        ,\n",
       "       0.        , 0.        , 0.        , 0.        , 0.        ,\n",
       "       0.        , 0.        , 0.        , 0.        , 0.        ,\n",
       "       0.        , 0.        , 0.        , 0.        , 0.        ,\n",
       "       0.        , 0.        , 0.        , 0.        , 0.        ,\n",
       "       0.        , 0.        , 0.        , 0.        , 0.        ,\n",
       "       0.        , 0.        , 0.        , 0.        , 0.        ,\n",
       "       0.        , 0.        , 0.        , 0.        , 0.        ,\n",
       "       0.        , 0.        , 0.        , 0.        , 0.        ,\n",
       "       0.        , 0.        , 0.        , 0.        , 0.        ,\n",
       "       0.        , 0.        , 0.        , 0.25023457, 0.        ,\n",
       "       0.        , 0.        , 0.        , 0.        , 0.        ,\n",
       "       0.        , 0.        , 0.        , 0.        , 0.        ,\n",
       "       0.        , 0.        , 0.        , 0.        , 0.        ,\n",
       "       0.        , 0.        , 0.17228684, 0.        , 0.        ,\n",
       "       0.        , 0.        , 0.        , 0.        , 0.        ,\n",
       "       0.        , 0.        , 0.        , 0.        , 0.        ,\n",
       "       0.        , 0.        , 0.        , 0.17844856, 0.        ,\n",
       "       0.        , 0.        , 0.        , 0.        , 0.        ,\n",
       "       0.        , 0.        , 0.        , 0.        , 0.        ,\n",
       "       0.        , 0.        , 0.        , 0.        , 0.        ,\n",
       "       0.        , 0.        , 0.        , 0.        , 0.        ,\n",
       "       0.        , 0.        , 0.        , 0.        , 0.        ,\n",
       "       0.        , 0.        , 0.12943488, 0.        , 0.        ,\n",
       "       0.        , 0.        , 0.        , 0.        , 0.        ,\n",
       "       0.        , 0.        , 0.        , 0.        , 0.        ,\n",
       "       0.16007922, 0.        , 0.        , 0.        , 0.        ,\n",
       "       0.        , 0.        , 0.        , 0.        , 0.        ,\n",
       "       0.        , 0.        , 0.        , 0.        , 0.        ,\n",
       "       0.        , 0.        , 0.        , 0.        , 0.        ,\n",
       "       0.        , 0.        , 0.        , 0.        , 0.        ,\n",
       "       0.        , 0.        , 0.        , 0.        , 0.        ,\n",
       "       0.        , 0.        , 0.        , 0.        , 0.        ,\n",
       "       0.        , 0.        , 0.        , 0.18108941, 0.        ,\n",
       "       0.        , 0.        , 0.        , 0.        , 0.        ,\n",
       "       0.        , 0.        , 0.        , 0.        , 0.        ,\n",
       "       0.        , 0.        , 0.        , 0.        , 0.        ,\n",
       "       0.        , 0.        , 0.        , 0.        , 0.        ,\n",
       "       0.        , 0.        , 0.        , 0.        , 0.        ,\n",
       "       0.        , 0.        , 0.        , 0.        , 0.        ,\n",
       "       0.        , 0.        , 0.        , 0.        , 0.        ,\n",
       "       0.        , 0.        , 0.        , 0.        , 0.        ,\n",
       "       0.        , 0.        , 0.        , 0.        , 0.        ,\n",
       "       0.        , 0.        , 0.        , 0.        , 0.        ,\n",
       "       0.        , 0.        , 0.        , 0.        , 0.        ,\n",
       "       0.        , 0.        , 0.        , 0.        , 0.20158545,\n",
       "       0.        , 0.        , 0.        , 0.        , 0.        ,\n",
       "       0.        , 0.        , 0.        , 0.        , 0.        ,\n",
       "       0.        , 0.        , 0.        , 0.        , 0.        ,\n",
       "       0.        , 0.        , 0.        , 0.        , 0.        ,\n",
       "       0.        , 0.        , 0.        , 0.        , 0.        ,\n",
       "       0.        , 0.        , 0.        , 0.        , 0.        ,\n",
       "       0.        , 0.        , 0.        , 0.        , 0.        ,\n",
       "       0.        , 0.        , 0.        , 0.        , 0.        ,\n",
       "       0.        , 0.        , 0.        , 0.        , 0.        ,\n",
       "       0.        , 0.        , 0.        , 0.        , 0.        ,\n",
       "       0.14367522, 0.        , 0.        , 0.        , 0.12111232,\n",
       "       0.        , 0.        , 0.        , 0.        , 0.        ,\n",
       "       0.        , 0.        , 0.        , 0.        , 0.        ,\n",
       "       0.        , 0.        , 0.        , 0.        , 0.        ,\n",
       "       0.        , 0.        , 0.        , 0.        , 0.        ,\n",
       "       0.        , 0.        , 0.        , 0.        , 0.        ,\n",
       "       0.        , 0.        , 0.        , 0.        , 0.        ,\n",
       "       0.        , 0.24948886, 0.        , 0.        , 0.        ,\n",
       "       0.        , 0.        , 0.        , 0.        , 0.        ,\n",
       "       0.        , 0.        , 0.        , 0.        ])"
      ]
     },
     "metadata": {},
     "output_type": "display_data"
    },
    {
     "data": {
      "text/plain": [
       "'----------------------------------------------------------------------------------------------------'"
      ]
     },
     "metadata": {},
     "output_type": "display_data"
    },
    {
     "data": {
      "text/plain": [
       "'rank by similarity:'"
      ]
     },
     "metadata": {},
     "output_type": "display_data"
    },
    {
     "data": {
      "text/plain": [
       "array([1.        , 0.95419672, 0.91802775, ..., 0.00745481, 0.00696543,\n",
       "       0.00674127])"
      ]
     },
     "metadata": {},
     "output_type": "display_data"
    },
    {
     "data": {
      "text/plain": [
       "'----------------------------------------------------------------------------------------------------'"
      ]
     },
     "metadata": {},
     "output_type": "display_data"
    },
    {
     "data": {
      "text/plain": [
       "'argsort of sim_arr:'"
      ]
     },
     "metadata": {},
     "output_type": "display_data"
    },
    {
     "data": {
      "text/plain": [
       "array([[2553,  436, 2350, ...,  779, 2967, 2265],\n",
       "       [2261, 2290, 3168, ..., 1817, 1197,  207],\n",
       "       [1099,  864, 2321, ...,  779, 2967, 2265],\n",
       "       ...,\n",
       "       [2536, 1860, 1346, ...,  269, 1806, 3676],\n",
       "       [3433,   32, 2250, ..., 2116, 2349, 1817],\n",
       "       [ 293, 1150,  281, ...,  779, 2967, 2265]])"
      ]
     },
     "metadata": {},
     "output_type": "display_data"
    },
    {
     "data": {
      "text/plain": [
       "'----------------------------------------------------------------------------------------------------'"
      ]
     },
     "metadata": {},
     "output_type": "display_data"
    },
    {
     "data": {
      "text/plain": [
       "'item_id_rank_arr[:10]:'"
      ]
     },
     "metadata": {},
     "output_type": "display_data"
    },
    {
     "data": {
      "text/plain": [
       "array([19185,  3260, 17740, 22166, 18418,  7109, 22736,  5199, 23612,\n",
       "       16604])"
      ]
     },
     "metadata": {},
     "output_type": "display_data"
    },
    {
     "data": {
      "text/plain": [
       "'----------------------------------------------------------------------------------------------------'"
      ]
     },
     "metadata": {},
     "output_type": "display_data"
    },
    {
     "data": {
      "text/plain": [
       "'overview rank df:'"
      ]
     },
     "metadata": {},
     "output_type": "display_data"
    },
    {
     "data": {
      "text/html": [
       "<div>\n",
       "<style scoped>\n",
       "    .dataframe tbody tr th:only-of-type {\n",
       "        vertical-align: middle;\n",
       "    }\n",
       "\n",
       "    .dataframe tbody tr th {\n",
       "        vertical-align: top;\n",
       "    }\n",
       "\n",
       "    .dataframe thead th {\n",
       "        text-align: right;\n",
       "    }\n",
       "</style>\n",
       "<table border=\"1\" class=\"dataframe\">\n",
       "  <thead>\n",
       "    <tr style=\"text-align: right;\">\n",
       "      <th></th>\n",
       "      <th>session_id</th>\n",
       "      <th>item_id</th>\n",
       "      <th>rank</th>\n",
       "    </tr>\n",
       "  </thead>\n",
       "  <tbody>\n",
       "    <tr>\n",
       "      <th>0</th>\n",
       "      <td>26</td>\n",
       "      <td>19185</td>\n",
       "      <td>1</td>\n",
       "    </tr>\n",
       "    <tr>\n",
       "      <th>1</th>\n",
       "      <td>26</td>\n",
       "      <td>3260</td>\n",
       "      <td>2</td>\n",
       "    </tr>\n",
       "    <tr>\n",
       "      <th>2</th>\n",
       "      <td>26</td>\n",
       "      <td>17740</td>\n",
       "      <td>3</td>\n",
       "    </tr>\n",
       "    <tr>\n",
       "      <th>3</th>\n",
       "      <td>26</td>\n",
       "      <td>22166</td>\n",
       "      <td>4</td>\n",
       "    </tr>\n",
       "    <tr>\n",
       "      <th>4</th>\n",
       "      <td>26</td>\n",
       "      <td>18418</td>\n",
       "      <td>5</td>\n",
       "    </tr>\n",
       "    <tr>\n",
       "      <th>5</th>\n",
       "      <td>26</td>\n",
       "      <td>7109</td>\n",
       "      <td>6</td>\n",
       "    </tr>\n",
       "    <tr>\n",
       "      <th>6</th>\n",
       "      <td>26</td>\n",
       "      <td>22736</td>\n",
       "      <td>7</td>\n",
       "    </tr>\n",
       "    <tr>\n",
       "      <th>7</th>\n",
       "      <td>26</td>\n",
       "      <td>5199</td>\n",
       "      <td>8</td>\n",
       "    </tr>\n",
       "    <tr>\n",
       "      <th>8</th>\n",
       "      <td>26</td>\n",
       "      <td>23612</td>\n",
       "      <td>9</td>\n",
       "    </tr>\n",
       "    <tr>\n",
       "      <th>9</th>\n",
       "      <td>26</td>\n",
       "      <td>16604</td>\n",
       "      <td>10</td>\n",
       "    </tr>\n",
       "    <tr>\n",
       "      <th>100</th>\n",
       "      <td>200</td>\n",
       "      <td>17089</td>\n",
       "      <td>1</td>\n",
       "    </tr>\n",
       "    <tr>\n",
       "      <th>101</th>\n",
       "      <td>200</td>\n",
       "      <td>17316</td>\n",
       "      <td>2</td>\n",
       "    </tr>\n",
       "    <tr>\n",
       "      <th>102</th>\n",
       "      <td>200</td>\n",
       "      <td>23764</td>\n",
       "      <td>3</td>\n",
       "    </tr>\n",
       "    <tr>\n",
       "      <th>103</th>\n",
       "      <td>200</td>\n",
       "      <td>1382</td>\n",
       "      <td>4</td>\n",
       "    </tr>\n",
       "    <tr>\n",
       "      <th>104</th>\n",
       "      <td>200</td>\n",
       "      <td>2458</td>\n",
       "      <td>5</td>\n",
       "    </tr>\n",
       "    <tr>\n",
       "      <th>105</th>\n",
       "      <td>200</td>\n",
       "      <td>23160</td>\n",
       "      <td>6</td>\n",
       "    </tr>\n",
       "    <tr>\n",
       "      <th>106</th>\n",
       "      <td>200</td>\n",
       "      <td>25287</td>\n",
       "      <td>7</td>\n",
       "    </tr>\n",
       "    <tr>\n",
       "      <th>107</th>\n",
       "      <td>200</td>\n",
       "      <td>4276</td>\n",
       "      <td>8</td>\n",
       "    </tr>\n",
       "    <tr>\n",
       "      <th>108</th>\n",
       "      <td>200</td>\n",
       "      <td>23170</td>\n",
       "      <td>9</td>\n",
       "    </tr>\n",
       "    <tr>\n",
       "      <th>109</th>\n",
       "      <td>200</td>\n",
       "      <td>7011</td>\n",
       "      <td>10</td>\n",
       "    </tr>\n",
       "    <tr>\n",
       "      <th>200</th>\n",
       "      <td>205</td>\n",
       "      <td>8194</td>\n",
       "      <td>1</td>\n",
       "    </tr>\n",
       "    <tr>\n",
       "      <th>201</th>\n",
       "      <td>205</td>\n",
       "      <td>6487</td>\n",
       "      <td>2</td>\n",
       "    </tr>\n",
       "    <tr>\n",
       "      <th>202</th>\n",
       "      <td>205</td>\n",
       "      <td>17554</td>\n",
       "      <td>3</td>\n",
       "    </tr>\n",
       "    <tr>\n",
       "      <th>203</th>\n",
       "      <td>205</td>\n",
       "      <td>20704</td>\n",
       "      <td>4</td>\n",
       "    </tr>\n",
       "    <tr>\n",
       "      <th>204</th>\n",
       "      <td>205</td>\n",
       "      <td>19143</td>\n",
       "      <td>5</td>\n",
       "    </tr>\n",
       "    <tr>\n",
       "      <th>205</th>\n",
       "      <td>205</td>\n",
       "      <td>28128</td>\n",
       "      <td>6</td>\n",
       "    </tr>\n",
       "    <tr>\n",
       "      <th>206</th>\n",
       "      <td>205</td>\n",
       "      <td>10956</td>\n",
       "      <td>7</td>\n",
       "    </tr>\n",
       "    <tr>\n",
       "      <th>207</th>\n",
       "      <td>205</td>\n",
       "      <td>21784</td>\n",
       "      <td>8</td>\n",
       "    </tr>\n",
       "    <tr>\n",
       "      <th>208</th>\n",
       "      <td>205</td>\n",
       "      <td>21665</td>\n",
       "      <td>9</td>\n",
       "    </tr>\n",
       "    <tr>\n",
       "      <th>209</th>\n",
       "      <td>205</td>\n",
       "      <td>24215</td>\n",
       "      <td>10</td>\n",
       "    </tr>\n",
       "    <tr>\n",
       "      <th>300</th>\n",
       "      <td>495</td>\n",
       "      <td>13385</td>\n",
       "      <td>1</td>\n",
       "    </tr>\n",
       "    <tr>\n",
       "      <th>301</th>\n",
       "      <td>495</td>\n",
       "      <td>3585</td>\n",
       "      <td>2</td>\n",
       "    </tr>\n",
       "    <tr>\n",
       "      <th>302</th>\n",
       "      <td>495</td>\n",
       "      <td>24020</td>\n",
       "      <td>3</td>\n",
       "    </tr>\n",
       "    <tr>\n",
       "      <th>303</th>\n",
       "      <td>495</td>\n",
       "      <td>13006</td>\n",
       "      <td>4</td>\n",
       "    </tr>\n",
       "    <tr>\n",
       "      <th>304</th>\n",
       "      <td>495</td>\n",
       "      <td>21557</td>\n",
       "      <td>5</td>\n",
       "    </tr>\n",
       "    <tr>\n",
       "      <th>305</th>\n",
       "      <td>495</td>\n",
       "      <td>27462</td>\n",
       "      <td>6</td>\n",
       "    </tr>\n",
       "    <tr>\n",
       "      <th>306</th>\n",
       "      <td>495</td>\n",
       "      <td>18028</td>\n",
       "      <td>7</td>\n",
       "    </tr>\n",
       "    <tr>\n",
       "      <th>307</th>\n",
       "      <td>495</td>\n",
       "      <td>13360</td>\n",
       "      <td>8</td>\n",
       "    </tr>\n",
       "    <tr>\n",
       "      <th>308</th>\n",
       "      <td>495</td>\n",
       "      <td>27729</td>\n",
       "      <td>9</td>\n",
       "    </tr>\n",
       "    <tr>\n",
       "      <th>309</th>\n",
       "      <td>495</td>\n",
       "      <td>8989</td>\n",
       "      <td>10</td>\n",
       "    </tr>\n",
       "    <tr>\n",
       "      <th>400</th>\n",
       "      <td>521</td>\n",
       "      <td>26471</td>\n",
       "      <td>1</td>\n",
       "    </tr>\n",
       "    <tr>\n",
       "      <th>401</th>\n",
       "      <td>521</td>\n",
       "      <td>12141</td>\n",
       "      <td>2</td>\n",
       "    </tr>\n",
       "    <tr>\n",
       "      <th>402</th>\n",
       "      <td>521</td>\n",
       "      <td>5375</td>\n",
       "      <td>3</td>\n",
       "    </tr>\n",
       "    <tr>\n",
       "      <th>403</th>\n",
       "      <td>521</td>\n",
       "      <td>16189</td>\n",
       "      <td>4</td>\n",
       "    </tr>\n",
       "    <tr>\n",
       "      <th>404</th>\n",
       "      <td>521</td>\n",
       "      <td>16162</td>\n",
       "      <td>5</td>\n",
       "    </tr>\n",
       "    <tr>\n",
       "      <th>405</th>\n",
       "      <td>521</td>\n",
       "      <td>27782</td>\n",
       "      <td>6</td>\n",
       "    </tr>\n",
       "    <tr>\n",
       "      <th>406</th>\n",
       "      <td>521</td>\n",
       "      <td>866</td>\n",
       "      <td>7</td>\n",
       "    </tr>\n",
       "    <tr>\n",
       "      <th>407</th>\n",
       "      <td>521</td>\n",
       "      <td>13967</td>\n",
       "      <td>8</td>\n",
       "    </tr>\n",
       "    <tr>\n",
       "      <th>408</th>\n",
       "      <td>521</td>\n",
       "      <td>5798</td>\n",
       "      <td>9</td>\n",
       "    </tr>\n",
       "    <tr>\n",
       "      <th>409</th>\n",
       "      <td>521</td>\n",
       "      <td>9634</td>\n",
       "      <td>10</td>\n",
       "    </tr>\n",
       "  </tbody>\n",
       "</table>\n",
       "</div>"
      ],
      "text/plain": [
       "     session_id  item_id  rank\n",
       "0            26    19185     1\n",
       "1            26     3260     2\n",
       "2            26    17740     3\n",
       "3            26    22166     4\n",
       "4            26    18418     5\n",
       "5            26     7109     6\n",
       "6            26    22736     7\n",
       "7            26     5199     8\n",
       "8            26    23612     9\n",
       "9            26    16604    10\n",
       "100         200    17089     1\n",
       "101         200    17316     2\n",
       "102         200    23764     3\n",
       "103         200     1382     4\n",
       "104         200     2458     5\n",
       "105         200    23160     6\n",
       "106         200    25287     7\n",
       "107         200     4276     8\n",
       "108         200    23170     9\n",
       "109         200     7011    10\n",
       "200         205     8194     1\n",
       "201         205     6487     2\n",
       "202         205    17554     3\n",
       "203         205    20704     4\n",
       "204         205    19143     5\n",
       "205         205    28128     6\n",
       "206         205    10956     7\n",
       "207         205    21784     8\n",
       "208         205    21665     9\n",
       "209         205    24215    10\n",
       "300         495    13385     1\n",
       "301         495     3585     2\n",
       "302         495    24020     3\n",
       "303         495    13006     4\n",
       "304         495    21557     5\n",
       "305         495    27462     6\n",
       "306         495    18028     7\n",
       "307         495    13360     8\n",
       "308         495    27729     9\n",
       "309         495     8989    10\n",
       "400         521    26471     1\n",
       "401         521    12141     2\n",
       "402         521     5375     3\n",
       "403         521    16189     4\n",
       "404         521    16162     5\n",
       "405         521    27782     6\n",
       "406         521      866     7\n",
       "407         521    13967     8\n",
       "408         521     5798     9\n",
       "409         521     9634    10"
      ]
     },
     "metadata": {},
     "output_type": "display_data"
    },
    {
     "data": {
      "text/plain": [
       "'----------------------------------------------------------------------------------------------------'"
      ]
     },
     "metadata": {},
     "output_type": "display_data"
    },
    {
     "name": "stdout",
     "output_type": "stream",
     "text": [
      "time: 22.7 s (started: 2022-06-07 16:58:05 +00:00)\n"
     ]
    }
   ],
   "source": [
    "res = rank_tfidf_sim(test_df, tfidf_model)\n",
    "res.to_csv(\"../datasets/results/leader_tfidf_leader_con_filter_final_0607.csv\", index=False)\n",
    "del res"
   ]
  },
  {
   "cell_type": "code",
   "execution_count": null,
   "id": "decbf963-dd21-4018-b684-cba8e45f7086",
   "metadata": {},
   "outputs": [],
   "source": []
  }
 ],
 "metadata": {
  "kernelspec": {
   "display_name": "Python 3 (ipykernel)",
   "language": "python",
   "name": "python3"
  },
  "language_info": {
   "codemirror_mode": {
    "name": "ipython",
    "version": 3
   },
   "file_extension": ".py",
   "mimetype": "text/x-python",
   "name": "python",
   "nbconvert_exporter": "python",
   "pygments_lexer": "ipython3",
   "version": "3.8.10"
  }
 },
 "nbformat": 4,
 "nbformat_minor": 5
}
