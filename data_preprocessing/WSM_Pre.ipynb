{
 "cells": [
  {
   "cell_type": "code",
   "execution_count": 2,
   "metadata": {
    "id": "scDPkv58DTDV"
   },
   "outputs": [],
   "source": [
    "import pandas as pd\n",
    "import pickle"
   ]
  },
  {
   "cell_type": "code",
   "execution_count": 3,
   "metadata": {},
   "outputs": [],
   "source": [
    "def save_to_pickle(pkl_path,dict_obj):\n",
    "    file = open(pkl_path, \"wb\")\n",
    "    pickle.dump(dict_obj, file)\n",
    "    file.close()"
   ]
  },
  {
   "cell_type": "code",
   "execution_count": 4,
   "metadata": {},
   "outputs": [],
   "source": [
    "def map_feature_label(target_path,dict_csv_path):\n",
    "    all_feature=pd.read_csv(dict_csv_path)\n",
    "    feature_label_divtionary={k:v for k,v in zip(all_feature['feature_name'],all_feature['label'])}\n",
    "    item_feature=pd.read_csv(target_path)\n",
    "    item_feature['feature_category_id'] = item_feature['feature_category_id'].apply(str)\n",
    "    item_feature['feature_value_id'] = item_feature['feature_value_id'].apply(str)\n",
    "    item_feature['feature_name']=item_feature[\"feature_category_id\"] + \"_\" + item_feature[\"feature_value_id\"]\n",
    "    item_feature['lebal']=[feature_label_divtionary[i] for i in item_feature['feature_name']]\n",
    "    item_feature['lebal'].apply(int)\n",
    "    return item_feature"
   ]
  },
  {
   "cell_type": "markdown",
   "metadata": {
    "id": "9gluhu7-EIZT"
   },
   "source": [
    "# 計算item_category+item_value之出現次數"
   ]
  },
  {
   "cell_type": "code",
   "execution_count": 9,
   "metadata": {
    "id": "wV8Ll9imDTDb"
   },
   "outputs": [
    {
     "data": {
      "text/html": [
       "<div>\n",
       "<style scoped>\n",
       "    .dataframe tbody tr th:only-of-type {\n",
       "        vertical-align: middle;\n",
       "    }\n",
       "\n",
       "    .dataframe tbody tr th {\n",
       "        vertical-align: top;\n",
       "    }\n",
       "\n",
       "    .dataframe thead th {\n",
       "        text-align: right;\n",
       "    }\n",
       "</style>\n",
       "<table border=\"1\" class=\"dataframe\">\n",
       "  <thead>\n",
       "    <tr style=\"text-align: right;\">\n",
       "      <th></th>\n",
       "      <th>feature_category_id</th>\n",
       "      <th>feature_value_id</th>\n",
       "      <th>item_id</th>\n",
       "    </tr>\n",
       "  </thead>\n",
       "  <tbody>\n",
       "    <tr>\n",
       "      <th>0</th>\n",
       "      <td>1</td>\n",
       "      <td>60</td>\n",
       "      <td>1</td>\n",
       "    </tr>\n",
       "    <tr>\n",
       "      <th>1</th>\n",
       "      <td>1</td>\n",
       "      <td>143</td>\n",
       "      <td>10</td>\n",
       "    </tr>\n",
       "    <tr>\n",
       "      <th>2</th>\n",
       "      <td>1</td>\n",
       "      <td>358</td>\n",
       "      <td>2</td>\n",
       "    </tr>\n",
       "    <tr>\n",
       "      <th>3</th>\n",
       "      <td>1</td>\n",
       "      <td>461</td>\n",
       "      <td>924</td>\n",
       "    </tr>\n",
       "    <tr>\n",
       "      <th>4</th>\n",
       "      <td>1</td>\n",
       "      <td>517</td>\n",
       "      <td>2</td>\n",
       "    </tr>\n",
       "    <tr>\n",
       "      <th>...</th>\n",
       "      <td>...</td>\n",
       "      <td>...</td>\n",
       "      <td>...</td>\n",
       "    </tr>\n",
       "    <tr>\n",
       "      <th>899</th>\n",
       "      <td>72</td>\n",
       "      <td>751</td>\n",
       "      <td>55</td>\n",
       "    </tr>\n",
       "    <tr>\n",
       "      <th>900</th>\n",
       "      <td>72</td>\n",
       "      <td>829</td>\n",
       "      <td>405</td>\n",
       "    </tr>\n",
       "    <tr>\n",
       "      <th>901</th>\n",
       "      <td>72</td>\n",
       "      <td>883</td>\n",
       "      <td>65</td>\n",
       "    </tr>\n",
       "    <tr>\n",
       "      <th>902</th>\n",
       "      <td>73</td>\n",
       "      <td>91</td>\n",
       "      <td>2381</td>\n",
       "    </tr>\n",
       "    <tr>\n",
       "      <th>903</th>\n",
       "      <td>73</td>\n",
       "      <td>544</td>\n",
       "      <td>10958</td>\n",
       "    </tr>\n",
       "  </tbody>\n",
       "</table>\n",
       "<p>904 rows × 3 columns</p>\n",
       "</div>"
      ],
      "text/plain": [
       "     feature_category_id  feature_value_id  item_id\n",
       "0                      1                60        1\n",
       "1                      1               143       10\n",
       "2                      1               358        2\n",
       "3                      1               461      924\n",
       "4                      1               517        2\n",
       "..                   ...               ...      ...\n",
       "899                   72               751       55\n",
       "900                   72               829      405\n",
       "901                   72               883       65\n",
       "902                   73                91     2381\n",
       "903                   73               544    10958\n",
       "\n",
       "[904 rows x 3 columns]"
      ]
     },
     "execution_count": 9,
     "metadata": {},
     "output_type": "execute_result"
    }
   ],
   "source": [
    "item_feature=pd.read_csv(\"item_features.csv\")\n",
    "# item_feature.columns\n",
    "all_feature=item_feature.groupby(['feature_category_id','feature_value_id']).count()\n",
    "# all_feature\n",
    "all_feature.to_csv('__feature.csv')\n",
    "all_feature=pd.read_csv('__feature.csv')\n",
    "all_feature"
   ]
  },
  {
   "cell_type": "markdown",
   "metadata": {
    "id": "6J6KCjrAW_AK"
   },
   "source": [
    "# Data preprocessing\n",
    "- item=>vector\n",
    "- session=>vector\n",
    "## feature encoding"
   ]
  },
  {
   "cell_type": "code",
   "execution_count": 6,
   "metadata": {
    "id": "rI2-R4K0DTDl"
   },
   "outputs": [
    {
     "data": {
      "text/html": [
       "<div>\n",
       "<style scoped>\n",
       "    .dataframe tbody tr th:only-of-type {\n",
       "        vertical-align: middle;\n",
       "    }\n",
       "\n",
       "    .dataframe tbody tr th {\n",
       "        vertical-align: top;\n",
       "    }\n",
       "\n",
       "    .dataframe thead th {\n",
       "        text-align: right;\n",
       "    }\n",
       "</style>\n",
       "<table border=\"1\" class=\"dataframe\">\n",
       "  <thead>\n",
       "    <tr style=\"text-align: right;\">\n",
       "      <th></th>\n",
       "      <th>feature_category_id</th>\n",
       "      <th>feature_value_id</th>\n",
       "      <th>feature_name</th>\n",
       "      <th>label</th>\n",
       "    </tr>\n",
       "  </thead>\n",
       "  <tbody>\n",
       "    <tr>\n",
       "      <th>0</th>\n",
       "      <td>1</td>\n",
       "      <td>60</td>\n",
       "      <td>1_60</td>\n",
       "      <td>0</td>\n",
       "    </tr>\n",
       "    <tr>\n",
       "      <th>1</th>\n",
       "      <td>1</td>\n",
       "      <td>143</td>\n",
       "      <td>1_143</td>\n",
       "      <td>1</td>\n",
       "    </tr>\n",
       "    <tr>\n",
       "      <th>2</th>\n",
       "      <td>1</td>\n",
       "      <td>358</td>\n",
       "      <td>1_358</td>\n",
       "      <td>2</td>\n",
       "    </tr>\n",
       "    <tr>\n",
       "      <th>3</th>\n",
       "      <td>1</td>\n",
       "      <td>461</td>\n",
       "      <td>1_461</td>\n",
       "      <td>3</td>\n",
       "    </tr>\n",
       "    <tr>\n",
       "      <th>4</th>\n",
       "      <td>1</td>\n",
       "      <td>517</td>\n",
       "      <td>1_517</td>\n",
       "      <td>4</td>\n",
       "    </tr>\n",
       "    <tr>\n",
       "      <th>...</th>\n",
       "      <td>...</td>\n",
       "      <td>...</td>\n",
       "      <td>...</td>\n",
       "      <td>...</td>\n",
       "    </tr>\n",
       "    <tr>\n",
       "      <th>899</th>\n",
       "      <td>72</td>\n",
       "      <td>751</td>\n",
       "      <td>72_751</td>\n",
       "      <td>899</td>\n",
       "    </tr>\n",
       "    <tr>\n",
       "      <th>900</th>\n",
       "      <td>72</td>\n",
       "      <td>829</td>\n",
       "      <td>72_829</td>\n",
       "      <td>900</td>\n",
       "    </tr>\n",
       "    <tr>\n",
       "      <th>901</th>\n",
       "      <td>72</td>\n",
       "      <td>883</td>\n",
       "      <td>72_883</td>\n",
       "      <td>901</td>\n",
       "    </tr>\n",
       "    <tr>\n",
       "      <th>902</th>\n",
       "      <td>73</td>\n",
       "      <td>91</td>\n",
       "      <td>73_91</td>\n",
       "      <td>902</td>\n",
       "    </tr>\n",
       "    <tr>\n",
       "      <th>903</th>\n",
       "      <td>73</td>\n",
       "      <td>544</td>\n",
       "      <td>73_544</td>\n",
       "      <td>903</td>\n",
       "    </tr>\n",
       "  </tbody>\n",
       "</table>\n",
       "<p>904 rows × 4 columns</p>\n",
       "</div>"
      ],
      "text/plain": [
       "    feature_category_id feature_value_id feature_name  label\n",
       "0                     1               60         1_60      0\n",
       "1                     1              143        1_143      1\n",
       "2                     1              358        1_358      2\n",
       "3                     1              461        1_461      3\n",
       "4                     1              517        1_517      4\n",
       "..                  ...              ...          ...    ...\n",
       "899                  72              751       72_751    899\n",
       "900                  72              829       72_829    900\n",
       "901                  72              883       72_883    901\n",
       "902                  73               91        73_91    902\n",
       "903                  73              544       73_544    903\n",
       "\n",
       "[904 rows x 4 columns]"
      ]
     },
     "execution_count": 6,
     "metadata": {},
     "output_type": "execute_result"
    }
   ],
   "source": [
    "all_feature=all_feature.drop(columns=['item_id'])\n",
    "\n",
    "all_feature['feature_category_id'] = all_feature['feature_category_id'].apply(str)\n",
    "all_feature['feature_value_id'] = all_feature['feature_value_id'].apply(str)\n",
    "all_feature['feature_name']=all_feature[\"feature_category_id\"] + \"_\" + all_feature[\"feature_value_id\"]\n",
    "all_feature['label']=[i for i in range(all_feature.shape[0])]\n",
    "# all_feature=all_feature.drop(columns=['feature_category_id','feature_value_id'])\n",
    "all_feature"
   ]
  },
  {
   "cell_type": "code",
   "execution_count": 7,
   "metadata": {},
   "outputs": [],
   "source": [
    "all_feature.to_csv('all_feature_encoding.csv')"
   ]
  },
  {
   "cell_type": "markdown",
   "metadata": {},
   "source": [
    "## item==>vetor\n",
    "### 1. mapping"
   ]
  },
  {
   "cell_type": "code",
   "execution_count": 40,
   "metadata": {
    "colab": {
     "base_uri": "https://localhost:8080/",
     "height": 457
    },
    "id": "FJcKRtOTDTDm",
    "outputId": "f039e984-c708-413f-de63-0912b95fb4ae"
   },
   "outputs": [
    {
     "data": {
      "text/html": [
       "<div>\n",
       "<style scoped>\n",
       "    .dataframe tbody tr th:only-of-type {\n",
       "        vertical-align: middle;\n",
       "    }\n",
       "\n",
       "    .dataframe tbody tr th {\n",
       "        vertical-align: top;\n",
       "    }\n",
       "\n",
       "    .dataframe thead th {\n",
       "        text-align: right;\n",
       "    }\n",
       "</style>\n",
       "<table border=\"1\" class=\"dataframe\">\n",
       "  <thead>\n",
       "    <tr style=\"text-align: right;\">\n",
       "      <th></th>\n",
       "      <th>item_id</th>\n",
       "      <th>feature_category_id</th>\n",
       "      <th>feature_value_id</th>\n",
       "      <th>feature_name</th>\n",
       "      <th>lebal</th>\n",
       "    </tr>\n",
       "  </thead>\n",
       "  <tbody>\n",
       "    <tr>\n",
       "      <th>0</th>\n",
       "      <td>2</td>\n",
       "      <td>56</td>\n",
       "      <td>365</td>\n",
       "      <td>56_365</td>\n",
       "      <td>637</td>\n",
       "    </tr>\n",
       "    <tr>\n",
       "      <th>1</th>\n",
       "      <td>2</td>\n",
       "      <td>62</td>\n",
       "      <td>801</td>\n",
       "      <td>62_801</td>\n",
       "      <td>720</td>\n",
       "    </tr>\n",
       "    <tr>\n",
       "      <th>2</th>\n",
       "      <td>2</td>\n",
       "      <td>68</td>\n",
       "      <td>351</td>\n",
       "      <td>68_351</td>\n",
       "      <td>796</td>\n",
       "    </tr>\n",
       "    <tr>\n",
       "      <th>3</th>\n",
       "      <td>2</td>\n",
       "      <td>33</td>\n",
       "      <td>802</td>\n",
       "      <td>33_802</td>\n",
       "      <td>378</td>\n",
       "    </tr>\n",
       "    <tr>\n",
       "      <th>4</th>\n",
       "      <td>2</td>\n",
       "      <td>72</td>\n",
       "      <td>75</td>\n",
       "      <td>72_75</td>\n",
       "      <td>878</td>\n",
       "    </tr>\n",
       "    <tr>\n",
       "      <th>...</th>\n",
       "      <td>...</td>\n",
       "      <td>...</td>\n",
       "      <td>...</td>\n",
       "      <td>...</td>\n",
       "      <td>...</td>\n",
       "    </tr>\n",
       "    <tr>\n",
       "      <th>471746</th>\n",
       "      <td>28143</td>\n",
       "      <td>68</td>\n",
       "      <td>351</td>\n",
       "      <td>68_351</td>\n",
       "      <td>796</td>\n",
       "    </tr>\n",
       "    <tr>\n",
       "      <th>471747</th>\n",
       "      <td>28143</td>\n",
       "      <td>55</td>\n",
       "      <td>390</td>\n",
       "      <td>55_390</td>\n",
       "      <td>578</td>\n",
       "    </tr>\n",
       "    <tr>\n",
       "      <th>471748</th>\n",
       "      <td>28143</td>\n",
       "      <td>11</td>\n",
       "      <td>109</td>\n",
       "      <td>11_109</td>\n",
       "      <td>131</td>\n",
       "    </tr>\n",
       "    <tr>\n",
       "      <th>471749</th>\n",
       "      <td>28143</td>\n",
       "      <td>73</td>\n",
       "      <td>91</td>\n",
       "      <td>73_91</td>\n",
       "      <td>902</td>\n",
       "    </tr>\n",
       "    <tr>\n",
       "      <th>471750</th>\n",
       "      <td>28143</td>\n",
       "      <td>47</td>\n",
       "      <td>549</td>\n",
       "      <td>47_549</td>\n",
       "      <td>490</td>\n",
       "    </tr>\n",
       "  </tbody>\n",
       "</table>\n",
       "<p>471751 rows × 5 columns</p>\n",
       "</div>"
      ],
      "text/plain": [
       "        item_id feature_category_id feature_value_id feature_name  lebal\n",
       "0             2                  56              365       56_365    637\n",
       "1             2                  62              801       62_801    720\n",
       "2             2                  68              351       68_351    796\n",
       "3             2                  33              802       33_802    378\n",
       "4             2                  72               75        72_75    878\n",
       "...         ...                 ...              ...          ...    ...\n",
       "471746    28143                  68              351       68_351    796\n",
       "471747    28143                  55              390       55_390    578\n",
       "471748    28143                  11              109       11_109    131\n",
       "471749    28143                  73               91        73_91    902\n",
       "471750    28143                  47              549       47_549    490\n",
       "\n",
       "[471751 rows x 5 columns]"
      ]
     },
     "execution_count": 40,
     "metadata": {},
     "output_type": "execute_result"
    }
   ],
   "source": [
    "item_feature=map_feature_label('item_features.csv','all_feature_encoding.csv')\n",
    "item_feature"
   ]
  },
  {
   "cell_type": "markdown",
   "metadata": {},
   "source": [
    "### 2.item==>vetor"
   ]
  },
  {
   "cell_type": "code",
   "execution_count": 25,
   "metadata": {
    "id": "KTA6YYm1DTDn"
   },
   "outputs": [],
   "source": [
    "res_item_vector={}\n",
    "temp=list(set(item_feature['item_id']))\n",
    "for i in range(len(temp)):\n",
    "    now_item=temp[i]\n",
    "    now_vector=[0 for i in range(904)]\n",
    "    for index, row in item_feature[item_feature['item_id']==a[i]].iterrows():\n",
    "        now_vector[row['lebal']]=1\n",
    "        res_item_vector[now_item]=now_vector\n",
    "    res_item_vector[row['item_id']]=now_vector\n",
    "save_to_pickle(\"item_vector.pkl\",res_item_vector)"
   ]
  },
  {
   "cell_type": "code",
   "execution_count": 30,
   "metadata": {},
   "outputs": [
    {
     "data": {
      "text/plain": [
       "13"
      ]
     },
     "execution_count": 30,
     "metadata": {},
     "output_type": "execute_result"
    }
   ],
   "source": [
    "# res_item_vector.keys()\n",
    "sum(res_item_vector[2])"
   ]
  },
  {
   "cell_type": "markdown",
   "metadata": {},
   "source": [
    "## train_sessions => vector"
   ]
  },
  {
   "cell_type": "code",
   "execution_count": 8,
   "metadata": {
    "id": "t3e5nb40Mxo-"
   },
   "outputs": [],
   "source": [
    "import os\n",
    "def session2vec(csv_path):\n",
    "    data=pd.read_csv(csv_path)\n",
    "    res_session_vector={}\n",
    "    temp=sorted(list(set(data['session_id'])))\n",
    "    for i in range(len(temp)):\n",
    "        now_sess=temp[i]\n",
    "        now_vector=[]\n",
    "        for index, row in data[data['session_id']==temp[i]].iterrows():\n",
    "            now_vector=now_vector+res_item_vector[row['item_id']]\n",
    "        res_session_vector[row['session_id']]=now_vector\n",
    "#     print(res_session_vector.keys())\n",
    "    save_to_pickle(csv_path.split('.')[0]+'.pkl',res_session_vector)\n",
    "session2vec('test_final_sessions.csv')\n",
    "session2vec('test_leaderboard_sessions.csv')\n",
    "session2vec('train_purchases.csv')\n",
    "session2vec('train_sessions.csv')"
   ]
  },
  {
   "cell_type": "markdown",
   "metadata": {
    "id": "0Fu8cnKXYMKm"
   },
   "source": [
    "# reference\n",
    "- [How to iterate over rows in a DataFrame in Pandas](https://stackoverflow.com/questions/16476924/how-to-iterate-over-rows-in-a-dataframe-in-pandas)\n",
    "-[How to save a dictionary to a file in Python](https://www.adamsmith.haus/python/answers/how-to-save-a-dictionary-to-a-file-in-python)"
   ]
  },
  {
   "cell_type": "code",
   "execution_count": null,
   "metadata": {},
   "outputs": [],
   "source": []
  }
 ],
 "metadata": {
  "colab": {
   "name": "WSM_Pre.ipynb",
   "provenance": []
  },
  "kernelspec": {
   "display_name": "Python 3",
   "language": "python",
   "name": "python3"
  },
  "language_info": {
   "codemirror_mode": {
    "name": "ipython",
    "version": 3
   },
   "file_extension": ".py",
   "mimetype": "text/x-python",
   "name": "python",
   "nbconvert_exporter": "python",
   "pygments_lexer": "ipython3",
   "version": "3.7.6"
  }
 },
 "nbformat": 4,
 "nbformat_minor": 4
}
