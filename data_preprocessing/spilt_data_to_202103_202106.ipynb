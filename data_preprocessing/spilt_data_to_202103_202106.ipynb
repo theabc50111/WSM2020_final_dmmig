{
 "cells": [
  {
   "cell_type": "code",
   "execution_count": 22,
   "id": "83c4d12c-4c5e-41db-b887-d96d5aa9dffd",
   "metadata": {},
   "outputs": [
    {
     "name": "stdout",
     "output_type": "stream",
     "text": [
      "time: 303 µs (started: 2022-05-30 16:17:31 +00:00)\n"
     ]
    }
   ],
   "source": [
    "import pandas as pd\n",
    "import numpy as np\n",
    "import matplotlib.pyplot as plt"
   ]
  },
  {
   "cell_type": "markdown",
   "id": "5edffe6e-5e60-4758-8f23-3583a9a08e77",
   "metadata": {},
   "source": [
    "# 讀取檔案\n",
    "- 記得替換檔案路徑\n",
    "- 有新增一個欄位`original_file`為該筆資料在哪一個原始檔案中"
   ]
  },
  {
   "cell_type": "code",
   "execution_count": 23,
   "id": "82ff754f-e03c-49b9-bf22-2460d72c617e",
   "metadata": {},
   "outputs": [
    {
     "name": "stdout",
     "output_type": "stream",
     "text": [
      "time: 2.86 s (started: 2022-05-30 16:17:31 +00:00)\n"
     ]
    }
   ],
   "source": [
    "t_purchases=pd.read_csv(\"../../recsys2022/train_purchases.csv\")\n",
    "t_session=pd.read_csv(\"../../recsys2022/train_sessions.csv\")\n",
    "\n",
    "t_purchases[\"date\"]=pd.to_datetime(t_purchases.date)\n",
    "t_session['date']=pd.to_datetime(t_session.date)\n",
    "\n",
    "t_purchases['original_file']='train_purchases'\n",
    "t_session['original_file']='train_sessions'\n",
    "\n",
    "all_data=pd.concat([t_purchases, t_session], ignore_index=True)"
   ]
  },
  {
   "cell_type": "code",
   "execution_count": 24,
   "id": "a10f3c8d-07f4-4acc-8d6a-ea56e1fd7216",
   "metadata": {},
   "outputs": [
    {
     "name": "stdout",
     "output_type": "stream",
     "text": [
      "time: 195 µs (started: 2022-05-30 16:17:34 +00:00)\n"
     ]
    }
   ],
   "source": [
    "# t_purchases.shape[]+t_session.shape"
   ]
  },
  {
   "cell_type": "code",
   "execution_count": 25,
   "id": "9be43ccb-dafe-4223-8cd6-5cb08b7ca488",
   "metadata": {},
   "outputs": [
    {
     "data": {
      "text/html": [
       "<div>\n",
       "<style scoped>\n",
       "    .dataframe tbody tr th:only-of-type {\n",
       "        vertical-align: middle;\n",
       "    }\n",
       "\n",
       "    .dataframe tbody tr th {\n",
       "        vertical-align: top;\n",
       "    }\n",
       "\n",
       "    .dataframe thead th {\n",
       "        text-align: right;\n",
       "    }\n",
       "</style>\n",
       "<table border=\"1\" class=\"dataframe\">\n",
       "  <thead>\n",
       "    <tr style=\"text-align: right;\">\n",
       "      <th></th>\n",
       "      <th>session_id</th>\n",
       "      <th>item_id</th>\n",
       "      <th>date</th>\n",
       "      <th>original_file</th>\n",
       "    </tr>\n",
       "  </thead>\n",
       "  <tbody>\n",
       "    <tr>\n",
       "      <th>0</th>\n",
       "      <td>3</td>\n",
       "      <td>15085</td>\n",
       "      <td>2020-12-18 21:26:47.986</td>\n",
       "      <td>train_purchases</td>\n",
       "    </tr>\n",
       "    <tr>\n",
       "      <th>1</th>\n",
       "      <td>13</td>\n",
       "      <td>18626</td>\n",
       "      <td>2020-03-13 19:36:15.507</td>\n",
       "      <td>train_purchases</td>\n",
       "    </tr>\n",
       "    <tr>\n",
       "      <th>2</th>\n",
       "      <td>18</td>\n",
       "      <td>24911</td>\n",
       "      <td>2020-08-26 19:20:32.049</td>\n",
       "      <td>train_purchases</td>\n",
       "    </tr>\n",
       "    <tr>\n",
       "      <th>3</th>\n",
       "      <td>19</td>\n",
       "      <td>12534</td>\n",
       "      <td>2020-11-02 17:16:45.920</td>\n",
       "      <td>train_purchases</td>\n",
       "    </tr>\n",
       "    <tr>\n",
       "      <th>4</th>\n",
       "      <td>24</td>\n",
       "      <td>13226</td>\n",
       "      <td>2020-02-26 18:27:44.114</td>\n",
       "      <td>train_purchases</td>\n",
       "    </tr>\n",
       "    <tr>\n",
       "      <th>...</th>\n",
       "      <td>...</td>\n",
       "      <td>...</td>\n",
       "      <td>...</td>\n",
       "      <td>...</td>\n",
       "    </tr>\n",
       "    <tr>\n",
       "      <th>5743815</th>\n",
       "      <td>4440001</td>\n",
       "      <td>20409</td>\n",
       "      <td>2020-10-30 23:37:20.658</td>\n",
       "      <td>train_sessions</td>\n",
       "    </tr>\n",
       "    <tr>\n",
       "      <th>5743816</th>\n",
       "      <td>4440001</td>\n",
       "      <td>14155</td>\n",
       "      <td>2020-10-30 23:31:56.607</td>\n",
       "      <td>train_sessions</td>\n",
       "    </tr>\n",
       "    <tr>\n",
       "      <th>5743817</th>\n",
       "      <td>4440001</td>\n",
       "      <td>14303</td>\n",
       "      <td>2020-10-30 23:36:17.934</td>\n",
       "      <td>train_sessions</td>\n",
       "    </tr>\n",
       "    <tr>\n",
       "      <th>5743818</th>\n",
       "      <td>4440001</td>\n",
       "      <td>27852</td>\n",
       "      <td>2020-10-30 23:39:55.186</td>\n",
       "      <td>train_sessions</td>\n",
       "    </tr>\n",
       "    <tr>\n",
       "      <th>5743819</th>\n",
       "      <td>4440001</td>\n",
       "      <td>305</td>\n",
       "      <td>2020-10-30 23:27:37.873</td>\n",
       "      <td>train_sessions</td>\n",
       "    </tr>\n",
       "  </tbody>\n",
       "</table>\n",
       "<p>5743820 rows × 4 columns</p>\n",
       "</div>"
      ],
      "text/plain": [
       "         session_id  item_id                    date    original_file\n",
       "0                 3    15085 2020-12-18 21:26:47.986  train_purchases\n",
       "1                13    18626 2020-03-13 19:36:15.507  train_purchases\n",
       "2                18    24911 2020-08-26 19:20:32.049  train_purchases\n",
       "3                19    12534 2020-11-02 17:16:45.920  train_purchases\n",
       "4                24    13226 2020-02-26 18:27:44.114  train_purchases\n",
       "...             ...      ...                     ...              ...\n",
       "5743815     4440001    20409 2020-10-30 23:37:20.658   train_sessions\n",
       "5743816     4440001    14155 2020-10-30 23:31:56.607   train_sessions\n",
       "5743817     4440001    14303 2020-10-30 23:36:17.934   train_sessions\n",
       "5743818     4440001    27852 2020-10-30 23:39:55.186   train_sessions\n",
       "5743819     4440001      305 2020-10-30 23:27:37.873   train_sessions\n",
       "\n",
       "[5743820 rows x 4 columns]"
      ]
     },
     "execution_count": 25,
     "metadata": {},
     "output_type": "execute_result"
    },
    {
     "name": "stdout",
     "output_type": "stream",
     "text": [
      "time: 18.5 ms (started: 2022-05-30 16:17:34 +00:00)\n"
     ]
    }
   ],
   "source": [
    "all_data"
   ]
  },
  {
   "cell_type": "code",
   "execution_count": 26,
   "id": "27eedbe0-c0f9-4510-a617-cd7d559a080b",
   "metadata": {},
   "outputs": [
    {
     "data": {
      "text/html": [
       "<div>\n",
       "<style scoped>\n",
       "    .dataframe tbody tr th:only-of-type {\n",
       "        vertical-align: middle;\n",
       "    }\n",
       "\n",
       "    .dataframe tbody tr th {\n",
       "        vertical-align: top;\n",
       "    }\n",
       "\n",
       "    .dataframe thead th {\n",
       "        text-align: right;\n",
       "    }\n",
       "</style>\n",
       "<table border=\"1\" class=\"dataframe\">\n",
       "  <thead>\n",
       "    <tr style=\"text-align: right;\">\n",
       "      <th></th>\n",
       "      <th>session_id</th>\n",
       "      <th>item_id</th>\n",
       "      <th>date</th>\n",
       "      <th>original_file</th>\n",
       "    </tr>\n",
       "  </thead>\n",
       "  <tbody>\n",
       "    <tr>\n",
       "      <th>8</th>\n",
       "      <td>42</td>\n",
       "      <td>11784</td>\n",
       "      <td>2021-03-01 15:17:04.264</td>\n",
       "      <td>train_purchases</td>\n",
       "    </tr>\n",
       "    <tr>\n",
       "      <th>32</th>\n",
       "      <td>186</td>\n",
       "      <td>1368</td>\n",
       "      <td>2021-03-27 22:12:41.377</td>\n",
       "      <td>train_purchases</td>\n",
       "    </tr>\n",
       "    <tr>\n",
       "      <th>48</th>\n",
       "      <td>306</td>\n",
       "      <td>17376</td>\n",
       "      <td>2021-03-15 11:05:10.535</td>\n",
       "      <td>train_purchases</td>\n",
       "    </tr>\n",
       "    <tr>\n",
       "      <th>55</th>\n",
       "      <td>337</td>\n",
       "      <td>24738</td>\n",
       "      <td>2021-03-05 07:47:30.682</td>\n",
       "      <td>train_purchases</td>\n",
       "    </tr>\n",
       "    <tr>\n",
       "      <th>59</th>\n",
       "      <td>351</td>\n",
       "      <td>9683</td>\n",
       "      <td>2021-03-05 19:45:49.050</td>\n",
       "      <td>train_purchases</td>\n",
       "    </tr>\n",
       "    <tr>\n",
       "      <th>...</th>\n",
       "      <td>...</td>\n",
       "      <td>...</td>\n",
       "      <td>...</td>\n",
       "      <td>...</td>\n",
       "    </tr>\n",
       "    <tr>\n",
       "      <th>5743596</th>\n",
       "      <td>4439845</td>\n",
       "      <td>20770</td>\n",
       "      <td>2021-03-02 09:01:37.282</td>\n",
       "      <td>train_sessions</td>\n",
       "    </tr>\n",
       "    <tr>\n",
       "      <th>5743597</th>\n",
       "      <td>4439845</td>\n",
       "      <td>18030</td>\n",
       "      <td>2021-03-02 09:01:57.762</td>\n",
       "      <td>train_sessions</td>\n",
       "    </tr>\n",
       "    <tr>\n",
       "      <th>5743598</th>\n",
       "      <td>4439845</td>\n",
       "      <td>18156</td>\n",
       "      <td>2021-03-02 09:01:22.674</td>\n",
       "      <td>train_sessions</td>\n",
       "    </tr>\n",
       "    <tr>\n",
       "      <th>5743712</th>\n",
       "      <td>4439927</td>\n",
       "      <td>9268</td>\n",
       "      <td>2021-03-29 16:22:31.958</td>\n",
       "      <td>train_sessions</td>\n",
       "    </tr>\n",
       "    <tr>\n",
       "      <th>5743743</th>\n",
       "      <td>4439952</td>\n",
       "      <td>26085</td>\n",
       "      <td>2021-03-03 19:33:33.963</td>\n",
       "      <td>train_sessions</td>\n",
       "    </tr>\n",
       "  </tbody>\n",
       "</table>\n",
       "<p>355256 rows × 4 columns</p>\n",
       "</div>"
      ],
      "text/plain": [
       "         session_id  item_id                    date    original_file\n",
       "8                42    11784 2021-03-01 15:17:04.264  train_purchases\n",
       "32              186     1368 2021-03-27 22:12:41.377  train_purchases\n",
       "48              306    17376 2021-03-15 11:05:10.535  train_purchases\n",
       "55              337    24738 2021-03-05 07:47:30.682  train_purchases\n",
       "59              351     9683 2021-03-05 19:45:49.050  train_purchases\n",
       "...             ...      ...                     ...              ...\n",
       "5743596     4439845    20770 2021-03-02 09:01:37.282   train_sessions\n",
       "5743597     4439845    18030 2021-03-02 09:01:57.762   train_sessions\n",
       "5743598     4439845    18156 2021-03-02 09:01:22.674   train_sessions\n",
       "5743712     4439927     9268 2021-03-29 16:22:31.958   train_sessions\n",
       "5743743     4439952    26085 2021-03-03 19:33:33.963   train_sessions\n",
       "\n",
       "[355256 rows x 4 columns]"
      ]
     },
     "execution_count": 26,
     "metadata": {},
     "output_type": "execute_result"
    },
    {
     "name": "stdout",
     "output_type": "stream",
     "text": [
      "time: 46.9 ms (started: 2022-05-30 16:17:34 +00:00)\n"
     ]
    }
   ],
   "source": [
    "mask = (all_data['date'] >= '2021-3-1') & (all_data['date'] <= '2021-3-31')\n",
    "res=all_data.loc[mask]\n",
    "res"
   ]
  },
  {
   "cell_type": "code",
   "execution_count": 27,
   "id": "9cacc816-f309-48da-81ea-d80394f45f8e",
   "metadata": {},
   "outputs": [
    {
     "name": "stdout",
     "output_type": "stream",
     "text": [
      "time: 817 ms (started: 2022-05-30 16:17:34 +00:00)\n"
     ]
    }
   ],
   "source": [
    "res.to_csv('../datasets/session_202103_202103.csv')"
   ]
  },
  {
   "cell_type": "code",
   "execution_count": 29,
   "id": "812721ac-6cb0-4ca6-8582-9046b7d765bc",
   "metadata": {},
   "outputs": [
    {
     "name": "stdout",
     "output_type": "stream",
     "text": [
      "time: 771 ms (started: 2022-05-30 16:18:25 +00:00)\n"
     ]
    }
   ],
   "source": [
    "res.iloc[(res['original_file']=='train_sessions').tolist(),:3].to_csv('../datasets/train_last_1m.csv')\n",
    "res.iloc[(res['original_file']=='train_purchases').tolist(),:3].to_csv('../datasets/purchases_last_1m.csv')"
   ]
  },
  {
   "cell_type": "code",
   "execution_count": null,
   "id": "a7cf5081-4f40-4ac9-96ce-0f0716b77edb",
   "metadata": {},
   "outputs": [],
   "source": []
  }
 ],
 "metadata": {
  "kernelspec": {
   "display_name": "Python 3 (ipykernel)",
   "language": "python",
   "name": "python3"
  },
  "language_info": {
   "codemirror_mode": {
    "name": "ipython",
    "version": 3
   },
   "file_extension": ".py",
   "mimetype": "text/x-python",
   "name": "python",
   "nbconvert_exporter": "python",
   "pygments_lexer": "ipython3",
   "version": "3.8.10"
  }
 },
 "nbformat": 4,
 "nbformat_minor": 5
}
