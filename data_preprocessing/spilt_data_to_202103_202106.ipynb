{
 "cells": [
  {
   "cell_type": "code",
   "execution_count": 1,
   "id": "83c4d12c-4c5e-41db-b887-d96d5aa9dffd",
   "metadata": {},
   "outputs": [
    {
     "name": "stdout",
     "output_type": "stream",
     "text": [
      "time: 750 ms (started: 2022-06-12 04:20:07 +00:00)\n"
     ]
    }
   ],
   "source": [
    "import pandas as pd\n",
    "import numpy as np\n",
    "import matplotlib.pyplot as plt"
   ]
  },
  {
   "cell_type": "markdown",
   "id": "5edffe6e-5e60-4758-8f23-3583a9a08e77",
   "metadata": {},
   "source": [
    "# 讀取檔案\n",
    "- 記得替換檔案路徑\n",
    "- 有新增一個欄位`original_file`為該筆資料在哪一個原始檔案中"
   ]
  },
  {
   "cell_type": "code",
   "execution_count": 42,
   "id": "82ff754f-e03c-49b9-bf22-2460d72c617e",
   "metadata": {},
   "outputs": [
    {
     "name": "stdout",
     "output_type": "stream",
     "text": [
      "time: 1.01 s (started: 2022-06-13 05:30:29 +00:00)\n"
     ]
    }
   ],
   "source": [
    "t_purchases=pd.read_csv(\"../../recsys2022/train_purchases.csv\")\n",
    "t_session=pd.read_csv(\"../../recsys2022/train_sessions_last_item.csv\")\n",
    "\n",
    "t_purchases[\"date\"]=pd.to_datetime(t_purchases.date)\n",
    "t_session['date']=pd.to_datetime(t_session.date)\n",
    "\n",
    "t_purchases['original_file']='train_purchases'\n",
    "t_session['original_file']='train_sessions'\n",
    "\n",
    "all_data=pd.concat([t_purchases, t_session], ignore_index=True)"
   ]
  },
  {
   "cell_type": "code",
   "execution_count": 43,
   "id": "a10f3c8d-07f4-4acc-8d6a-ea56e1fd7216",
   "metadata": {},
   "outputs": [
    {
     "name": "stdout",
     "output_type": "stream",
     "text": [
      "time: 208 µs (started: 2022-06-13 05:30:30 +00:00)\n"
     ]
    }
   ],
   "source": [
    "# t_purchases.shape[]+t_session.shape"
   ]
  },
  {
   "cell_type": "code",
   "execution_count": 44,
   "id": "9be43ccb-dafe-4223-8cd6-5cb08b7ca488",
   "metadata": {},
   "outputs": [
    {
     "data": {
      "text/html": [
       "<div>\n",
       "<style scoped>\n",
       "    .dataframe tbody tr th:only-of-type {\n",
       "        vertical-align: middle;\n",
       "    }\n",
       "\n",
       "    .dataframe tbody tr th {\n",
       "        vertical-align: top;\n",
       "    }\n",
       "\n",
       "    .dataframe thead th {\n",
       "        text-align: right;\n",
       "    }\n",
       "</style>\n",
       "<table border=\"1\" class=\"dataframe\">\n",
       "  <thead>\n",
       "    <tr style=\"text-align: right;\">\n",
       "      <th></th>\n",
       "      <th>session_id</th>\n",
       "      <th>item_id</th>\n",
       "      <th>date</th>\n",
       "      <th>original_file</th>\n",
       "    </tr>\n",
       "  </thead>\n",
       "  <tbody>\n",
       "    <tr>\n",
       "      <th>0</th>\n",
       "      <td>3</td>\n",
       "      <td>15085</td>\n",
       "      <td>2020-12-18 21:26:47.986</td>\n",
       "      <td>train_purchases</td>\n",
       "    </tr>\n",
       "    <tr>\n",
       "      <th>1</th>\n",
       "      <td>13</td>\n",
       "      <td>18626</td>\n",
       "      <td>2020-03-13 19:36:15.507</td>\n",
       "      <td>train_purchases</td>\n",
       "    </tr>\n",
       "    <tr>\n",
       "      <th>2</th>\n",
       "      <td>18</td>\n",
       "      <td>24911</td>\n",
       "      <td>2020-08-26 19:20:32.049</td>\n",
       "      <td>train_purchases</td>\n",
       "    </tr>\n",
       "    <tr>\n",
       "      <th>3</th>\n",
       "      <td>19</td>\n",
       "      <td>12534</td>\n",
       "      <td>2020-11-02 17:16:45.920</td>\n",
       "      <td>train_purchases</td>\n",
       "    </tr>\n",
       "    <tr>\n",
       "      <th>4</th>\n",
       "      <td>24</td>\n",
       "      <td>13226</td>\n",
       "      <td>2020-02-26 18:27:44.114</td>\n",
       "      <td>train_purchases</td>\n",
       "    </tr>\n",
       "    <tr>\n",
       "      <th>...</th>\n",
       "      <td>...</td>\n",
       "      <td>...</td>\n",
       "      <td>...</td>\n",
       "      <td>...</td>\n",
       "    </tr>\n",
       "    <tr>\n",
       "      <th>1999995</th>\n",
       "      <td>4439986</td>\n",
       "      <td>27733</td>\n",
       "      <td>2021-05-13 11:55:50.151</td>\n",
       "      <td>train_sessions</td>\n",
       "    </tr>\n",
       "    <tr>\n",
       "      <th>1999996</th>\n",
       "      <td>4439990</td>\n",
       "      <td>22551</td>\n",
       "      <td>2020-08-22 12:36:27.326</td>\n",
       "      <td>train_sessions</td>\n",
       "    </tr>\n",
       "    <tr>\n",
       "      <th>1999997</th>\n",
       "      <td>4439994</td>\n",
       "      <td>25357</td>\n",
       "      <td>2020-11-27 20:08:37.262</td>\n",
       "      <td>train_sessions</td>\n",
       "    </tr>\n",
       "    <tr>\n",
       "      <th>1999998</th>\n",
       "      <td>4439999</td>\n",
       "      <td>15853</td>\n",
       "      <td>2020-11-27 10:59:28.653</td>\n",
       "      <td>train_sessions</td>\n",
       "    </tr>\n",
       "    <tr>\n",
       "      <th>1999999</th>\n",
       "      <td>4440001</td>\n",
       "      <td>20449</td>\n",
       "      <td>2020-10-30 23:40:28.149</td>\n",
       "      <td>train_sessions</td>\n",
       "    </tr>\n",
       "  </tbody>\n",
       "</table>\n",
       "<p>2000000 rows × 4 columns</p>\n",
       "</div>"
      ],
      "text/plain": [
       "         session_id  item_id                    date    original_file\n",
       "0                 3    15085 2020-12-18 21:26:47.986  train_purchases\n",
       "1                13    18626 2020-03-13 19:36:15.507  train_purchases\n",
       "2                18    24911 2020-08-26 19:20:32.049  train_purchases\n",
       "3                19    12534 2020-11-02 17:16:45.920  train_purchases\n",
       "4                24    13226 2020-02-26 18:27:44.114  train_purchases\n",
       "...             ...      ...                     ...              ...\n",
       "1999995     4439986    27733 2021-05-13 11:55:50.151   train_sessions\n",
       "1999996     4439990    22551 2020-08-22 12:36:27.326   train_sessions\n",
       "1999997     4439994    25357 2020-11-27 20:08:37.262   train_sessions\n",
       "1999998     4439999    15853 2020-11-27 10:59:28.653   train_sessions\n",
       "1999999     4440001    20449 2020-10-30 23:40:28.149   train_sessions\n",
       "\n",
       "[2000000 rows x 4 columns]"
      ]
     },
     "metadata": {},
     "output_type": "display_data"
    },
    {
     "data": {
      "text/plain": [
       "Timestamp('2020-01-01 00:00:48.505000')"
      ]
     },
     "metadata": {},
     "output_type": "display_data"
    },
    {
     "data": {
      "text/plain": [
       "Timestamp('2021-05-31 23:47:07.764000')"
      ]
     },
     "metadata": {},
     "output_type": "display_data"
    },
    {
     "name": "stdout",
     "output_type": "stream",
     "text": [
      "time: 11 ms (started: 2022-06-13 05:30:30 +00:00)\n"
     ]
    }
   ],
   "source": [
    "display(all_data, all_data['date'].min(), all_data['date'].max())"
   ]
  },
  {
   "cell_type": "code",
   "execution_count": 45,
   "id": "27eedbe0-c0f9-4510-a617-cd7d559a080b",
   "metadata": {},
   "outputs": [
    {
     "data": {
      "text/html": [
       "<div>\n",
       "<style scoped>\n",
       "    .dataframe tbody tr th:only-of-type {\n",
       "        vertical-align: middle;\n",
       "    }\n",
       "\n",
       "    .dataframe tbody tr th {\n",
       "        vertical-align: top;\n",
       "    }\n",
       "\n",
       "    .dataframe thead th {\n",
       "        text-align: right;\n",
       "    }\n",
       "</style>\n",
       "<table border=\"1\" class=\"dataframe\">\n",
       "  <thead>\n",
       "    <tr style=\"text-align: right;\">\n",
       "      <th></th>\n",
       "      <th>session_id</th>\n",
       "      <th>item_id</th>\n",
       "      <th>date</th>\n",
       "      <th>original_file</th>\n",
       "    </tr>\n",
       "  </thead>\n",
       "  <tbody>\n",
       "    <tr>\n",
       "      <th>6</th>\n",
       "      <td>31</td>\n",
       "      <td>8345</td>\n",
       "      <td>2021-04-20 19:46:42.594</td>\n",
       "      <td>train_purchases</td>\n",
       "    </tr>\n",
       "    <tr>\n",
       "      <th>8</th>\n",
       "      <td>42</td>\n",
       "      <td>11784</td>\n",
       "      <td>2021-03-01 15:17:04.264</td>\n",
       "      <td>train_purchases</td>\n",
       "    </tr>\n",
       "    <tr>\n",
       "      <th>17</th>\n",
       "      <td>113</td>\n",
       "      <td>21107</td>\n",
       "      <td>2021-05-05 14:15:07.278</td>\n",
       "      <td>train_purchases</td>\n",
       "    </tr>\n",
       "    <tr>\n",
       "      <th>18</th>\n",
       "      <td>115</td>\n",
       "      <td>25976</td>\n",
       "      <td>2021-05-27 10:24:05.043</td>\n",
       "      <td>train_purchases</td>\n",
       "    </tr>\n",
       "    <tr>\n",
       "      <th>22</th>\n",
       "      <td>140</td>\n",
       "      <td>23502</td>\n",
       "      <td>2021-04-28 13:45:31.202</td>\n",
       "      <td>train_purchases</td>\n",
       "    </tr>\n",
       "    <tr>\n",
       "      <th>...</th>\n",
       "      <td>...</td>\n",
       "      <td>...</td>\n",
       "      <td>...</td>\n",
       "      <td>...</td>\n",
       "    </tr>\n",
       "    <tr>\n",
       "      <th>1999982</th>\n",
       "      <td>4439936</td>\n",
       "      <td>23764</td>\n",
       "      <td>2021-04-16 14:52:22.939</td>\n",
       "      <td>train_sessions</td>\n",
       "    </tr>\n",
       "    <tr>\n",
       "      <th>1999986</th>\n",
       "      <td>4439949</td>\n",
       "      <td>16806</td>\n",
       "      <td>2021-05-12 05:49:08.706</td>\n",
       "      <td>train_sessions</td>\n",
       "    </tr>\n",
       "    <tr>\n",
       "      <th>1999987</th>\n",
       "      <td>4439952</td>\n",
       "      <td>26085</td>\n",
       "      <td>2021-03-03 19:33:33.963</td>\n",
       "      <td>train_sessions</td>\n",
       "    </tr>\n",
       "    <tr>\n",
       "      <th>1999988</th>\n",
       "      <td>4439953</td>\n",
       "      <td>21566</td>\n",
       "      <td>2021-04-02 11:30:34.758</td>\n",
       "      <td>train_sessions</td>\n",
       "    </tr>\n",
       "    <tr>\n",
       "      <th>1999995</th>\n",
       "      <td>4439986</td>\n",
       "      <td>27733</td>\n",
       "      <td>2021-05-13 11:55:50.151</td>\n",
       "      <td>train_sessions</td>\n",
       "    </tr>\n",
       "  </tbody>\n",
       "</table>\n",
       "<p>625814 rows × 4 columns</p>\n",
       "</div>"
      ],
      "text/plain": [
       "         session_id  item_id                    date    original_file\n",
       "6                31     8345 2021-04-20 19:46:42.594  train_purchases\n",
       "8                42    11784 2021-03-01 15:17:04.264  train_purchases\n",
       "17              113    21107 2021-05-05 14:15:07.278  train_purchases\n",
       "18              115    25976 2021-05-27 10:24:05.043  train_purchases\n",
       "22              140    23502 2021-04-28 13:45:31.202  train_purchases\n",
       "...             ...      ...                     ...              ...\n",
       "1999982     4439936    23764 2021-04-16 14:52:22.939   train_sessions\n",
       "1999986     4439949    16806 2021-05-12 05:49:08.706   train_sessions\n",
       "1999987     4439952    26085 2021-03-03 19:33:33.963   train_sessions\n",
       "1999988     4439953    21566 2021-04-02 11:30:34.758   train_sessions\n",
       "1999995     4439986    27733 2021-05-13 11:55:50.151   train_sessions\n",
       "\n",
       "[625814 rows x 4 columns]"
      ]
     },
     "execution_count": 45,
     "metadata": {},
     "output_type": "execute_result"
    },
    {
     "name": "stdout",
     "output_type": "stream",
     "text": [
      "time: 29 ms (started: 2022-06-13 05:30:37 +00:00)\n"
     ]
    }
   ],
   "source": [
    "mask = (all_data['date'] >= '2021-01-1') & (all_data['date'] <= '2021-6-1')\n",
    "res=all_data.loc[mask]\n",
    "res"
   ]
  },
  {
   "cell_type": "code",
   "execution_count": 46,
   "id": "ef9417b3-c4db-4734-a038-4fab15656887",
   "metadata": {},
   "outputs": [
    {
     "name": "stdout",
     "output_type": "stream",
     "text": [
      "2021-01-01 00:02:43.232000 2021-05-31 23:47:07.764000\n"
     ]
    },
    {
     "data": {
      "text/plain": [
       "312907"
      ]
     },
     "metadata": {},
     "output_type": "display_data"
    },
    {
     "data": {
      "text/plain": [
       "312907"
      ]
     },
     "metadata": {},
     "output_type": "display_data"
    },
    {
     "name": "stdout",
     "output_type": "stream",
     "text": [
      "time: 74.1 ms (started: 2022-06-13 05:30:49 +00:00)\n"
     ]
    }
   ],
   "source": [
    "print(res['date'].min(), res['date'].max())\n",
    "display(res['session_id'].nunique(), t_purchases.iloc[(t_purchases['date'] >= f'2021-1-01').tolist(),0].nunique())"
   ]
  },
  {
   "cell_type": "code",
   "execution_count": 36,
   "id": "9cacc816-f309-48da-81ea-d80394f45f8e",
   "metadata": {},
   "outputs": [
    {
     "name": "stdout",
     "output_type": "stream",
     "text": [
      "time: 1.72 s (started: 2022-06-12 13:36:43 +00:00)\n"
     ]
    }
   ],
   "source": [
    "res.to_csv('../datasets/session_last_item_20210101.csv', index=False)"
   ]
  },
  {
   "cell_type": "code",
   "execution_count": 47,
   "id": "812721ac-6cb0-4ca6-8582-9046b7d765bc",
   "metadata": {},
   "outputs": [
    {
     "name": "stdout",
     "output_type": "stream",
     "text": [
      "time: 2.32 s (started: 2022-06-13 05:31:53 +00:00)\n"
     ]
    }
   ],
   "source": [
    "res.iloc[(res['original_file']=='train_sessions').tolist(),:3].to_csv('../datasets/train_last_item_last_5m.csv', index=False)\n",
    "res.iloc[(res['original_file']=='train_purchases').tolist(),:3].to_csv('../datasets/purchases_last_item_last_5m.csv', index=False)\n",
    "res.sort_values(\"session_id\").iloc[:,:3].to_csv('../datasets/train_purchases_last_item_last_5m.csv', index=False)"
   ]
  },
  {
   "cell_type": "code",
   "execution_count": null,
   "id": "964a5719-b6e3-45a8-ac56-506cc6586925",
   "metadata": {},
   "outputs": [],
   "source": []
  }
 ],
 "metadata": {
  "kernelspec": {
   "display_name": "Python 3 (ipykernel)",
   "language": "python",
   "name": "python3"
  },
  "language_info": {
   "codemirror_mode": {
    "name": "ipython",
    "version": 3
   },
   "file_extension": ".py",
   "mimetype": "text/x-python",
   "name": "python",
   "nbconvert_exporter": "python",
   "pygments_lexer": "ipython3",
   "version": "3.8.10"
  }
 },
 "nbformat": 4,
 "nbformat_minor": 5
}
