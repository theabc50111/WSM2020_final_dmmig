{
 "cells": [
  {
   "cell_type": "code",
   "execution_count": 2,
   "metadata": {
    "id": "scDPkv58DTDV"
   },
   "outputs": [
    {
     "name": "stdout",
     "output_type": "stream",
     "text": [
      "time: 162 ms (started: 2022-06-01 09:44:13 +00:00)\n"
     ]
    }
   ],
   "source": [
    "import pandas as pd\n",
    "import pickle\n",
    "import numpy as np\n",
    "import time "
   ]
  },
  {
   "cell_type": "code",
   "execution_count": 3,
   "metadata": {},
   "outputs": [
    {
     "name": "stdout",
     "output_type": "stream",
     "text": [
      "time: 462 µs (started: 2022-06-01 09:44:13 +00:00)\n"
     ]
    }
   ],
   "source": [
    "def save_to_pickle(pkl_path,dict_obj):\n",
    "    file = open(pkl_path, \"wb\")\n",
    "    pickle.dump(dict_obj, file)\n",
    "    file.close()"
   ]
  },
  {
   "cell_type": "code",
   "execution_count": 4,
   "metadata": {},
   "outputs": [
    {
     "name": "stdout",
     "output_type": "stream",
     "text": [
      "time: 555 µs (started: 2022-06-01 09:44:14 +00:00)\n"
     ]
    }
   ],
   "source": [
    "def map_feature_label(target_path,dict_csv_path):\n",
    "    all_feature=pd.read_csv(dict_csv_path)\n",
    "    feature_label_divtionary={k:v for k,v in zip(all_feature['feature_name'],all_feature['label'])}\n",
    "    item_feature=pd.read_csv(target_path)\n",
    "    item_feature['feature_category_id'] = item_feature['feature_category_id'].apply(str)\n",
    "    item_feature['feature_value_id'] = item_feature['feature_value_id'].apply(str)\n",
    "    item_feature['feature_name']=item_feature[\"feature_category_id\"] + \"_\" + item_feature[\"feature_value_id\"]\n",
    "    item_feature['label']=[feature_label_divtionary[i] for i in item_feature['feature_name']]\n",
    "    item_feature['label'].apply(int)\n",
    "    return item_feature"
   ]
  },
  {
   "cell_type": "markdown",
   "metadata": {
    "id": "9gluhu7-EIZT"
   },
   "source": [
    "# 計算item_category+item_value之出現次數"
   ]
  },
  {
   "cell_type": "code",
   "execution_count": 5,
   "metadata": {
    "id": "wV8Ll9imDTDb"
   },
   "outputs": [
    {
     "data": {
      "text/html": [
       "<div>\n",
       "<style scoped>\n",
       "    .dataframe tbody tr th:only-of-type {\n",
       "        vertical-align: middle;\n",
       "    }\n",
       "\n",
       "    .dataframe tbody tr th {\n",
       "        vertical-align: top;\n",
       "    }\n",
       "\n",
       "    .dataframe thead th {\n",
       "        text-align: right;\n",
       "    }\n",
       "</style>\n",
       "<table border=\"1\" class=\"dataframe\">\n",
       "  <thead>\n",
       "    <tr style=\"text-align: right;\">\n",
       "      <th></th>\n",
       "      <th>feature_category_id</th>\n",
       "      <th>feature_value_id</th>\n",
       "      <th>item_id</th>\n",
       "    </tr>\n",
       "  </thead>\n",
       "  <tbody>\n",
       "    <tr>\n",
       "      <th>0</th>\n",
       "      <td>1</td>\n",
       "      <td>60</td>\n",
       "      <td>1</td>\n",
       "    </tr>\n",
       "    <tr>\n",
       "      <th>1</th>\n",
       "      <td>1</td>\n",
       "      <td>143</td>\n",
       "      <td>10</td>\n",
       "    </tr>\n",
       "    <tr>\n",
       "      <th>2</th>\n",
       "      <td>1</td>\n",
       "      <td>358</td>\n",
       "      <td>2</td>\n",
       "    </tr>\n",
       "    <tr>\n",
       "      <th>3</th>\n",
       "      <td>1</td>\n",
       "      <td>461</td>\n",
       "      <td>924</td>\n",
       "    </tr>\n",
       "    <tr>\n",
       "      <th>4</th>\n",
       "      <td>1</td>\n",
       "      <td>517</td>\n",
       "      <td>2</td>\n",
       "    </tr>\n",
       "    <tr>\n",
       "      <th>...</th>\n",
       "      <td>...</td>\n",
       "      <td>...</td>\n",
       "      <td>...</td>\n",
       "    </tr>\n",
       "    <tr>\n",
       "      <th>899</th>\n",
       "      <td>72</td>\n",
       "      <td>751</td>\n",
       "      <td>55</td>\n",
       "    </tr>\n",
       "    <tr>\n",
       "      <th>900</th>\n",
       "      <td>72</td>\n",
       "      <td>829</td>\n",
       "      <td>405</td>\n",
       "    </tr>\n",
       "    <tr>\n",
       "      <th>901</th>\n",
       "      <td>72</td>\n",
       "      <td>883</td>\n",
       "      <td>65</td>\n",
       "    </tr>\n",
       "    <tr>\n",
       "      <th>902</th>\n",
       "      <td>73</td>\n",
       "      <td>91</td>\n",
       "      <td>2381</td>\n",
       "    </tr>\n",
       "    <tr>\n",
       "      <th>903</th>\n",
       "      <td>73</td>\n",
       "      <td>544</td>\n",
       "      <td>10958</td>\n",
       "    </tr>\n",
       "  </tbody>\n",
       "</table>\n",
       "<p>904 rows × 3 columns</p>\n",
       "</div>"
      ],
      "text/plain": [
       "     feature_category_id  feature_value_id  item_id\n",
       "0                      1                60        1\n",
       "1                      1               143       10\n",
       "2                      1               358        2\n",
       "3                      1               461      924\n",
       "4                      1               517        2\n",
       "..                   ...               ...      ...\n",
       "899                   72               751       55\n",
       "900                   72               829      405\n",
       "901                   72               883       65\n",
       "902                   73                91     2381\n",
       "903                   73               544    10958\n",
       "\n",
       "[904 rows x 3 columns]"
      ]
     },
     "execution_count": 5,
     "metadata": {},
     "output_type": "execute_result"
    },
    {
     "name": "stdout",
     "output_type": "stream",
     "text": [
      "time: 77.4 ms (started: 2022-06-01 09:44:15 +00:00)\n"
     ]
    }
   ],
   "source": [
    "item_feature=pd.read_csv(\"../../recsys2022/item_features.csv\")#path to item_features.csv\n",
    "# item_feature.columns\n",
    "all_feature=item_feature.groupby(['feature_category_id','feature_value_id']).count()\n",
    "# all_feature\n",
    "all_feature.to_csv('__feature.csv')\n",
    "all_feature=pd.read_csv('__feature.csv')\n",
    "all_feature"
   ]
  },
  {
   "cell_type": "markdown",
   "metadata": {
    "id": "6J6KCjrAW_AK"
   },
   "source": [
    "# Data preprocessing\n",
    "- item=>vector\n",
    "- session=>vector\n",
    "## feature encoding"
   ]
  },
  {
   "cell_type": "code",
   "execution_count": 6,
   "metadata": {
    "id": "rI2-R4K0DTDl"
   },
   "outputs": [
    {
     "data": {
      "text/html": [
       "<div>\n",
       "<style scoped>\n",
       "    .dataframe tbody tr th:only-of-type {\n",
       "        vertical-align: middle;\n",
       "    }\n",
       "\n",
       "    .dataframe tbody tr th {\n",
       "        vertical-align: top;\n",
       "    }\n",
       "\n",
       "    .dataframe thead th {\n",
       "        text-align: right;\n",
       "    }\n",
       "</style>\n",
       "<table border=\"1\" class=\"dataframe\">\n",
       "  <thead>\n",
       "    <tr style=\"text-align: right;\">\n",
       "      <th></th>\n",
       "      <th>feature_category_id</th>\n",
       "      <th>feature_value_id</th>\n",
       "      <th>feature_name</th>\n",
       "      <th>label</th>\n",
       "    </tr>\n",
       "  </thead>\n",
       "  <tbody>\n",
       "    <tr>\n",
       "      <th>0</th>\n",
       "      <td>1</td>\n",
       "      <td>60</td>\n",
       "      <td>1_60</td>\n",
       "      <td>0</td>\n",
       "    </tr>\n",
       "    <tr>\n",
       "      <th>1</th>\n",
       "      <td>1</td>\n",
       "      <td>143</td>\n",
       "      <td>1_143</td>\n",
       "      <td>1</td>\n",
       "    </tr>\n",
       "    <tr>\n",
       "      <th>2</th>\n",
       "      <td>1</td>\n",
       "      <td>358</td>\n",
       "      <td>1_358</td>\n",
       "      <td>2</td>\n",
       "    </tr>\n",
       "  </tbody>\n",
       "</table>\n",
       "</div>"
      ],
      "text/plain": [
       "  feature_category_id feature_value_id feature_name  label\n",
       "0                   1               60         1_60      0\n",
       "1                   1              143        1_143      1\n",
       "2                   1              358        1_358      2"
      ]
     },
     "execution_count": 6,
     "metadata": {},
     "output_type": "execute_result"
    },
    {
     "name": "stdout",
     "output_type": "stream",
     "text": [
      "time: 5.64 ms (started: 2022-06-01 09:44:22 +00:00)\n"
     ]
    }
   ],
   "source": [
    "all_feature=all_feature.drop(columns=['item_id'])\n",
    "\n",
    "all_feature['feature_category_id'] = all_feature['feature_category_id'].apply(str)\n",
    "all_feature['feature_value_id'] = all_feature['feature_value_id'].apply(str)\n",
    "all_feature['feature_name']=all_feature[\"feature_category_id\"] + \"_\" + all_feature[\"feature_value_id\"]\n",
    "all_feature['label']=[i for i in range(all_feature.shape[0])]\n",
    "# all_feature=all_feature.drop(columns=['feature_category_id','feature_value_id'])\n",
    "all_feature.head(3)"
   ]
  },
  {
   "cell_type": "code",
   "execution_count": 7,
   "metadata": {},
   "outputs": [
    {
     "name": "stdout",
     "output_type": "stream",
     "text": [
      "time: 204 µs (started: 2022-06-01 09:44:22 +00:00)\n"
     ]
    }
   ],
   "source": [
    "#all_feature.to_csv('all_feature_encoding.csv') #path to save"
   ]
  },
  {
   "cell_type": "markdown",
   "metadata": {},
   "source": [
    "## item==>vetor\n",
    "### 1. mapping"
   ]
  },
  {
   "cell_type": "code",
   "execution_count": 8,
   "metadata": {
    "colab": {
     "base_uri": "https://localhost:8080/",
     "height": 457
    },
    "id": "FJcKRtOTDTDm",
    "outputId": "f039e984-c708-413f-de63-0912b95fb4ae"
   },
   "outputs": [
    {
     "data": {
      "text/html": [
       "<div>\n",
       "<style scoped>\n",
       "    .dataframe tbody tr th:only-of-type {\n",
       "        vertical-align: middle;\n",
       "    }\n",
       "\n",
       "    .dataframe tbody tr th {\n",
       "        vertical-align: top;\n",
       "    }\n",
       "\n",
       "    .dataframe thead th {\n",
       "        text-align: right;\n",
       "    }\n",
       "</style>\n",
       "<table border=\"1\" class=\"dataframe\">\n",
       "  <thead>\n",
       "    <tr style=\"text-align: right;\">\n",
       "      <th></th>\n",
       "      <th>item_id</th>\n",
       "      <th>feature_category_id</th>\n",
       "      <th>feature_value_id</th>\n",
       "      <th>feature_name</th>\n",
       "      <th>label</th>\n",
       "      <th>frequence</th>\n",
       "    </tr>\n",
       "  </thead>\n",
       "  <tbody>\n",
       "    <tr>\n",
       "      <th>0</th>\n",
       "      <td>2</td>\n",
       "      <td>56</td>\n",
       "      <td>365</td>\n",
       "      <td>56_365</td>\n",
       "      <td>637</td>\n",
       "      <td>1.0</td>\n",
       "    </tr>\n",
       "    <tr>\n",
       "      <th>1</th>\n",
       "      <td>2</td>\n",
       "      <td>62</td>\n",
       "      <td>801</td>\n",
       "      <td>62_801</td>\n",
       "      <td>720</td>\n",
       "      <td>1.0</td>\n",
       "    </tr>\n",
       "    <tr>\n",
       "      <th>2</th>\n",
       "      <td>2</td>\n",
       "      <td>68</td>\n",
       "      <td>351</td>\n",
       "      <td>68_351</td>\n",
       "      <td>796</td>\n",
       "      <td>1.0</td>\n",
       "    </tr>\n",
       "    <tr>\n",
       "      <th>3</th>\n",
       "      <td>2</td>\n",
       "      <td>33</td>\n",
       "      <td>802</td>\n",
       "      <td>33_802</td>\n",
       "      <td>378</td>\n",
       "      <td>1.0</td>\n",
       "    </tr>\n",
       "    <tr>\n",
       "      <th>4</th>\n",
       "      <td>2</td>\n",
       "      <td>72</td>\n",
       "      <td>75</td>\n",
       "      <td>72_75</td>\n",
       "      <td>878</td>\n",
       "      <td>1.0</td>\n",
       "    </tr>\n",
       "    <tr>\n",
       "      <th>...</th>\n",
       "      <td>...</td>\n",
       "      <td>...</td>\n",
       "      <td>...</td>\n",
       "      <td>...</td>\n",
       "      <td>...</td>\n",
       "      <td>...</td>\n",
       "    </tr>\n",
       "    <tr>\n",
       "      <th>471746</th>\n",
       "      <td>28143</td>\n",
       "      <td>68</td>\n",
       "      <td>351</td>\n",
       "      <td>68_351</td>\n",
       "      <td>796</td>\n",
       "      <td>1.0</td>\n",
       "    </tr>\n",
       "    <tr>\n",
       "      <th>471747</th>\n",
       "      <td>28143</td>\n",
       "      <td>55</td>\n",
       "      <td>390</td>\n",
       "      <td>55_390</td>\n",
       "      <td>578</td>\n",
       "      <td>1.0</td>\n",
       "    </tr>\n",
       "    <tr>\n",
       "      <th>471748</th>\n",
       "      <td>28143</td>\n",
       "      <td>11</td>\n",
       "      <td>109</td>\n",
       "      <td>11_109</td>\n",
       "      <td>131</td>\n",
       "      <td>1.0</td>\n",
       "    </tr>\n",
       "    <tr>\n",
       "      <th>471749</th>\n",
       "      <td>28143</td>\n",
       "      <td>73</td>\n",
       "      <td>91</td>\n",
       "      <td>73_91</td>\n",
       "      <td>902</td>\n",
       "      <td>1.0</td>\n",
       "    </tr>\n",
       "    <tr>\n",
       "      <th>471750</th>\n",
       "      <td>28143</td>\n",
       "      <td>47</td>\n",
       "      <td>549</td>\n",
       "      <td>47_549</td>\n",
       "      <td>490</td>\n",
       "      <td>1.0</td>\n",
       "    </tr>\n",
       "  </tbody>\n",
       "</table>\n",
       "<p>471751 rows × 6 columns</p>\n",
       "</div>"
      ],
      "text/plain": [
       "        item_id feature_category_id feature_value_id feature_name  label  \\\n",
       "0             2                  56              365       56_365    637   \n",
       "1             2                  62              801       62_801    720   \n",
       "2             2                  68              351       68_351    796   \n",
       "3             2                  33              802       33_802    378   \n",
       "4             2                  72               75        72_75    878   \n",
       "...         ...                 ...              ...          ...    ...   \n",
       "471746    28143                  68              351       68_351    796   \n",
       "471747    28143                  55              390       55_390    578   \n",
       "471748    28143                  11              109       11_109    131   \n",
       "471749    28143                  73               91        73_91    902   \n",
       "471750    28143                  47              549       47_549    490   \n",
       "\n",
       "        frequence  \n",
       "0             1.0  \n",
       "1             1.0  \n",
       "2             1.0  \n",
       "3             1.0  \n",
       "4             1.0  \n",
       "...           ...  \n",
       "471746        1.0  \n",
       "471747        1.0  \n",
       "471748        1.0  \n",
       "471749        1.0  \n",
       "471750        1.0  \n",
       "\n",
       "[471751 rows x 6 columns]"
      ]
     },
     "execution_count": 8,
     "metadata": {},
     "output_type": "execute_result"
    },
    {
     "name": "stdout",
     "output_type": "stream",
     "text": [
      "time: 397 ms (started: 2022-06-01 09:44:24 +00:00)\n"
     ]
    }
   ],
   "source": [
    "item_feature=map_feature_label('../../recsys2022/item_features.csv','../datasets/all_feature_encoding.csv')\n",
    "item_feature[\"frequence\"]=np.ones((len(item_feature),1))\n",
    "item_feature"
   ]
  },
  {
   "cell_type": "code",
   "execution_count": 9,
   "metadata": {},
   "outputs": [
    {
     "data": {
      "text/html": [
       "<div>\n",
       "<style scoped>\n",
       "    .dataframe tbody tr th:only-of-type {\n",
       "        vertical-align: middle;\n",
       "    }\n",
       "\n",
       "    .dataframe tbody tr th {\n",
       "        vertical-align: top;\n",
       "    }\n",
       "\n",
       "    .dataframe thead th {\n",
       "        text-align: right;\n",
       "    }\n",
       "</style>\n",
       "<table border=\"1\" class=\"dataframe\">\n",
       "  <thead>\n",
       "    <tr style=\"text-align: right;\">\n",
       "      <th>feature_name</th>\n",
       "      <th>10_147</th>\n",
       "      <th>10_159</th>\n",
       "      <th>10_184</th>\n",
       "      <th>10_217</th>\n",
       "      <th>10_22</th>\n",
       "      <th>10_287</th>\n",
       "      <th>10_361</th>\n",
       "      <th>10_407</th>\n",
       "      <th>10_464</th>\n",
       "      <th>10_561</th>\n",
       "      <th>...</th>\n",
       "      <th>7_837</th>\n",
       "      <th>7_838</th>\n",
       "      <th>8_157</th>\n",
       "      <th>8_323</th>\n",
       "      <th>8_420</th>\n",
       "      <th>8_636</th>\n",
       "      <th>9_175</th>\n",
       "      <th>9_178</th>\n",
       "      <th>9_190</th>\n",
       "      <th>9_369</th>\n",
       "    </tr>\n",
       "    <tr>\n",
       "      <th>item_id</th>\n",
       "      <th></th>\n",
       "      <th></th>\n",
       "      <th></th>\n",
       "      <th></th>\n",
       "      <th></th>\n",
       "      <th></th>\n",
       "      <th></th>\n",
       "      <th></th>\n",
       "      <th></th>\n",
       "      <th></th>\n",
       "      <th></th>\n",
       "      <th></th>\n",
       "      <th></th>\n",
       "      <th></th>\n",
       "      <th></th>\n",
       "      <th></th>\n",
       "      <th></th>\n",
       "      <th></th>\n",
       "      <th></th>\n",
       "      <th></th>\n",
       "      <th></th>\n",
       "    </tr>\n",
       "  </thead>\n",
       "  <tbody>\n",
       "    <tr>\n",
       "      <th>2</th>\n",
       "      <td>0.0</td>\n",
       "      <td>0.0</td>\n",
       "      <td>0.0</td>\n",
       "      <td>0.0</td>\n",
       "      <td>0.0</td>\n",
       "      <td>0.0</td>\n",
       "      <td>0.0</td>\n",
       "      <td>0.0</td>\n",
       "      <td>0.0</td>\n",
       "      <td>0.0</td>\n",
       "      <td>...</td>\n",
       "      <td>0.0</td>\n",
       "      <td>0.0</td>\n",
       "      <td>0.0</td>\n",
       "      <td>0.0</td>\n",
       "      <td>0.0</td>\n",
       "      <td>0.0</td>\n",
       "      <td>0.0</td>\n",
       "      <td>0.0</td>\n",
       "      <td>0.0</td>\n",
       "      <td>0.0</td>\n",
       "    </tr>\n",
       "    <tr>\n",
       "      <th>3</th>\n",
       "      <td>0.0</td>\n",
       "      <td>0.0</td>\n",
       "      <td>0.0</td>\n",
       "      <td>0.0</td>\n",
       "      <td>0.0</td>\n",
       "      <td>0.0</td>\n",
       "      <td>0.0</td>\n",
       "      <td>0.0</td>\n",
       "      <td>0.0</td>\n",
       "      <td>0.0</td>\n",
       "      <td>...</td>\n",
       "      <td>0.0</td>\n",
       "      <td>0.0</td>\n",
       "      <td>0.0</td>\n",
       "      <td>0.0</td>\n",
       "      <td>0.0</td>\n",
       "      <td>0.0</td>\n",
       "      <td>0.0</td>\n",
       "      <td>0.0</td>\n",
       "      <td>0.0</td>\n",
       "      <td>0.0</td>\n",
       "    </tr>\n",
       "    <tr>\n",
       "      <th>4</th>\n",
       "      <td>0.0</td>\n",
       "      <td>0.0</td>\n",
       "      <td>0.0</td>\n",
       "      <td>0.0</td>\n",
       "      <td>0.0</td>\n",
       "      <td>0.0</td>\n",
       "      <td>0.0</td>\n",
       "      <td>0.0</td>\n",
       "      <td>0.0</td>\n",
       "      <td>0.0</td>\n",
       "      <td>...</td>\n",
       "      <td>1.0</td>\n",
       "      <td>0.0</td>\n",
       "      <td>0.0</td>\n",
       "      <td>0.0</td>\n",
       "      <td>0.0</td>\n",
       "      <td>0.0</td>\n",
       "      <td>0.0</td>\n",
       "      <td>0.0</td>\n",
       "      <td>0.0</td>\n",
       "      <td>0.0</td>\n",
       "    </tr>\n",
       "    <tr>\n",
       "      <th>7</th>\n",
       "      <td>0.0</td>\n",
       "      <td>0.0</td>\n",
       "      <td>0.0</td>\n",
       "      <td>0.0</td>\n",
       "      <td>0.0</td>\n",
       "      <td>0.0</td>\n",
       "      <td>0.0</td>\n",
       "      <td>0.0</td>\n",
       "      <td>0.0</td>\n",
       "      <td>0.0</td>\n",
       "      <td>...</td>\n",
       "      <td>0.0</td>\n",
       "      <td>0.0</td>\n",
       "      <td>0.0</td>\n",
       "      <td>0.0</td>\n",
       "      <td>0.0</td>\n",
       "      <td>0.0</td>\n",
       "      <td>0.0</td>\n",
       "      <td>0.0</td>\n",
       "      <td>0.0</td>\n",
       "      <td>0.0</td>\n",
       "    </tr>\n",
       "    <tr>\n",
       "      <th>8</th>\n",
       "      <td>0.0</td>\n",
       "      <td>0.0</td>\n",
       "      <td>0.0</td>\n",
       "      <td>0.0</td>\n",
       "      <td>0.0</td>\n",
       "      <td>0.0</td>\n",
       "      <td>0.0</td>\n",
       "      <td>0.0</td>\n",
       "      <td>0.0</td>\n",
       "      <td>0.0</td>\n",
       "      <td>...</td>\n",
       "      <td>0.0</td>\n",
       "      <td>0.0</td>\n",
       "      <td>0.0</td>\n",
       "      <td>0.0</td>\n",
       "      <td>0.0</td>\n",
       "      <td>0.0</td>\n",
       "      <td>0.0</td>\n",
       "      <td>0.0</td>\n",
       "      <td>0.0</td>\n",
       "      <td>0.0</td>\n",
       "    </tr>\n",
       "  </tbody>\n",
       "</table>\n",
       "<p>5 rows × 904 columns</p>\n",
       "</div>"
      ],
      "text/plain": [
       "feature_name  10_147  10_159  10_184  10_217  10_22  10_287  10_361  10_407  \\\n",
       "item_id                                                                       \n",
       "2                0.0     0.0     0.0     0.0    0.0     0.0     0.0     0.0   \n",
       "3                0.0     0.0     0.0     0.0    0.0     0.0     0.0     0.0   \n",
       "4                0.0     0.0     0.0     0.0    0.0     0.0     0.0     0.0   \n",
       "7                0.0     0.0     0.0     0.0    0.0     0.0     0.0     0.0   \n",
       "8                0.0     0.0     0.0     0.0    0.0     0.0     0.0     0.0   \n",
       "\n",
       "feature_name  10_464  10_561  ...  7_837  7_838  8_157  8_323  8_420  8_636  \\\n",
       "item_id                       ...                                             \n",
       "2                0.0     0.0  ...    0.0    0.0    0.0    0.0    0.0    0.0   \n",
       "3                0.0     0.0  ...    0.0    0.0    0.0    0.0    0.0    0.0   \n",
       "4                0.0     0.0  ...    1.0    0.0    0.0    0.0    0.0    0.0   \n",
       "7                0.0     0.0  ...    0.0    0.0    0.0    0.0    0.0    0.0   \n",
       "8                0.0     0.0  ...    0.0    0.0    0.0    0.0    0.0    0.0   \n",
       "\n",
       "feature_name  9_175  9_178  9_190  9_369  \n",
       "item_id                                   \n",
       "2               0.0    0.0    0.0    0.0  \n",
       "3               0.0    0.0    0.0    0.0  \n",
       "4               0.0    0.0    0.0    0.0  \n",
       "7               0.0    0.0    0.0    0.0  \n",
       "8               0.0    0.0    0.0    0.0  \n",
       "\n",
       "[5 rows x 904 columns]"
      ]
     },
     "execution_count": 9,
     "metadata": {},
     "output_type": "execute_result"
    },
    {
     "name": "stdout",
     "output_type": "stream",
     "text": [
      "time: 366 ms (started: 2022-06-01 09:44:24 +00:00)\n"
     ]
    }
   ],
   "source": [
    "#pivot table\n",
    "item_feature_p = item_feature.pivot_table(index=\"item_id\", columns=\"feature_name\",values=\"frequence\")\n",
    "item_feature_p = (item_feature_p.fillna(0))\n",
    "item_feature_p.head()"
   ]
  },
  {
   "cell_type": "code",
   "execution_count": 10,
   "metadata": {},
   "outputs": [
    {
     "name": "stdout",
     "output_type": "stream",
     "text": [
      "time: 4.84 s (started: 2022-06-01 09:44:26 +00:00)\n"
     ]
    }
   ],
   "source": [
    "item_feature_p.to_csv(\"item_freq_vec.csv\")#path to save"
   ]
  },
  {
   "cell_type": "markdown",
   "metadata": {},
   "source": [
    "## train_sessions => vector"
   ]
  },
  {
   "cell_type": "code",
   "execution_count": 11,
   "metadata": {},
   "outputs": [
    {
     "name": "stdout",
     "output_type": "stream",
     "text": [
      "time: 281 µs (started: 2022-06-01 09:44:31 +00:00)\n"
     ]
    }
   ],
   "source": [
    "def items2vec(_df_item,_session_items):\n",
    "    session_vec = np.sum(_df_item.loc[pd.Index(_session_items)]).values\n",
    "    return session_vec "
   ]
  },
  {
   "cell_type": "code",
   "execution_count": 12,
   "metadata": {
    "scrolled": true
   },
   "outputs": [
    {
     "name": "stdout",
     "output_type": "stream",
     "text": [
      "time: 3.65 ms (started: 2022-06-01 09:44:31 +00:00)\n"
     ]
    }
   ],
   "source": [
    "def sessions2vec(item_vec_df,session_path,save_path):\n",
    "    '''\n",
    "    input 1 dataframe with col name :session_id,item_id\n",
    "    input 2 path of session.csv\n",
    "    imput 3 path you wanna save will save to pkl\n",
    "    '''\n",
    "    #item_vec裡面需要有col:session_id,item_id\n",
    "    s_t = time.time()\n",
    "    _df_session = pd.read_csv(session_path)\n",
    "    _df_item = item_vec_df\n",
    "    pre_sid = None\n",
    "    session_dic={}\n",
    "    item_buf=[]\n",
    "    for row in _df_session.iterrows():#tuple of row value,row[0]=index,row[1]=values\n",
    "        if pre_sid!=row[1].session_id:#check if session id matches\n",
    "            if (item_buf):#if value in buf\n",
    "                session_dic[pre_sid] = (items2vec(_df_item,item_buf))#calculate freq vec for session\n",
    "            pre_sid = row[1].session_id# move to next session\n",
    "            item_buf=[]\n",
    "        item_buf.append(row[1].item_id)\n",
    "    session_dic[pre_sid] = (items2vec(_df_item,item_buf))#saving last session vec \n",
    "    e_t=time.time()\n",
    "    save_to_pickle(save_path+\".pkl\",session_dic)\n",
    "    print(\"total session: \",len(session_dic),\" time usage: \",e_t-s_t,\" sec\")"
   ]
  },
  {
   "cell_type": "code",
   "execution_count": null,
   "metadata": {},
   "outputs": [],
   "source": [
    "sessions2vec(item_feature_p,\"../../recsys2022/train_sessions.csv\",\"train_session\")"
   ]
  },
  {
   "cell_type": "markdown",
   "metadata": {},
   "source": [
    "## test session ==> vector"
   ]
  },
  {
   "cell_type": "code",
   "execution_count": null,
   "metadata": {},
   "outputs": [],
   "source": [
    "sessions2vec(item_feature_p,'../../recsys2022/test_leaderboard_sessions.csv',\"test_leader_session\")"
   ]
  },
  {
   "cell_type": "code",
   "execution_count": null,
   "metadata": {},
   "outputs": [],
   "source": [
    "sessions2vec(item_feature_p,'../../recsys2022/train_purchases.csv',\"purchases_session\")"
   ]
  },
  {
   "cell_type": "code",
   "execution_count": 21,
   "metadata": {},
   "outputs": [
    {
     "name": "stdout",
     "output_type": "stream",
     "text": [
      "total session:  47320  time usage:  82.71393537521362  sec\n",
      "time: 1min 23s (started: 2022-06-01 16:50:08 +00:00)\n"
     ]
    }
   ],
   "source": [
    "sessions2vec(item_feature_p,'../datasets/train_last_05m.csv',\"../datasets/train_session_last_05m\")"
   ]
  },
  {
   "cell_type": "code",
   "execution_count": 22,
   "metadata": {},
   "outputs": [
    {
     "name": "stdout",
     "output_type": "stream",
     "text": [
      "total session:  47320  time usage:  71.12630128860474  sec\n",
      "time: 1min 11s (started: 2022-06-01 16:51:31 +00:00)\n"
     ]
    }
   ],
   "source": [
    "sessions2vec(item_feature_p,'../datasets/purchases_last_05m.csv',\"../datasets/purchases_session_last_05m\")"
   ]
  },
  {
   "cell_type": "code",
   "execution_count": 23,
   "metadata": {},
   "outputs": [
    {
     "name": "stdout",
     "output_type": "stream",
     "text": [
      "total session:  47320  time usage:  86.05093359947205  sec\n",
      "time: 1min 26s (started: 2022-06-01 16:52:43 +00:00)\n"
     ]
    }
   ],
   "source": [
    "sessions2vec(item_feature_p,'../datasets/train_purchases_last_05m.csv',\"../datasets/train_purchases_session_last_05m\")"
   ]
  },
  {
   "cell_type": "code",
   "execution_count": null,
   "metadata": {},
   "outputs": [],
   "source": []
  }
 ],
 "metadata": {
  "colab": {
   "name": "WSM_Pre.ipynb",
   "provenance": []
  },
  "kernelspec": {
   "display_name": "Python 3 (ipykernel)",
   "language": "python",
   "name": "python3"
  },
  "language_info": {
   "codemirror_mode": {
    "name": "ipython",
    "version": 3
   },
   "file_extension": ".py",
   "mimetype": "text/x-python",
   "name": "python",
   "nbconvert_exporter": "python",
   "pygments_lexer": "ipython3",
   "version": "3.8.10"
  }
 },
 "nbformat": 4,
 "nbformat_minor": 4
}
