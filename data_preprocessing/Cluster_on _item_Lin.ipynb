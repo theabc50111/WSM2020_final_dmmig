{
 "cells": [
  {
   "cell_type": "markdown",
   "id": "bf615fab-b270-414f-8e34-f8fa91a99a5e",
   "metadata": {},
   "source": [
    "需要:執行完`label_encoding_WU.ipynb`產生的`label_encoding.csv`\n"
   ]
  },
  {
   "cell_type": "code",
   "execution_count": 237,
   "id": "a9843cf2-7430-4627-8ea6-ce15f9421e34",
   "metadata": {},
   "outputs": [],
   "source": [
    "# !pip  install sklearn\n",
    "# !pip  install pandas\n",
    "# !pip install matplotlib\n",
    "import pandas as pd\n",
    "import numpy as np\n",
    "from sklearn.decomposition import PCA\n",
    "import matplotlib.pyplot as plt\n",
    "from sklearn.cluster import DBSCAN\n",
    "from sklearn import cluster\n",
    "# import time "
   ]
  },
  {
   "cell_type": "markdown",
   "id": "05b3d7a9-92a0-4676-9f80-e5e2fc451945",
   "metadata": {},
   "source": [
    "# 讀取檔案\n",
    "- 記得替換檔案路徑\n",
    "- 主要是把csv檔案讀完後的df:\n",
    "    - index設回item_id\n",
    "    - transpose\n",
    "    - 轉換為numpy"
   ]
  },
  {
   "cell_type": "code",
   "execution_count": 303,
   "id": "99774373-1d32-416f-898f-0122b74ee64f",
   "metadata": {},
   "outputs": [],
   "source": [
    "label_data= pd.read_csv('label_encoding.csv').set_index('item_id').T\n",
    "# print(label_data.head())\n",
    "X=label_data.to_numpy()\n",
    "# X.shape"
   ]
  },
  {
   "cell_type": "code",
   "execution_count": 304,
   "id": "890b1307-317b-4edb-b12d-d952ccde0bb2",
   "metadata": {},
   "outputs": [
    {
     "data": {
      "text/html": [
       "<div>\n",
       "<style scoped>\n",
       "    .dataframe tbody tr th:only-of-type {\n",
       "        vertical-align: middle;\n",
       "    }\n",
       "\n",
       "    .dataframe tbody tr th {\n",
       "        vertical-align: top;\n",
       "    }\n",
       "\n",
       "    .dataframe thead th {\n",
       "        text-align: right;\n",
       "    }\n",
       "</style>\n",
       "<table border=\"1\" class=\"dataframe\">\n",
       "  <thead>\n",
       "    <tr style=\"text-align: right;\">\n",
       "      <th>item_id</th>\n",
       "      <th>2</th>\n",
       "      <th>3</th>\n",
       "      <th>4</th>\n",
       "      <th>7</th>\n",
       "      <th>8</th>\n",
       "      <th>9</th>\n",
       "      <th>10</th>\n",
       "      <th>11</th>\n",
       "      <th>13</th>\n",
       "      <th>14</th>\n",
       "      <th>...</th>\n",
       "      <th>28133</th>\n",
       "      <th>28134</th>\n",
       "      <th>28135</th>\n",
       "      <th>28137</th>\n",
       "      <th>28138</th>\n",
       "      <th>28139</th>\n",
       "      <th>28140</th>\n",
       "      <th>28141</th>\n",
       "      <th>28142</th>\n",
       "      <th>28143</th>\n",
       "    </tr>\n",
       "  </thead>\n",
       "  <tbody>\n",
       "    <tr>\n",
       "      <th>10_1</th>\n",
       "      <td>0.0</td>\n",
       "      <td>0.0</td>\n",
       "      <td>0.0</td>\n",
       "      <td>0.0</td>\n",
       "      <td>0.0</td>\n",
       "      <td>0.0</td>\n",
       "      <td>0.0</td>\n",
       "      <td>0.0</td>\n",
       "      <td>0.0</td>\n",
       "      <td>0.0</td>\n",
       "      <td>...</td>\n",
       "      <td>0.0</td>\n",
       "      <td>0.0</td>\n",
       "      <td>0.0</td>\n",
       "      <td>0.0</td>\n",
       "      <td>0.0</td>\n",
       "      <td>0.0</td>\n",
       "      <td>0.0</td>\n",
       "      <td>0.0</td>\n",
       "      <td>0.0</td>\n",
       "      <td>0.0</td>\n",
       "    </tr>\n",
       "    <tr>\n",
       "      <th>11_1</th>\n",
       "      <td>0.0</td>\n",
       "      <td>1.0</td>\n",
       "      <td>0.0</td>\n",
       "      <td>0.0</td>\n",
       "      <td>1.0</td>\n",
       "      <td>1.0</td>\n",
       "      <td>0.0</td>\n",
       "      <td>1.0</td>\n",
       "      <td>0.0</td>\n",
       "      <td>0.0</td>\n",
       "      <td>...</td>\n",
       "      <td>0.0</td>\n",
       "      <td>0.0</td>\n",
       "      <td>0.0</td>\n",
       "      <td>0.0</td>\n",
       "      <td>1.0</td>\n",
       "      <td>0.0</td>\n",
       "      <td>0.0</td>\n",
       "      <td>0.0</td>\n",
       "      <td>0.0</td>\n",
       "      <td>1.0</td>\n",
       "    </tr>\n",
       "    <tr>\n",
       "      <th>12_1</th>\n",
       "      <td>0.0</td>\n",
       "      <td>0.0</td>\n",
       "      <td>0.0</td>\n",
       "      <td>0.0</td>\n",
       "      <td>0.0</td>\n",
       "      <td>0.0</td>\n",
       "      <td>1.0</td>\n",
       "      <td>0.0</td>\n",
       "      <td>0.0</td>\n",
       "      <td>0.0</td>\n",
       "      <td>...</td>\n",
       "      <td>0.0</td>\n",
       "      <td>0.0</td>\n",
       "      <td>0.0</td>\n",
       "      <td>0.0</td>\n",
       "      <td>0.0</td>\n",
       "      <td>0.0</td>\n",
       "      <td>0.0</td>\n",
       "      <td>0.0</td>\n",
       "      <td>0.0</td>\n",
       "      <td>0.0</td>\n",
       "    </tr>\n",
       "    <tr>\n",
       "      <th>13_1</th>\n",
       "      <td>0.0</td>\n",
       "      <td>0.0</td>\n",
       "      <td>0.0</td>\n",
       "      <td>0.0</td>\n",
       "      <td>0.0</td>\n",
       "      <td>0.0</td>\n",
       "      <td>0.0</td>\n",
       "      <td>0.0</td>\n",
       "      <td>0.0</td>\n",
       "      <td>0.0</td>\n",
       "      <td>...</td>\n",
       "      <td>0.0</td>\n",
       "      <td>0.0</td>\n",
       "      <td>0.0</td>\n",
       "      <td>0.0</td>\n",
       "      <td>0.0</td>\n",
       "      <td>0.0</td>\n",
       "      <td>0.0</td>\n",
       "      <td>0.0</td>\n",
       "      <td>0.0</td>\n",
       "      <td>0.0</td>\n",
       "    </tr>\n",
       "    <tr>\n",
       "      <th>14_1</th>\n",
       "      <td>0.0</td>\n",
       "      <td>0.0</td>\n",
       "      <td>0.0</td>\n",
       "      <td>0.0</td>\n",
       "      <td>0.0</td>\n",
       "      <td>0.0</td>\n",
       "      <td>0.0</td>\n",
       "      <td>0.0</td>\n",
       "      <td>0.0</td>\n",
       "      <td>1.0</td>\n",
       "      <td>...</td>\n",
       "      <td>0.0</td>\n",
       "      <td>0.0</td>\n",
       "      <td>0.0</td>\n",
       "      <td>0.0</td>\n",
       "      <td>0.0</td>\n",
       "      <td>0.0</td>\n",
       "      <td>0.0</td>\n",
       "      <td>0.0</td>\n",
       "      <td>0.0</td>\n",
       "      <td>0.0</td>\n",
       "    </tr>\n",
       "  </tbody>\n",
       "</table>\n",
       "<p>5 rows × 23691 columns</p>\n",
       "</div>"
      ],
      "text/plain": [
       "item_id  2      3      4      7      8      9      10     11     13     14     \\\n",
       "10_1       0.0    0.0    0.0    0.0    0.0    0.0    0.0    0.0    0.0    0.0   \n",
       "11_1       0.0    1.0    0.0    0.0    1.0    1.0    0.0    1.0    0.0    0.0   \n",
       "12_1       0.0    0.0    0.0    0.0    0.0    0.0    1.0    0.0    0.0    0.0   \n",
       "13_1       0.0    0.0    0.0    0.0    0.0    0.0    0.0    0.0    0.0    0.0   \n",
       "14_1       0.0    0.0    0.0    0.0    0.0    0.0    0.0    0.0    0.0    1.0   \n",
       "\n",
       "item_id  ...  28133  28134  28135  28137  28138  28139  28140  28141  28142  \\\n",
       "10_1     ...    0.0    0.0    0.0    0.0    0.0    0.0    0.0    0.0    0.0   \n",
       "11_1     ...    0.0    0.0    0.0    0.0    1.0    0.0    0.0    0.0    0.0   \n",
       "12_1     ...    0.0    0.0    0.0    0.0    0.0    0.0    0.0    0.0    0.0   \n",
       "13_1     ...    0.0    0.0    0.0    0.0    0.0    0.0    0.0    0.0    0.0   \n",
       "14_1     ...    0.0    0.0    0.0    0.0    0.0    0.0    0.0    0.0    0.0   \n",
       "\n",
       "item_id  28143  \n",
       "10_1       0.0  \n",
       "11_1       1.0  \n",
       "12_1       0.0  \n",
       "13_1       0.0  \n",
       "14_1       0.0  \n",
       "\n",
       "[5 rows x 23691 columns]"
      ]
     },
     "execution_count": 304,
     "metadata": {},
     "output_type": "execute_result"
    }
   ],
   "source": [
    "label_data.head()"
   ]
  },
  {
   "cell_type": "markdown",
   "id": "f9e0288b-5556-4eca-a1bf-5bc7f3cc47e7",
   "metadata": {},
   "source": [
    "# PCA"
   ]
  },
  {
   "cell_type": "code",
   "execution_count": 50,
   "id": "74109155-8622-4719-ba6a-5a5e27bb8b5a",
   "metadata": {},
   "outputs": [],
   "source": [
    "def pca_model(X_data,n):\n",
    "    \"\"\"\n",
    "    X_data: np array,col:item_id  ,row:feature \n",
    "    n : n_components of PCA\n",
    "    return value: PCA result(array)\n",
    "    \"\"\"\n",
    "    pca = PCA(n_components=n)\n",
    "    pca.fit(X_data)\n",
    "    X_pca=pca.transform(X_data)\n",
    "    print(\"n_components_:\",pca.n_components_)\n",
    "    print(\"explained_variance_ratio_:\",pca.explained_variance_ratio_)\n",
    "    print(\"singular_values_:\",pca.singular_values_)\n",
    "    return  X_pca"
   ]
  },
  {
   "cell_type": "code",
   "execution_count": 327,
   "id": "6de05f4f-cf5c-4500-b661-d2cb4a189cef",
   "metadata": {},
   "outputs": [
    {
     "name": "stdout",
     "output_type": "stream",
     "text": [
      "n_components_: 2\n",
      "explained_variance_ratio_: [0.53617381 0.10438464]\n",
      "singular_values_: [438.06972113 193.28970758]\n",
      "(88, 2)\n",
      "--------\n",
      "n_components_: 3\n",
      "explained_variance_ratio_: [0.53617381 0.10438464 0.07218644]\n",
      "singular_values_: [438.06972113 193.28970758 160.73788891]\n",
      "(88, 3)\n",
      "--------\n"
     ]
    }
   ],
   "source": [
    "X_pca_n2=pca_model(X,2)\n",
    "print(X_pca_n2.shape)\n",
    "print(\"--------\")\n",
    "X_pca_n3=pca_model(X,3)\n",
    "print(X_pca_n3.shape)\n",
    "print('--------')"
   ]
  },
  {
   "cell_type": "markdown",
   "id": "887bca0c-be0a-49c4-b9d4-73ecee40401c",
   "metadata": {},
   "source": [
    "# Clustering\n",
    "## DBSCAN"
   ]
  },
  {
   "cell_type": "code",
   "execution_count": 335,
   "id": "ff4f555b-4004-4780-8633-a7eb53c06832",
   "metadata": {},
   "outputs": [],
   "source": [
    "def DBSCAN_draw(data,eps,min_sample, print_group_info=True,draw=True):\n",
    "    \"\"\"\n",
    "    data :            要進行clustering 的np array \n",
    "    eps,min_sample :  DBSCAN之參數\n",
    "    print_group_info: Bool,是否要顯示每個分群中資料的筆數\n",
    "    draw:             Bool,是否要畫圖\n",
    "    return :          DBSM 結果\n",
    "    \"\"\"\n",
    "    clustering = DBSCAN(eps=eps, min_samples=min_sample).fit(data)\n",
    "    label=list(clustering.labels_)\n",
    "    if print_group_info==True:\n",
    "        for i in set(label):\n",
    "            print(\"label:\",i,\"\\tcount:\",label.count(i))\n",
    "        \n",
    "    \n",
    "    if draw==True:\n",
    "        group =clustering.labels_\n",
    "        fig, ax = plt.subplots()\n",
    "        for g in np.unique(group):\n",
    "            ix = np.where(group == g)\n",
    "            ax.scatter(data[:,0][ix], data[:,1][ix], label = g, s = 10)\n",
    "        ax.legend()\n",
    "        plt.show()\n",
    "    return clustering"
   ]
  },
  {
   "cell_type": "code",
   "execution_count": 336,
   "id": "f1fcbedd-3635-42f8-85df-73addee16a69",
   "metadata": {},
   "outputs": [
    {
     "name": "stdout",
     "output_type": "stream",
     "text": [
      "label: 0 \tcount: 38\n",
      "label: 1 \tcount: 10\n",
      "label: 2 \tcount: 4\n",
      "label: 3 \tcount: 3\n",
      "label: 4 \tcount: 5\n",
      "label: 5 \tcount: 3\n",
      "label: -1 \tcount: 25\n"
     ]
    },
    {
     "data": {
      "image/png": "[encoded data removed]",
      "text/plain": [
       "<Figure size 432x288 with 1 Axes>"
      ]
     },
     "metadata": {
      "needs_background": "light"
     },
     "output_type": "display_data"
    }
   ],
   "source": [
    "DBSCAN_PCA_result=DBSCAN_draw(X_pca_n2,eps=5,min_sample=3)"
   ]
  },
  {
   "cell_type": "markdown",
   "id": "b8ad6b4c-7240-4a42-af85-88b20485e348",
   "metadata": {},
   "source": [
    "## Kmeans"
   ]
  },
  {
   "cell_type": "code",
   "execution_count": 337,
   "id": "0e4905a8-19b8-4ba6-b4fb-5b614f0321d1",
   "metadata": {},
   "outputs": [],
   "source": [
    "def Kmeans_draw(data,n_clusters, print_group_info=True,draw=True):\n",
    "    \"\"\"\n",
    "    data :            要進行clustering 的np array \n",
    "    n_clusters :      Kmeans要分幾群\n",
    "    print_group_info: Bool,是否要顯示每個分群中資料的筆數\n",
    "    draw:             Bool,是否要畫圖\n",
    "    return :          Kmeans 結果\n",
    "    \"\"\"\n",
    "    clustering = cluster.KMeans(n_clusters = n_clusters).fit(data)\n",
    "    label=list(clustering.labels_)\n",
    "    if print_group_info==True:\n",
    "        for i in set(label):\n",
    "            print(\"label:\",i,\"\\tcount:\",label.count(i))\n",
    "        \n",
    "        \n",
    "    if draw==True:\n",
    "        group =clustering.labels_\n",
    "        fig, ax = plt.subplots()\n",
    "        for g in np.unique(group):\n",
    "            ix = np.where(group == g)\n",
    "            ax.scatter(data[:,0][ix], data[:,1][ix], label = g, s = 10)\n",
    "        ax.legend()\n",
    "        plt.show()\n",
    "    return clustering"
   ]
  },
  {
   "cell_type": "code",
   "execution_count": 338,
   "id": "4968798e-aecb-4de1-a94e-9fcf4847e76e",
   "metadata": {},
   "outputs": [
    {
     "name": "stdout",
     "output_type": "stream",
     "text": [
      "label: 0 \tcount: 63\n",
      "label: 1 \tcount: 16\n",
      "label: 2 \tcount: 9\n"
     ]
    },
    {
     "data": {
      "image/png": "[encoded data removed]",
      "text/plain": [
       "<Figure size 432x288 with 1 Axes>"
      ]
     },
     "metadata": {
      "needs_background": "light"
     },
     "output_type": "display_data"
    }
   ],
   "source": [
    "Kmeans_result=Kmeans_draw(X_pca_n2,n_clusters=3)"
   ]
  },
  {
   "cell_type": "markdown",
   "id": "5311c006-65b1-4d33-9a7d-32cdb996a12a",
   "metadata": {},
   "source": [
    "# 將label 結果儲存\n",
    "- 將分群結果儲存\n",
    "    - 需要使用讀檔的`label_encoding.csv`來取出feature對應的label\n"
   ]
  },
  {
   "cell_type": "code",
   "execution_count": 365,
   "id": "cb958c40-1b51-488f-93d6-871503986890",
   "metadata": {},
   "outputs": [],
   "source": [
    "DBSCAN_lebals=DBSCAN_draw(X_pca_n2,eps=5,min_sample=3,print_group_info=False,draw=False).labels_\n",
    "Kmeans_lebals=Kmeans_draw(X_pca_n2,n_clusters=3,print_group_info=False,draw=False).labels_\n",
    "label_data=list(pd.read_csv('label_encoding.csv').columns).remove('item_id')  #取出feature對應的label\n",
    "res=pd.DataFrame()\n",
    "res['label']=label_data\n",
    "res['DBSCAN']=DBSCAN_lebals\n",
    "res['Kmeans']=Kmeans_lebals\n",
    "\n",
    "res.to_csv(\"cluster_on_item.csv\")"
   ]
  }
 ],
 "metadata": {
  "kernelspec": {
   "display_name": "Python 3 (ipykernel)",
   "language": "python",
   "name": "python3"
  },
  "language_info": {
   "codemirror_mode": {
    "name": "ipython",
    "version": 3
   },
   "file_extension": ".py",
   "mimetype": "text/x-python",
   "name": "python",
   "nbconvert_exporter": "python",
   "pygments_lexer": "ipython3",
   "version": "3.7.10"
  }
 },
 "nbformat": 4,
 "nbformat_minor": 5
}
