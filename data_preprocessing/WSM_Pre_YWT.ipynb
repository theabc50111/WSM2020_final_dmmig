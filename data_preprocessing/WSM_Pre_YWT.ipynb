{
 "cells": [
  {
   "cell_type": "code",
   "execution_count": 1,
   "metadata": {
    "id": "scDPkv58DTDV"
   },
   "outputs": [
    {
     "name": "stdout",
     "output_type": "stream",
     "text": [
      "time: 161 ms (started: 2022-06-07 08:50:07 +00:00)\n"
     ]
    }
   ],
   "source": [
    "import pandas as pd\n",
    "import pickle\n",
    "import numpy as np\n",
    "import time \n",
    "from datetime import datetime"
   ]
  },
  {
   "cell_type": "markdown",
   "metadata": {},
   "source": [
    "# Data overview"
   ]
  },
  {
   "cell_type": "markdown",
   "metadata": {},
   "source": [
    "## observe dataset date range"
   ]
  },
  {
   "cell_type": "code",
   "execution_count": 2,
   "metadata": {},
   "outputs": [
    {
     "name": "stdout",
     "output_type": "stream",
     "text": [
      "2021-06-30 23:51:32.466000 2021-06-01 00:01:01.019000 2021-06-30 23:32:44.280000 2021-06-01 00:00:09.399000\n",
      "time: 286 ms (started: 2022-06-07 08:50:54 +00:00)\n"
     ]
    }
   ],
   "source": [
    "test_leader_df = pd.read_csv('../../recsys2022/test_leaderboard_sessions.csv')\n",
    "test_df = pd.read_csv('../../recsys2022/test_final_sessions.csv')\n",
    "test_leader_df['date'] =pd.to_datetime(test_leader_df['date'])\n",
    "test_df['date'] =pd.to_datetime(test_df['date'])\n",
    "print(test_leader_df['date'].max(), test_leader_df['date'].min(), test_df['date'].max(), test_df['date'].min())"
   ]
  },
  {
   "cell_type": "markdown",
   "metadata": {},
   "source": [
    "## Observe  itemset  difference between dataset"
   ]
  },
  {
   "cell_type": "code",
   "execution_count": null,
   "metadata": {},
   "outputs": [],
   "source": [
    "trn_df = pd.read_csv('../../recsys2022/train_sessions.csv')\n",
    "trn_label_df = pd.read_csv('../../recsys2022/train_purchases.csv')\n",
    "test_df = pd.read_csv('../../recsys2022/test_leaderboard_sessions.csv')\n",
    "can_df = pd.read_csv('../../recsys2022/candidate_items.csv')\n",
    "print(f\"len of test item: {len(set(test_df['item_id']))}, item diff between test & train len: {len(set(test_df['item_id']) - set(trn_df['item_id']))}\")\n",
    "print(f\"len of test item: {len(set(test_df['item_id']))}, item diff between candidate & test len: {len(set(can_df['item_id']) - set(test_df['item_id']))}\")\n",
    "print(f\"len of train item: {len(set(trn_df['item_id']))}, item diff between candidate & trn len: {len(set(can_df['item_id']) - set(trn_df['item_id']))}\")\n",
    "print(f\"len of train_label item: {len(set(trn_label_df['item_id']))}, item diff between candidate & trn len: {len(set(can_df['item_id']) - set(trn_label_df['item_id']))}\")"
   ]
  },
  {
   "cell_type": "code",
   "execution_count": null,
   "metadata": {},
   "outputs": [],
   "source": [
    "tmp = pd.concat([trn_df, trn_label_df, test_df])\n",
    "print(trn_df.shape, trn_label_df.shape, test_df.shape, tmp.shape)\n",
    "display(tmp)\n",
    "print(set(can_df['item_id']) - set(tmp['item_id']))"
   ]
  },
  {
   "cell_type": "markdown",
   "metadata": {
    "id": "6J6KCjrAW_AK"
   },
   "source": [
    "# Data preprocessing"
   ]
  },
  {
   "cell_type": "markdown",
   "metadata": {},
   "source": [
    "## concat test_leader & test_final "
   ]
  },
  {
   "cell_type": "code",
   "execution_count": 9,
   "metadata": {},
   "outputs": [
    {
     "name": "stdout",
     "output_type": "stream",
     "text": [
      "(229354, 3) (226138, 3) (455492, 3)\n"
     ]
    },
    {
     "data": {
      "text/html": [
       "<div>\n",
       "<style scoped>\n",
       "    .dataframe tbody tr th:only-of-type {\n",
       "        vertical-align: middle;\n",
       "    }\n",
       "\n",
       "    .dataframe tbody tr th {\n",
       "        vertical-align: top;\n",
       "    }\n",
       "\n",
       "    .dataframe thead th {\n",
       "        text-align: right;\n",
       "    }\n",
       "</style>\n",
       "<table border=\"1\" class=\"dataframe\">\n",
       "  <thead>\n",
       "    <tr style=\"text-align: right;\">\n",
       "      <th></th>\n",
       "      <th>session_id</th>\n",
       "      <th>item_id</th>\n",
       "      <th>date</th>\n",
       "    </tr>\n",
       "  </thead>\n",
       "  <tbody>\n",
       "    <tr>\n",
       "      <th>0</th>\n",
       "      <td>26</td>\n",
       "      <td>19185</td>\n",
       "      <td>2021-06-16 09:53:54.158</td>\n",
       "    </tr>\n",
       "    <tr>\n",
       "      <th>1</th>\n",
       "      <td>200</td>\n",
       "      <td>17089</td>\n",
       "      <td>2021-06-25 12:23:40.811</td>\n",
       "    </tr>\n",
       "    <tr>\n",
       "      <th>2</th>\n",
       "      <td>200</td>\n",
       "      <td>17089</td>\n",
       "      <td>2021-06-25 12:24:36.631</td>\n",
       "    </tr>\n",
       "    <tr>\n",
       "      <th>3</th>\n",
       "      <td>200</td>\n",
       "      <td>8060</td>\n",
       "      <td>2021-06-25 12:24:41.677</td>\n",
       "    </tr>\n",
       "    <tr>\n",
       "      <th>4</th>\n",
       "      <td>200</td>\n",
       "      <td>4758</td>\n",
       "      <td>2021-06-25 12:24:50.692</td>\n",
       "    </tr>\n",
       "    <tr>\n",
       "      <th>...</th>\n",
       "      <td>...</td>\n",
       "      <td>...</td>\n",
       "      <td>...</td>\n",
       "    </tr>\n",
       "    <tr>\n",
       "      <th>226133</th>\n",
       "      <td>4439648</td>\n",
       "      <td>7154</td>\n",
       "      <td>2021-06-14 08:03:19.024</td>\n",
       "    </tr>\n",
       "    <tr>\n",
       "      <th>226134</th>\n",
       "      <td>4439675</td>\n",
       "      <td>23067</td>\n",
       "      <td>2021-06-01 12:21:07.959</td>\n",
       "    </tr>\n",
       "    <tr>\n",
       "      <th>226135</th>\n",
       "      <td>4439868</td>\n",
       "      <td>26085</td>\n",
       "      <td>2021-06-16 22:18:27.509</td>\n",
       "    </tr>\n",
       "    <tr>\n",
       "      <th>226136</th>\n",
       "      <td>4439966</td>\n",
       "      <td>19483</td>\n",
       "      <td>2021-06-06 20:05:06.457</td>\n",
       "    </tr>\n",
       "    <tr>\n",
       "      <th>226137</th>\n",
       "      <td>4439966</td>\n",
       "      <td>20782</td>\n",
       "      <td>2021-06-06 20:06:47.779</td>\n",
       "    </tr>\n",
       "  </tbody>\n",
       "</table>\n",
       "<p>455492 rows × 3 columns</p>\n",
       "</div>"
      ],
      "text/plain": [
       "        session_id  item_id                     date\n",
       "0               26    19185  2021-06-16 09:53:54.158\n",
       "1              200    17089  2021-06-25 12:23:40.811\n",
       "2              200    17089  2021-06-25 12:24:36.631\n",
       "3              200     8060  2021-06-25 12:24:41.677\n",
       "4              200     4758  2021-06-25 12:24:50.692\n",
       "...            ...      ...                      ...\n",
       "226133     4439648     7154  2021-06-14 08:03:19.024\n",
       "226134     4439675    23067  2021-06-01 12:21:07.959\n",
       "226135     4439868    26085  2021-06-16 22:18:27.509\n",
       "226136     4439966    19483  2021-06-06 20:05:06.457\n",
       "226137     4439966    20782  2021-06-06 20:06:47.779\n",
       "\n",
       "[455492 rows x 3 columns]"
      ]
     },
     "metadata": {},
     "output_type": "display_data"
    },
    {
     "name": "stdout",
     "output_type": "stream",
     "text": [
      "time: 677 ms (started: 2022-06-07 09:03:11 +00:00)\n"
     ]
    }
   ],
   "source": [
    "test_leader_df = pd.read_csv('../../recsys2022/test_leaderboard_sessions.csv')\n",
    "test_df = pd.read_csv('../../recsys2022/test_final_sessions.csv')\n",
    "tmp = pd.concat([test_leader_df, test_df])\n",
    "print(test_leader_df.shape, test_df.shape, tmp.shape)\n",
    "display(tmp)\n",
    "tmp.to_csv(\"../../recsys2022/test_leaderboard_final_sessions.csv\")"
   ]
  },
  {
   "cell_type": "code",
   "execution_count": null,
   "metadata": {},
   "outputs": [],
   "source": []
  },
  {
   "cell_type": "markdown",
   "metadata": {
    "id": "6J6KCjrAW_AK"
   },
   "source": [
    "## item=>vector & session=>vector"
   ]
  },
  {
   "cell_type": "markdown",
   "metadata": {},
   "source": [
    "## item==>vetor\n",
    "### 1. mapping"
   ]
  },
  {
   "cell_type": "code",
   "execution_count": 14,
   "metadata": {},
   "outputs": [
    {
     "name": "stdout",
     "output_type": "stream",
     "text": [
      "time: 574 µs (started: 2022-06-07 17:07:37 +00:00)\n"
     ]
    }
   ],
   "source": [
    "def map_feature_label(target_path,dict_csv_path):\n",
    "    all_feature=pd.read_csv(dict_csv_path)\n",
    "    feature_label_divtionary={k:v for k,v in zip(all_feature['feature_name'],all_feature['label'])}\n",
    "    item_feature=pd.read_csv(target_path)\n",
    "    item_feature['feature_category_id'] = item_feature['feature_category_id'].apply(str)\n",
    "    item_feature['feature_value_id'] = item_feature['feature_value_id'].apply(str)\n",
    "    item_feature['feature_name']=item_feature[\"feature_category_id\"] + \"_\" + item_feature[\"feature_value_id\"]\n",
    "    item_feature['label']=[feature_label_divtionary[i] for i in item_feature['feature_name']]\n",
    "    item_feature['label'].apply(int)\n",
    "    return item_feature"
   ]
  },
  {
   "cell_type": "code",
   "execution_count": 15,
   "metadata": {
    "colab": {
     "base_uri": "https://localhost:8080/",
     "height": 457
    },
    "id": "FJcKRtOTDTDm",
    "outputId": "f039e984-c708-413f-de63-0912b95fb4ae"
   },
   "outputs": [
    {
     "data": {
      "text/html": [
       "<div>\n",
       "<style scoped>\n",
       "    .dataframe tbody tr th:only-of-type {\n",
       "        vertical-align: middle;\n",
       "    }\n",
       "\n",
       "    .dataframe tbody tr th {\n",
       "        vertical-align: top;\n",
       "    }\n",
       "\n",
       "    .dataframe thead th {\n",
       "        text-align: right;\n",
       "    }\n",
       "</style>\n",
       "<table border=\"1\" class=\"dataframe\">\n",
       "  <thead>\n",
       "    <tr style=\"text-align: right;\">\n",
       "      <th></th>\n",
       "      <th>item_id</th>\n",
       "      <th>feature_category_id</th>\n",
       "      <th>feature_value_id</th>\n",
       "      <th>feature_name</th>\n",
       "      <th>label</th>\n",
       "      <th>frequence</th>\n",
       "    </tr>\n",
       "  </thead>\n",
       "  <tbody>\n",
       "    <tr>\n",
       "      <th>0</th>\n",
       "      <td>2</td>\n",
       "      <td>56</td>\n",
       "      <td>365</td>\n",
       "      <td>56_365</td>\n",
       "      <td>637</td>\n",
       "      <td>1.0</td>\n",
       "    </tr>\n",
       "    <tr>\n",
       "      <th>1</th>\n",
       "      <td>2</td>\n",
       "      <td>62</td>\n",
       "      <td>801</td>\n",
       "      <td>62_801</td>\n",
       "      <td>720</td>\n",
       "      <td>1.0</td>\n",
       "    </tr>\n",
       "    <tr>\n",
       "      <th>2</th>\n",
       "      <td>2</td>\n",
       "      <td>68</td>\n",
       "      <td>351</td>\n",
       "      <td>68_351</td>\n",
       "      <td>796</td>\n",
       "      <td>1.0</td>\n",
       "    </tr>\n",
       "    <tr>\n",
       "      <th>3</th>\n",
       "      <td>2</td>\n",
       "      <td>33</td>\n",
       "      <td>802</td>\n",
       "      <td>33_802</td>\n",
       "      <td>378</td>\n",
       "      <td>1.0</td>\n",
       "    </tr>\n",
       "    <tr>\n",
       "      <th>4</th>\n",
       "      <td>2</td>\n",
       "      <td>72</td>\n",
       "      <td>75</td>\n",
       "      <td>72_75</td>\n",
       "      <td>878</td>\n",
       "      <td>1.0</td>\n",
       "    </tr>\n",
       "    <tr>\n",
       "      <th>...</th>\n",
       "      <td>...</td>\n",
       "      <td>...</td>\n",
       "      <td>...</td>\n",
       "      <td>...</td>\n",
       "      <td>...</td>\n",
       "      <td>...</td>\n",
       "    </tr>\n",
       "    <tr>\n",
       "      <th>471746</th>\n",
       "      <td>28143</td>\n",
       "      <td>68</td>\n",
       "      <td>351</td>\n",
       "      <td>68_351</td>\n",
       "      <td>796</td>\n",
       "      <td>1.0</td>\n",
       "    </tr>\n",
       "    <tr>\n",
       "      <th>471747</th>\n",
       "      <td>28143</td>\n",
       "      <td>55</td>\n",
       "      <td>390</td>\n",
       "      <td>55_390</td>\n",
       "      <td>578</td>\n",
       "      <td>1.0</td>\n",
       "    </tr>\n",
       "    <tr>\n",
       "      <th>471748</th>\n",
       "      <td>28143</td>\n",
       "      <td>11</td>\n",
       "      <td>109</td>\n",
       "      <td>11_109</td>\n",
       "      <td>131</td>\n",
       "      <td>1.0</td>\n",
       "    </tr>\n",
       "    <tr>\n",
       "      <th>471749</th>\n",
       "      <td>28143</td>\n",
       "      <td>73</td>\n",
       "      <td>91</td>\n",
       "      <td>73_91</td>\n",
       "      <td>902</td>\n",
       "      <td>1.0</td>\n",
       "    </tr>\n",
       "    <tr>\n",
       "      <th>471750</th>\n",
       "      <td>28143</td>\n",
       "      <td>47</td>\n",
       "      <td>549</td>\n",
       "      <td>47_549</td>\n",
       "      <td>490</td>\n",
       "      <td>1.0</td>\n",
       "    </tr>\n",
       "  </tbody>\n",
       "</table>\n",
       "<p>471751 rows × 6 columns</p>\n",
       "</div>"
      ],
      "text/plain": [
       "        item_id feature_category_id feature_value_id feature_name  label  \\\n",
       "0             2                  56              365       56_365    637   \n",
       "1             2                  62              801       62_801    720   \n",
       "2             2                  68              351       68_351    796   \n",
       "3             2                  33              802       33_802    378   \n",
       "4             2                  72               75        72_75    878   \n",
       "...         ...                 ...              ...          ...    ...   \n",
       "471746    28143                  68              351       68_351    796   \n",
       "471747    28143                  55              390       55_390    578   \n",
       "471748    28143                  11              109       11_109    131   \n",
       "471749    28143                  73               91        73_91    902   \n",
       "471750    28143                  47              549       47_549    490   \n",
       "\n",
       "        frequence  \n",
       "0             1.0  \n",
       "1             1.0  \n",
       "2             1.0  \n",
       "3             1.0  \n",
       "4             1.0  \n",
       "...           ...  \n",
       "471746        1.0  \n",
       "471747        1.0  \n",
       "471748        1.0  \n",
       "471749        1.0  \n",
       "471750        1.0  \n",
       "\n",
       "[471751 rows x 6 columns]"
      ]
     },
     "execution_count": 15,
     "metadata": {},
     "output_type": "execute_result"
    },
    {
     "name": "stdout",
     "output_type": "stream",
     "text": [
      "time: 407 ms (started: 2022-06-07 17:07:37 +00:00)\n"
     ]
    }
   ],
   "source": [
    "item_feature=map_feature_label('../../recsys2022/item_features.csv','../datasets/all_feature_encoding.csv')\n",
    "item_feature[\"frequence\"]=np.ones((len(item_feature),1))\n",
    "item_feature"
   ]
  },
  {
   "cell_type": "code",
   "execution_count": 16,
   "metadata": {},
   "outputs": [
    {
     "data": {
      "text/html": [
       "<div>\n",
       "<style scoped>\n",
       "    .dataframe tbody tr th:only-of-type {\n",
       "        vertical-align: middle;\n",
       "    }\n",
       "\n",
       "    .dataframe tbody tr th {\n",
       "        vertical-align: top;\n",
       "    }\n",
       "\n",
       "    .dataframe thead th {\n",
       "        text-align: right;\n",
       "    }\n",
       "</style>\n",
       "<table border=\"1\" class=\"dataframe\">\n",
       "  <thead>\n",
       "    <tr style=\"text-align: right;\">\n",
       "      <th>feature_name</th>\n",
       "      <th>10_147</th>\n",
       "      <th>10_159</th>\n",
       "      <th>10_184</th>\n",
       "      <th>10_217</th>\n",
       "      <th>10_22</th>\n",
       "      <th>10_287</th>\n",
       "      <th>10_361</th>\n",
       "      <th>10_407</th>\n",
       "      <th>10_464</th>\n",
       "      <th>10_561</th>\n",
       "      <th>...</th>\n",
       "      <th>7_837</th>\n",
       "      <th>7_838</th>\n",
       "      <th>8_157</th>\n",
       "      <th>8_323</th>\n",
       "      <th>8_420</th>\n",
       "      <th>8_636</th>\n",
       "      <th>9_175</th>\n",
       "      <th>9_178</th>\n",
       "      <th>9_190</th>\n",
       "      <th>9_369</th>\n",
       "    </tr>\n",
       "    <tr>\n",
       "      <th>item_id</th>\n",
       "      <th></th>\n",
       "      <th></th>\n",
       "      <th></th>\n",
       "      <th></th>\n",
       "      <th></th>\n",
       "      <th></th>\n",
       "      <th></th>\n",
       "      <th></th>\n",
       "      <th></th>\n",
       "      <th></th>\n",
       "      <th></th>\n",
       "      <th></th>\n",
       "      <th></th>\n",
       "      <th></th>\n",
       "      <th></th>\n",
       "      <th></th>\n",
       "      <th></th>\n",
       "      <th></th>\n",
       "      <th></th>\n",
       "      <th></th>\n",
       "      <th></th>\n",
       "    </tr>\n",
       "  </thead>\n",
       "  <tbody>\n",
       "    <tr>\n",
       "      <th>2</th>\n",
       "      <td>0.0</td>\n",
       "      <td>0.0</td>\n",
       "      <td>0.0</td>\n",
       "      <td>0.0</td>\n",
       "      <td>0.0</td>\n",
       "      <td>0.0</td>\n",
       "      <td>0.0</td>\n",
       "      <td>0.0</td>\n",
       "      <td>0.0</td>\n",
       "      <td>0.0</td>\n",
       "      <td>...</td>\n",
       "      <td>0.0</td>\n",
       "      <td>0.0</td>\n",
       "      <td>0.0</td>\n",
       "      <td>0.0</td>\n",
       "      <td>0.0</td>\n",
       "      <td>0.0</td>\n",
       "      <td>0.0</td>\n",
       "      <td>0.0</td>\n",
       "      <td>0.0</td>\n",
       "      <td>0.0</td>\n",
       "    </tr>\n",
       "    <tr>\n",
       "      <th>3</th>\n",
       "      <td>0.0</td>\n",
       "      <td>0.0</td>\n",
       "      <td>0.0</td>\n",
       "      <td>0.0</td>\n",
       "      <td>0.0</td>\n",
       "      <td>0.0</td>\n",
       "      <td>0.0</td>\n",
       "      <td>0.0</td>\n",
       "      <td>0.0</td>\n",
       "      <td>0.0</td>\n",
       "      <td>...</td>\n",
       "      <td>0.0</td>\n",
       "      <td>0.0</td>\n",
       "      <td>0.0</td>\n",
       "      <td>0.0</td>\n",
       "      <td>0.0</td>\n",
       "      <td>0.0</td>\n",
       "      <td>0.0</td>\n",
       "      <td>0.0</td>\n",
       "      <td>0.0</td>\n",
       "      <td>0.0</td>\n",
       "    </tr>\n",
       "    <tr>\n",
       "      <th>4</th>\n",
       "      <td>0.0</td>\n",
       "      <td>0.0</td>\n",
       "      <td>0.0</td>\n",
       "      <td>0.0</td>\n",
       "      <td>0.0</td>\n",
       "      <td>0.0</td>\n",
       "      <td>0.0</td>\n",
       "      <td>0.0</td>\n",
       "      <td>0.0</td>\n",
       "      <td>0.0</td>\n",
       "      <td>...</td>\n",
       "      <td>1.0</td>\n",
       "      <td>0.0</td>\n",
       "      <td>0.0</td>\n",
       "      <td>0.0</td>\n",
       "      <td>0.0</td>\n",
       "      <td>0.0</td>\n",
       "      <td>0.0</td>\n",
       "      <td>0.0</td>\n",
       "      <td>0.0</td>\n",
       "      <td>0.0</td>\n",
       "    </tr>\n",
       "    <tr>\n",
       "      <th>7</th>\n",
       "      <td>0.0</td>\n",
       "      <td>0.0</td>\n",
       "      <td>0.0</td>\n",
       "      <td>0.0</td>\n",
       "      <td>0.0</td>\n",
       "      <td>0.0</td>\n",
       "      <td>0.0</td>\n",
       "      <td>0.0</td>\n",
       "      <td>0.0</td>\n",
       "      <td>0.0</td>\n",
       "      <td>...</td>\n",
       "      <td>0.0</td>\n",
       "      <td>0.0</td>\n",
       "      <td>0.0</td>\n",
       "      <td>0.0</td>\n",
       "      <td>0.0</td>\n",
       "      <td>0.0</td>\n",
       "      <td>0.0</td>\n",
       "      <td>0.0</td>\n",
       "      <td>0.0</td>\n",
       "      <td>0.0</td>\n",
       "    </tr>\n",
       "    <tr>\n",
       "      <th>8</th>\n",
       "      <td>0.0</td>\n",
       "      <td>0.0</td>\n",
       "      <td>0.0</td>\n",
       "      <td>0.0</td>\n",
       "      <td>0.0</td>\n",
       "      <td>0.0</td>\n",
       "      <td>0.0</td>\n",
       "      <td>0.0</td>\n",
       "      <td>0.0</td>\n",
       "      <td>0.0</td>\n",
       "      <td>...</td>\n",
       "      <td>0.0</td>\n",
       "      <td>0.0</td>\n",
       "      <td>0.0</td>\n",
       "      <td>0.0</td>\n",
       "      <td>0.0</td>\n",
       "      <td>0.0</td>\n",
       "      <td>0.0</td>\n",
       "      <td>0.0</td>\n",
       "      <td>0.0</td>\n",
       "      <td>0.0</td>\n",
       "    </tr>\n",
       "  </tbody>\n",
       "</table>\n",
       "<p>5 rows × 904 columns</p>\n",
       "</div>"
      ],
      "text/plain": [
       "feature_name  10_147  10_159  10_184  10_217  10_22  10_287  10_361  10_407  \\\n",
       "item_id                                                                       \n",
       "2                0.0     0.0     0.0     0.0    0.0     0.0     0.0     0.0   \n",
       "3                0.0     0.0     0.0     0.0    0.0     0.0     0.0     0.0   \n",
       "4                0.0     0.0     0.0     0.0    0.0     0.0     0.0     0.0   \n",
       "7                0.0     0.0     0.0     0.0    0.0     0.0     0.0     0.0   \n",
       "8                0.0     0.0     0.0     0.0    0.0     0.0     0.0     0.0   \n",
       "\n",
       "feature_name  10_464  10_561  ...  7_837  7_838  8_157  8_323  8_420  8_636  \\\n",
       "item_id                       ...                                             \n",
       "2                0.0     0.0  ...    0.0    0.0    0.0    0.0    0.0    0.0   \n",
       "3                0.0     0.0  ...    0.0    0.0    0.0    0.0    0.0    0.0   \n",
       "4                0.0     0.0  ...    1.0    0.0    0.0    0.0    0.0    0.0   \n",
       "7                0.0     0.0  ...    0.0    0.0    0.0    0.0    0.0    0.0   \n",
       "8                0.0     0.0  ...    0.0    0.0    0.0    0.0    0.0    0.0   \n",
       "\n",
       "feature_name  9_175  9_178  9_190  9_369  \n",
       "item_id                                   \n",
       "2               0.0    0.0    0.0    0.0  \n",
       "3               0.0    0.0    0.0    0.0  \n",
       "4               0.0    0.0    0.0    0.0  \n",
       "7               0.0    0.0    0.0    0.0  \n",
       "8               0.0    0.0    0.0    0.0  \n",
       "\n",
       "[5 rows x 904 columns]"
      ]
     },
     "execution_count": 16,
     "metadata": {},
     "output_type": "execute_result"
    },
    {
     "name": "stdout",
     "output_type": "stream",
     "text": [
      "time: 380 ms (started: 2022-06-07 17:07:39 +00:00)\n"
     ]
    }
   ],
   "source": [
    "#pivot table\n",
    "item_feature_p = item_feature.pivot_table(index=\"item_id\", columns=\"feature_name\",values=\"frequence\")\n",
    "item_feature_p = (item_feature_p.fillna(0))\n",
    "item_feature_p.head()"
   ]
  },
  {
   "cell_type": "markdown",
   "metadata": {
    "tags": []
   },
   "source": [
    "## candidate_items => vector"
   ]
  },
  {
   "cell_type": "code",
   "execution_count": 17,
   "metadata": {},
   "outputs": [
    {
     "name": "stdout",
     "output_type": "stream",
     "text": [
      "time: 325 µs (started: 2022-06-07 17:07:41 +00:00)\n"
     ]
    }
   ],
   "source": [
    "def items2vec(_df_item,_session_items):\n",
    "    session_vec = np.sum(_df_item.loc[pd.Index(_session_items)]).values\n",
    "    return session_vec "
   ]
  },
  {
   "cell_type": "code",
   "execution_count": 18,
   "metadata": {},
   "outputs": [
    {
     "name": "stdout",
     "output_type": "stream",
     "text": [
      "time: 1.13 s (started: 2022-06-07 17:07:42 +00:00)\n"
     ]
    }
   ],
   "source": [
    "item_feature_reset_ind = item_feature_p.reset_index()\n",
    "candidate_raw = pd.read_csv(\"../../recsys2022/candidate_items.csv\")\n",
    "candidate_vector = pd.merge(candidate_raw, item_feature_reset_ind, how='left', on=\"item_id\")\n",
    "candidate_vector.to_csv(\"../datasets/candidate_vector.csv\", index=False)"
   ]
  },
  {
   "cell_type": "markdown",
   "metadata": {},
   "source": [
    "### retrieve the candidate only shows in specific period"
   ]
  },
  {
   "cell_type": "code",
   "execution_count": 21,
   "metadata": {
    "tags": []
   },
   "outputs": [
    {
     "data": {
      "text/plain": [
       "'len of purchases_last_1_item_set:4045, len of candidate_raw_itemset:4990, len of candidate_last_1_itemset :3742'"
      ]
     },
     "metadata": {},
     "output_type": "display_data"
    },
    {
     "data": {
      "text/plain": [
       "'len of candidate_last_1_df :3742'"
      ]
     },
     "metadata": {},
     "output_type": "display_data"
    },
    {
     "name": "stdout",
     "output_type": "stream",
     "text": [
      "time: 57.5 ms (started: 2022-06-07 17:09:25 +00:00)\n"
     ]
    }
   ],
   "source": [
    "purchases_last_df = pd.read_csv('../datasets/purchases_last_05m.csv')\n",
    "purchases_last_itemset = set(purchases_last_df['item_id']) \n",
    "candidate_raw_itemset= set(candidate_raw['item_id']) \n",
    "candidate_last_itemset = purchases_last_itemset.intersection(candidate_raw_itemset)\n",
    "candidate_last_df = pd.merge(candidate_raw, purchases_last_df['item_id']).drop_duplicates()\n",
    "display(f\"len of purchases_last_1_item_set:{len(purchases_last_itemset)}, len of candidate_raw_itemset:{len( candidate_raw_itemset)}, len of candidate_last_1_itemset :{len( candidate_last_itemset)}\")\n",
    "display(f\"len of candidate_last_1_df :{len(candidate_last_df)}\")"
   ]
  },
  {
   "cell_type": "code",
   "execution_count": null,
   "metadata": {},
   "outputs": [],
   "source": [
    "candidate_last_vector = pd.merge(candidate_last_df, item_feature_reset_ind, how='left', on=\"item_id\")\n",
    "candidate_last_vector.to_csv(\"../datasets/candidate_last_05m_vector.csv\", index=False)"
   ]
  },
  {
   "cell_type": "markdown",
   "metadata": {},
   "source": [
    "## Check length of  item set train&purchases"
   ]
  },
  {
   "cell_type": "code",
   "execution_count": null,
   "metadata": {},
   "outputs": [],
   "source": [
    "purchases_raw_df = pd.read_csv(\"../../recsys2022/train_purchases.csv\")\n",
    "train_raw_df = pd.read_csv(\"../../recsys2022/train_sessions.csv\")\n",
    "purchases_itemset = set(purchases_raw_df['item_id'])\n",
    "train_itemset = set(train_raw_df['item_id'])\n",
    "display(purchases_raw_df.head(), train_raw_df.head())\n",
    "display(f\"len of purchase_item_set:{len(purchases_itemset)}, len of train_item_set:{len(train_itemset)}\")"
   ]
  },
  {
   "cell_type": "code",
   "execution_count": null,
   "metadata": {},
   "outputs": [],
   "source": []
  },
  {
   "cell_type": "code",
   "execution_count": null,
   "metadata": {},
   "outputs": [],
   "source": []
  }
 ],
 "metadata": {
  "colab": {
   "name": "WSM_Pre.ipynb",
   "provenance": []
  },
  "kernelspec": {
   "display_name": "Python 3 (ipykernel)",
   "language": "python",
   "name": "python3"
  },
  "language_info": {
   "codemirror_mode": {
    "name": "ipython",
    "version": 3
   },
   "file_extension": ".py",
   "mimetype": "text/x-python",
   "name": "python",
   "nbconvert_exporter": "python",
   "pygments_lexer": "ipython3",
   "version": "3.8.9"
  }
 },
 "nbformat": 4,
 "nbformat_minor": 4
}
