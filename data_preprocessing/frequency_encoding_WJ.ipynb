{
 "cells": [
  {
   "cell_type": "code",
   "execution_count": 1,
   "metadata": {},
   "outputs": [],
   "source": [
    "def frequency_encoding(data,saveloc):\n",
    "    frequency = data.feature_value_id.value_counts()\n",
    "    temp = []\n",
    "    for i in frequency.items():\n",
    "        if i[1] in temp:\n",
    "            a = i[1]\n",
    "            while a in temp:\n",
    "                a += 1\n",
    "            temp.append(a)\n",
    "            frequency[i[0]] = a\n",
    "        else:\n",
    "            temp.append(i[1])\n",
    "    temp = []\n",
    "    for i in data.feature_value_id:\n",
    "        temp.append(frequency[i])\n",
    "    data.feature_value_id = temp\n",
    "    encoding(data, saveloc)\n"
   ]
  },
  {
   "cell_type": "code",
   "execution_count": 2,
   "metadata": {},
   "outputs": [],
   "source": [
    "#感謝label_encoding讓我參考\n",
    "def encoding(df, saveloc):\n",
    "    df['feature_category_id'] = df['feature_category_id'].apply(str)\n",
    "    s = df.groupby(['item_id', 'feature_category_id']).cumcount()\n",
    "    df['feature_category_id'] = (df.feature_category_id +'_'+ (s+1).astype(str) ).fillna(df.feature_category_id)\n",
    "    group = df.pivot_table(index=\"item_id\", columns='feature_category_id',values=\"feature_value_id\")\n",
    "    group = group.fillna(0)\n",
    "    group.sort_index(ascending=True)\n",
    "    group.to_csv(saveloc)"
   ]
  },
  {
   "cell_type": "code",
   "execution_count": 4,
   "metadata": {},
   "outputs": [],
   "source": [
    "#我深思了以後發現甚麼都不做是最好的XD\n",
    "#frequency_encoding是對value做，如果能對category_id做就好可是又不實用\n",
    "import pandas as pd\n",
    "data = pd.read_csv(\"../datasets/item_features.csv\")\n",
    "encoding(data, '../datasets/no_encoding.csv')\n",
    "frequency_encoding(data,'../datasets/frequency_encoding.csv')"
   ]
  }
 ],
 "metadata": {
  "interpreter": {
   "hash": "e5bdad7743184085acdc7c794a1a106616c8556b2c41bc2829fa5ce9209b0713"
  },
  "kernelspec": {
   "display_name": "Python 3 (ipykernel)",
   "language": "python",
   "name": "python3"
  },
  "language_info": {
   "codemirror_mode": {
    "name": "ipython",
    "version": 3
   },
   "file_extension": ".py",
   "mimetype": "text/x-python",
   "name": "python",
   "nbconvert_exporter": "python",
   "pygments_lexer": "ipython3",
   "version": "3.8.9"
  }
 },
 "nbformat": 4,
 "nbformat_minor": 4
}
